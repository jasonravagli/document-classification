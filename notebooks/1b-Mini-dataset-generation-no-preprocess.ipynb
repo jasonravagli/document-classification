{
 "cells": [
  {
   "cell_type": "markdown",
   "metadata": {},
   "source": [
    "# Mini-dataset generation"
   ]
  },
  {
   "cell_type": "code",
   "execution_count": 13,
   "metadata": {},
   "outputs": [
    {
     "name": "stdout",
     "output_type": "stream",
     "text": [
      "The memory_profiler extension is already loaded. To reload it, use:\n",
      "  %reload_ext memory_profiler\n",
      "The line_profiler extension is already loaded. To reload it, use:\n",
      "  %reload_ext line_profiler\n"
     ]
    }
   ],
   "source": [
    "import os\n",
    "from shutil import copyfile\n",
    "from shutil import rmtree\n",
    "import cv2\n",
    "import numpy as np\n",
    "import pandas as pd\n",
    "from tqdm import tqdm\n",
    "\n",
    "%load_ext memory_profiler\n",
    "%load_ext line_profiler"
   ]
  },
  {
   "cell_type": "markdown",
   "metadata": {},
   "source": [
    "##### Global parameters:"
   ]
  },
  {
   "cell_type": "code",
   "execution_count": 14,
   "metadata": {},
   "outputs": [],
   "source": [
    "dataset_path = \"/Volumes/Part1/datasets/rvl-cdip\"\n",
    "images_folder_path = os.path.join(dataset_path, \"images\")\n",
    "project_folder = \"/Users/jasonravagli/Desktop/Scuola/Università-Magistrale/data-and-document-mining/document-classification\"\n",
    "resources_folder = os.path.join(project_folder, \"resources\")\n",
    "output_dataset_folder = os.path.join(resources_folder, \"output\", \"mini-dataset\")\n",
    "debug_folder = os.path.join(resources_folder, \"debug\")\n",
    "\n",
    "# Number of images classes\n",
    "n_classes = 16\n",
    "\n",
    "# Dimensions of the dataset to be generated\n",
    "mini_train_set_dimension = 32000\n",
    "mini_valid_set_dimension = 4000\n",
    "mini_test_set_dimension =  4000"
   ]
  },
  {
   "cell_type": "markdown",
   "metadata": {},
   "source": [
    "#### Setup folders"
   ]
  },
  {
   "cell_type": "code",
   "execution_count": 15,
   "metadata": {},
   "outputs": [],
   "source": [
    "# Delete already existing dataset output folder\n",
    "rmtree(output_dataset_folder, ignore_errors=True)\n",
    "\n",
    "os.makedirs(output_dataset_folder)\n",
    "os.makedirs(debug_folder, exist_ok=True)\n",
    "\n",
    "# Folders to manually check some processed images\n",
    "debug_folder_reshaped_imgs = os.path.join(debug_folder, \"reshaped_imgs\")\n",
    "\n",
    "# Folders to manually check some images read from the generated dataset\n",
    "debug_folder_dataset_imgs = os.path.join(debug_folder, \"dataset_imgs\")\n",
    "\n",
    "os.makedirs(debug_folder_reshaped_imgs, exist_ok=True)\n",
    "os.makedirs(debug_folder_dataset_imgs, exist_ok=True)"
   ]
  },
  {
   "cell_type": "markdown",
   "metadata": {},
   "source": [
    "Utility function to display dataframe info:"
   ]
  },
  {
   "cell_type": "code",
   "execution_count": 16,
   "metadata": {},
   "outputs": [],
   "source": [
    "def display_info(df=None, rows=5):\n",
    "    try:\n",
    "        print(\"Info\")\n",
    "        df.info(verbose=True)\n",
    "        print(df.shape)\n",
    "        print(\"Head\")\n",
    "        display(df.head(rows))\n",
    "        print(\"Sample\")\n",
    "        display(df.sample(rows))\n",
    "        print(\"Tail\")\n",
    "        display(df.tail(rows))\n",
    "    except:\n",
    "        print(\"Errore nella visualizzazione\")"
   ]
  },
  {
   "cell_type": "markdown",
   "metadata": {},
   "source": [
    "## Data Sampling"
   ]
  },
  {
   "cell_type": "markdown",
   "metadata": {},
   "source": [
    "#### Read the labels files:"
   ]
  },
  {
   "cell_type": "code",
   "execution_count": 17,
   "metadata": {
    "scrolled": true
   },
   "outputs": [
    {
     "name": "stdout",
     "output_type": "stream",
     "text": [
      "peak memory: 210.02 MiB, increment: 70.78 MiB\n",
      "peak memory: 190.66 MiB, increment: -16.45 MiB\n",
      "peak memory: 171.94 MiB, increment: 1.33 MiB\n",
      "Info\n",
      "<class 'pandas.core.frame.DataFrame'>\n",
      "RangeIndex: 320000 entries, 0 to 319999\n",
      "Data columns (total 2 columns):\n",
      " #   Column  Non-Null Count   Dtype \n",
      "---  ------  --------------   ----- \n",
      " 0   image   320000 non-null  object\n",
      " 1   label   320000 non-null  int64 \n",
      "dtypes: int64(1), object(1)\n",
      "memory usage: 4.9+ MB\n",
      "(320000, 2)\n",
      "Head\n"
     ]
    },
    {
     "data": {
      "text/html": [
       "<div>\n",
       "<style scoped>\n",
       "    .dataframe tbody tr th:only-of-type {\n",
       "        vertical-align: middle;\n",
       "    }\n",
       "\n",
       "    .dataframe tbody tr th {\n",
       "        vertical-align: top;\n",
       "    }\n",
       "\n",
       "    .dataframe thead th {\n",
       "        text-align: right;\n",
       "    }\n",
       "</style>\n",
       "<table border=\"1\" class=\"dataframe\">\n",
       "  <thead>\n",
       "    <tr style=\"text-align: right;\">\n",
       "      <th></th>\n",
       "      <th>image</th>\n",
       "      <th>label</th>\n",
       "    </tr>\n",
       "  </thead>\n",
       "  <tbody>\n",
       "    <tr>\n",
       "      <th>0</th>\n",
       "      <td>imagesq/q/o/c/qoc54c00/80035521.tif</td>\n",
       "      <td>15</td>\n",
       "    </tr>\n",
       "    <tr>\n",
       "      <th>1</th>\n",
       "      <td>imagese/e/w/c/ewc23d00/513280028.tif</td>\n",
       "      <td>1</td>\n",
       "    </tr>\n",
       "    <tr>\n",
       "      <th>2</th>\n",
       "      <td>imagesw/w/b/t/wbt26e00/2053453161.tif</td>\n",
       "      <td>7</td>\n",
       "    </tr>\n",
       "    <tr>\n",
       "      <th>3</th>\n",
       "      <td>imagesm/m/k/m/mkm05e00/2040792992_2040792994.tif</td>\n",
       "      <td>10</td>\n",
       "    </tr>\n",
       "    <tr>\n",
       "      <th>4</th>\n",
       "      <td>imageso/o/e/x/oex80d00/522787731+-7732.tif</td>\n",
       "      <td>3</td>\n",
       "    </tr>\n",
       "  </tbody>\n",
       "</table>\n",
       "</div>"
      ],
      "text/plain": [
       "                                              image  label\n",
       "0               imagesq/q/o/c/qoc54c00/80035521.tif     15\n",
       "1              imagese/e/w/c/ewc23d00/513280028.tif      1\n",
       "2             imagesw/w/b/t/wbt26e00/2053453161.tif      7\n",
       "3  imagesm/m/k/m/mkm05e00/2040792992_2040792994.tif     10\n",
       "4        imageso/o/e/x/oex80d00/522787731+-7732.tif      3"
      ]
     },
     "metadata": {},
     "output_type": "display_data"
    },
    {
     "name": "stdout",
     "output_type": "stream",
     "text": [
      "Sample\n"
     ]
    },
    {
     "data": {
      "text/html": [
       "<div>\n",
       "<style scoped>\n",
       "    .dataframe tbody tr th:only-of-type {\n",
       "        vertical-align: middle;\n",
       "    }\n",
       "\n",
       "    .dataframe tbody tr th {\n",
       "        vertical-align: top;\n",
       "    }\n",
       "\n",
       "    .dataframe thead th {\n",
       "        text-align: right;\n",
       "    }\n",
       "</style>\n",
       "<table border=\"1\" class=\"dataframe\">\n",
       "  <thead>\n",
       "    <tr style=\"text-align: right;\">\n",
       "      <th></th>\n",
       "      <th>image</th>\n",
       "      <th>label</th>\n",
       "    </tr>\n",
       "  </thead>\n",
       "  <tbody>\n",
       "    <tr>\n",
       "      <th>246531</th>\n",
       "      <td>imageso/o/p/z/opz01e00/87726883.tif</td>\n",
       "      <td>1</td>\n",
       "    </tr>\n",
       "    <tr>\n",
       "      <th>132047</th>\n",
       "      <td>imagesc/c/k/a/cka08d00/2072098344_8347.tif</td>\n",
       "      <td>12</td>\n",
       "    </tr>\n",
       "    <tr>\n",
       "      <th>244433</th>\n",
       "      <td>imagese/e/v/c/evc88e00/2020158028_2020158030.tif</td>\n",
       "      <td>12</td>\n",
       "    </tr>\n",
       "    <tr>\n",
       "      <th>242141</th>\n",
       "      <td>imagesl/l/x/h/lxh76c00/2077261791.tif</td>\n",
       "      <td>9</td>\n",
       "    </tr>\n",
       "    <tr>\n",
       "      <th>144032</th>\n",
       "      <td>imagesv/v/i/k/vik78e00/2010015407.tif</td>\n",
       "      <td>12</td>\n",
       "    </tr>\n",
       "  </tbody>\n",
       "</table>\n",
       "</div>"
      ],
      "text/plain": [
       "                                                   image  label\n",
       "246531               imageso/o/p/z/opz01e00/87726883.tif      1\n",
       "132047        imagesc/c/k/a/cka08d00/2072098344_8347.tif     12\n",
       "244433  imagese/e/v/c/evc88e00/2020158028_2020158030.tif     12\n",
       "242141             imagesl/l/x/h/lxh76c00/2077261791.tif      9\n",
       "144032             imagesv/v/i/k/vik78e00/2010015407.tif     12"
      ]
     },
     "metadata": {},
     "output_type": "display_data"
    },
    {
     "name": "stdout",
     "output_type": "stream",
     "text": [
      "Tail\n"
     ]
    },
    {
     "data": {
      "text/html": [
       "<div>\n",
       "<style scoped>\n",
       "    .dataframe tbody tr th:only-of-type {\n",
       "        vertical-align: middle;\n",
       "    }\n",
       "\n",
       "    .dataframe tbody tr th {\n",
       "        vertical-align: top;\n",
       "    }\n",
       "\n",
       "    .dataframe thead th {\n",
       "        text-align: right;\n",
       "    }\n",
       "</style>\n",
       "<table border=\"1\" class=\"dataframe\">\n",
       "  <thead>\n",
       "    <tr style=\"text-align: right;\">\n",
       "      <th></th>\n",
       "      <th>image</th>\n",
       "      <th>label</th>\n",
       "    </tr>\n",
       "  </thead>\n",
       "  <tbody>\n",
       "    <tr>\n",
       "      <th>319995</th>\n",
       "      <td>imagesu/u/p/p/upp04f00/0000282789.tif</td>\n",
       "      <td>9</td>\n",
       "    </tr>\n",
       "    <tr>\n",
       "      <th>319996</th>\n",
       "      <td>imagesa/a/c/z/acz60f00/0011972032.tif</td>\n",
       "      <td>15</td>\n",
       "    </tr>\n",
       "    <tr>\n",
       "      <th>319997</th>\n",
       "      <td>imagesu/u/j/m/ujm20a00/10155388.tif</td>\n",
       "      <td>6</td>\n",
       "    </tr>\n",
       "    <tr>\n",
       "      <th>319998</th>\n",
       "      <td>imagesd/d/r/r/drr93f00/0000343578.tif</td>\n",
       "      <td>9</td>\n",
       "    </tr>\n",
       "    <tr>\n",
       "      <th>319999</th>\n",
       "      <td>imagesp/p/j/x/pjx11d00/518223252+-3253.tif</td>\n",
       "      <td>3</td>\n",
       "    </tr>\n",
       "  </tbody>\n",
       "</table>\n",
       "</div>"
      ],
      "text/plain": [
       "                                             image  label\n",
       "319995       imagesu/u/p/p/upp04f00/0000282789.tif      9\n",
       "319996       imagesa/a/c/z/acz60f00/0011972032.tif     15\n",
       "319997         imagesu/u/j/m/ujm20a00/10155388.tif      6\n",
       "319998       imagesd/d/r/r/drr93f00/0000343578.tif      9\n",
       "319999  imagesp/p/j/x/pjx11d00/518223252+-3253.tif      3"
      ]
     },
     "metadata": {},
     "output_type": "display_data"
    }
   ],
   "source": [
    "%memit df_train_labels = pd.read_csv(os.path.join(dataset_path, \"labels/train.txt\"), sep=\" \",\\\n",
    "                                     names=[\"image\", \"label\"], skipinitialspace=True)\n",
    "%memit df_valid_labels = pd.read_csv(os.path.join(dataset_path, \"labels/val.txt\"), sep=\" \",\\\n",
    "                                     names=[\"image\", \"label\"], skipinitialspace=True)\n",
    "%memit df_test_labels = pd.read_csv(os.path.join(dataset_path, \"labels/test.txt\"), sep=\" \",\\\n",
    "                                    names=[\"image\", \"label\"], skipinitialspace=True)\n",
    "\n",
    "# Reset column names because of strange whitespaces added to the column names after reading\n",
    "df_train_labels.columns = [\"image\", \"label\"]\n",
    "df_valid_labels.columns = [\"image\", \"label\"]\n",
    "df_test_labels.columns = [\"image\", \"label\"]\n",
    "\n",
    "# Display some info to verify the correctness of the data read\n",
    "display_info(df_train_labels)"
   ]
  },
  {
   "cell_type": "markdown",
   "metadata": {},
   "source": [
    "#### Random sample data preserving ratio between classes"
   ]
  },
  {
   "cell_type": "code",
   "execution_count": 18,
   "metadata": {},
   "outputs": [],
   "source": [
    "train_data_per_class = mini_train_set_dimension//n_classes\n",
    "valid_data_per_class = mini_valid_set_dimension//n_classes\n",
    "test_data_per_class = mini_test_set_dimension//n_classes\n",
    "\n",
    "df_sampled_train_labels = pd.DataFrame(columns = df_train_labels.columns)\n",
    "df_sampled_valid_labels = pd.DataFrame(columns = df_valid_labels.columns)\n",
    "df_sampled_test_labels = pd.DataFrame(columns = df_test_labels.columns)\n",
    "\n",
    "for i in range(n_classes):\n",
    "    df_sampled_train_labels = pd.concat([df_sampled_train_labels, \\\n",
    "                                         df_train_labels.loc[df_train_labels[\"label\"] == i].sample(n=train_data_per_class)])\n",
    "    df_sampled_valid_labels = pd.concat([df_sampled_valid_labels, \\\n",
    "                                         df_valid_labels.loc[df_valid_labels[\"label\"] == i].sample(n=valid_data_per_class)])\n",
    "    df_sampled_test_labels = pd.concat([df_sampled_test_labels, \\\n",
    "                                         df_test_labels.loc[df_test_labels[\"label\"] == i].sample(n=test_data_per_class)])\n",
    "\n",
    "df_sampled_train_labels = df_sampled_train_labels.sample(frac=1).reset_index(drop=True)\n",
    "df_sampled_valid_labels = df_sampled_valid_labels.sample(frac=1).reset_index(drop=True)\n",
    "df_sampled_test_labels = df_sampled_test_labels.sample(frac=1).reset_index(drop=True)"
   ]
  },
  {
   "cell_type": "markdown",
   "metadata": {},
   "source": [
    "## Data verification and analysis"
   ]
  },
  {
   "cell_type": "markdown",
   "metadata": {},
   "source": [
    "#### Display generated dataframes summaries to verify their correctness"
   ]
  },
  {
   "cell_type": "code",
   "execution_count": 19,
   "metadata": {
    "scrolled": true
   },
   "outputs": [
    {
     "name": "stdout",
     "output_type": "stream",
     "text": [
      "Info\n",
      "<class 'pandas.core.frame.DataFrame'>\n",
      "RangeIndex: 32000 entries, 0 to 31999\n",
      "Data columns (total 2 columns):\n",
      " #   Column  Non-Null Count  Dtype \n",
      "---  ------  --------------  ----- \n",
      " 0   image   32000 non-null  object\n",
      " 1   label   32000 non-null  object\n",
      "dtypes: object(2)\n",
      "memory usage: 500.1+ KB\n",
      "(32000, 2)\n",
      "Head\n"
     ]
    },
    {
     "data": {
      "text/html": [
       "<div>\n",
       "<style scoped>\n",
       "    .dataframe tbody tr th:only-of-type {\n",
       "        vertical-align: middle;\n",
       "    }\n",
       "\n",
       "    .dataframe tbody tr th {\n",
       "        vertical-align: top;\n",
       "    }\n",
       "\n",
       "    .dataframe thead th {\n",
       "        text-align: right;\n",
       "    }\n",
       "</style>\n",
       "<table border=\"1\" class=\"dataframe\">\n",
       "  <thead>\n",
       "    <tr style=\"text-align: right;\">\n",
       "      <th></th>\n",
       "      <th>image</th>\n",
       "      <th>label</th>\n",
       "    </tr>\n",
       "  </thead>\n",
       "  <tbody>\n",
       "    <tr>\n",
       "      <th>0</th>\n",
       "      <td>imagesc/c/x/z/cxz73f00/0001144246.tif</td>\n",
       "      <td>11</td>\n",
       "    </tr>\n",
       "    <tr>\n",
       "      <th>1</th>\n",
       "      <td>imagesl/l/k/i/lki86c00/2081876012.tif</td>\n",
       "      <td>8</td>\n",
       "    </tr>\n",
       "    <tr>\n",
       "      <th>2</th>\n",
       "      <td>imagesf/f/e/e/fee19e00/2058030748.tif</td>\n",
       "      <td>7</td>\n",
       "    </tr>\n",
       "    <tr>\n",
       "      <th>3</th>\n",
       "      <td>imagesw/w/f/q/wfq40d00/517303977+-3978.tif</td>\n",
       "      <td>3</td>\n",
       "    </tr>\n",
       "    <tr>\n",
       "      <th>4</th>\n",
       "      <td>imagesk/k/x/l/kxl22f00/11007258.tif</td>\n",
       "      <td>10</td>\n",
       "    </tr>\n",
       "  </tbody>\n",
       "</table>\n",
       "</div>"
      ],
      "text/plain": [
       "                                        image label\n",
       "0       imagesc/c/x/z/cxz73f00/0001144246.tif    11\n",
       "1       imagesl/l/k/i/lki86c00/2081876012.tif     8\n",
       "2       imagesf/f/e/e/fee19e00/2058030748.tif     7\n",
       "3  imagesw/w/f/q/wfq40d00/517303977+-3978.tif     3\n",
       "4         imagesk/k/x/l/kxl22f00/11007258.tif    10"
      ]
     },
     "metadata": {},
     "output_type": "display_data"
    },
    {
     "name": "stdout",
     "output_type": "stream",
     "text": [
      "Sample\n"
     ]
    },
    {
     "data": {
      "text/html": [
       "<div>\n",
       "<style scoped>\n",
       "    .dataframe tbody tr th:only-of-type {\n",
       "        vertical-align: middle;\n",
       "    }\n",
       "\n",
       "    .dataframe tbody tr th {\n",
       "        vertical-align: top;\n",
       "    }\n",
       "\n",
       "    .dataframe thead th {\n",
       "        text-align: right;\n",
       "    }\n",
       "</style>\n",
       "<table border=\"1\" class=\"dataframe\">\n",
       "  <thead>\n",
       "    <tr style=\"text-align: right;\">\n",
       "      <th></th>\n",
       "      <th>image</th>\n",
       "      <th>label</th>\n",
       "    </tr>\n",
       "  </thead>\n",
       "  <tbody>\n",
       "    <tr>\n",
       "      <th>18724</th>\n",
       "      <td>imagesg/g/l/o/glo14d00/507793386.tif</td>\n",
       "      <td>4</td>\n",
       "    </tr>\n",
       "    <tr>\n",
       "      <th>2776</th>\n",
       "      <td>imagesf/f/c/r/fcr09d00/50454550-4551.tif</td>\n",
       "      <td>14</td>\n",
       "    </tr>\n",
       "    <tr>\n",
       "      <th>5580</th>\n",
       "      <td>imagesc/c/p/r/cpr54c00/01838895_8899.tif</td>\n",
       "      <td>13</td>\n",
       "    </tr>\n",
       "    <tr>\n",
       "      <th>21425</th>\n",
       "      <td>imagesx/x/r/v/xrv75e00/2048691557.tif</td>\n",
       "      <td>10</td>\n",
       "    </tr>\n",
       "    <tr>\n",
       "      <th>19019</th>\n",
       "      <td>imagesd/d/w/h/dwh16e00/2048740161_2048740167.tif</td>\n",
       "      <td>13</td>\n",
       "    </tr>\n",
       "  </tbody>\n",
       "</table>\n",
       "</div>"
      ],
      "text/plain": [
       "                                                  image label\n",
       "18724              imagesg/g/l/o/glo14d00/507793386.tif     4\n",
       "2776           imagesf/f/c/r/fcr09d00/50454550-4551.tif    14\n",
       "5580           imagesc/c/p/r/cpr54c00/01838895_8899.tif    13\n",
       "21425             imagesx/x/r/v/xrv75e00/2048691557.tif    10\n",
       "19019  imagesd/d/w/h/dwh16e00/2048740161_2048740167.tif    13"
      ]
     },
     "metadata": {},
     "output_type": "display_data"
    },
    {
     "name": "stdout",
     "output_type": "stream",
     "text": [
      "Tail\n"
     ]
    },
    {
     "data": {
      "text/html": [
       "<div>\n",
       "<style scoped>\n",
       "    .dataframe tbody tr th:only-of-type {\n",
       "        vertical-align: middle;\n",
       "    }\n",
       "\n",
       "    .dataframe tbody tr th {\n",
       "        vertical-align: top;\n",
       "    }\n",
       "\n",
       "    .dataframe thead th {\n",
       "        text-align: right;\n",
       "    }\n",
       "</style>\n",
       "<table border=\"1\" class=\"dataframe\">\n",
       "  <thead>\n",
       "    <tr style=\"text-align: right;\">\n",
       "      <th></th>\n",
       "      <th>image</th>\n",
       "      <th>label</th>\n",
       "    </tr>\n",
       "  </thead>\n",
       "  <tbody>\n",
       "    <tr>\n",
       "      <th>31995</th>\n",
       "      <td>imagesc/c/a/b/cab05d00/506063154_506063156.tif</td>\n",
       "      <td>4</td>\n",
       "    </tr>\n",
       "    <tr>\n",
       "      <th>31996</th>\n",
       "      <td>imagesy/y/s/g/ysg21d00/515624196+-4198.tif</td>\n",
       "      <td>3</td>\n",
       "    </tr>\n",
       "    <tr>\n",
       "      <th>31997</th>\n",
       "      <td>imagesp/p/k/w/pkw29e00/2501382214.tif</td>\n",
       "      <td>8</td>\n",
       "    </tr>\n",
       "    <tr>\n",
       "      <th>31998</th>\n",
       "      <td>imagesc/c/q/l/cql21e00/87803225.tif</td>\n",
       "      <td>11</td>\n",
       "    </tr>\n",
       "    <tr>\n",
       "      <th>31999</th>\n",
       "      <td>imagesl/l/w/w/lww01d00/517511850+-1854.tif</td>\n",
       "      <td>3</td>\n",
       "    </tr>\n",
       "  </tbody>\n",
       "</table>\n",
       "</div>"
      ],
      "text/plain": [
       "                                                image label\n",
       "31995  imagesc/c/a/b/cab05d00/506063154_506063156.tif     4\n",
       "31996      imagesy/y/s/g/ysg21d00/515624196+-4198.tif     3\n",
       "31997           imagesp/p/k/w/pkw29e00/2501382214.tif     8\n",
       "31998             imagesc/c/q/l/cql21e00/87803225.tif    11\n",
       "31999      imagesl/l/w/w/lww01d00/517511850+-1854.tif     3"
      ]
     },
     "metadata": {},
     "output_type": "display_data"
    }
   ],
   "source": [
    "display_info(df_sampled_train_labels)"
   ]
  },
  {
   "cell_type": "code",
   "execution_count": 20,
   "metadata": {
    "scrolled": true
   },
   "outputs": [
    {
     "name": "stdout",
     "output_type": "stream",
     "text": [
      "Info\n",
      "<class 'pandas.core.frame.DataFrame'>\n",
      "RangeIndex: 4000 entries, 0 to 3999\n",
      "Data columns (total 2 columns):\n",
      " #   Column  Non-Null Count  Dtype \n",
      "---  ------  --------------  ----- \n",
      " 0   image   4000 non-null   object\n",
      " 1   label   4000 non-null   object\n",
      "dtypes: object(2)\n",
      "memory usage: 62.6+ KB\n",
      "(4000, 2)\n",
      "Head\n"
     ]
    },
    {
     "data": {
      "text/html": [
       "<div>\n",
       "<style scoped>\n",
       "    .dataframe tbody tr th:only-of-type {\n",
       "        vertical-align: middle;\n",
       "    }\n",
       "\n",
       "    .dataframe tbody tr th {\n",
       "        vertical-align: top;\n",
       "    }\n",
       "\n",
       "    .dataframe thead th {\n",
       "        text-align: right;\n",
       "    }\n",
       "</style>\n",
       "<table border=\"1\" class=\"dataframe\">\n",
       "  <thead>\n",
       "    <tr style=\"text-align: right;\">\n",
       "      <th></th>\n",
       "      <th>image</th>\n",
       "      <th>label</th>\n",
       "    </tr>\n",
       "  </thead>\n",
       "  <tbody>\n",
       "    <tr>\n",
       "      <th>0</th>\n",
       "      <td>imagesm/m/y/g/myg08c00/527828471+-8471.tif</td>\n",
       "      <td>2</td>\n",
       "    </tr>\n",
       "    <tr>\n",
       "      <th>1</th>\n",
       "      <td>imagesp/p/i/p/pip68e00/2023407789.tif</td>\n",
       "      <td>8</td>\n",
       "    </tr>\n",
       "    <tr>\n",
       "      <th>2</th>\n",
       "      <td>imagesg/g/h/r/ghr32c00/2071483923_3929.tif</td>\n",
       "      <td>5</td>\n",
       "    </tr>\n",
       "    <tr>\n",
       "      <th>3</th>\n",
       "      <td>imagesx/x/f/a/xfa42d00/2063559025_9027.tif</td>\n",
       "      <td>9</td>\n",
       "    </tr>\n",
       "    <tr>\n",
       "      <th>4</th>\n",
       "      <td>imagesb/b/q/i/bqi53c00/94253115_3118.tif</td>\n",
       "      <td>1</td>\n",
       "    </tr>\n",
       "  </tbody>\n",
       "</table>\n",
       "</div>"
      ],
      "text/plain": [
       "                                        image label\n",
       "0  imagesm/m/y/g/myg08c00/527828471+-8471.tif     2\n",
       "1       imagesp/p/i/p/pip68e00/2023407789.tif     8\n",
       "2  imagesg/g/h/r/ghr32c00/2071483923_3929.tif     5\n",
       "3  imagesx/x/f/a/xfa42d00/2063559025_9027.tif     9\n",
       "4    imagesb/b/q/i/bqi53c00/94253115_3118.tif     1"
      ]
     },
     "metadata": {},
     "output_type": "display_data"
    },
    {
     "name": "stdout",
     "output_type": "stream",
     "text": [
      "Sample\n"
     ]
    },
    {
     "data": {
      "text/html": [
       "<div>\n",
       "<style scoped>\n",
       "    .dataframe tbody tr th:only-of-type {\n",
       "        vertical-align: middle;\n",
       "    }\n",
       "\n",
       "    .dataframe tbody tr th {\n",
       "        vertical-align: top;\n",
       "    }\n",
       "\n",
       "    .dataframe thead th {\n",
       "        text-align: right;\n",
       "    }\n",
       "</style>\n",
       "<table border=\"1\" class=\"dataframe\">\n",
       "  <thead>\n",
       "    <tr style=\"text-align: right;\">\n",
       "      <th></th>\n",
       "      <th>image</th>\n",
       "      <th>label</th>\n",
       "    </tr>\n",
       "  </thead>\n",
       "  <tbody>\n",
       "    <tr>\n",
       "      <th>3701</th>\n",
       "      <td>imagesp/p/f/p/pfp3aa00/11233928_11233929.tif</td>\n",
       "      <td>11</td>\n",
       "    </tr>\n",
       "    <tr>\n",
       "      <th>640</th>\n",
       "      <td>imagese/e/u/q/euq55d00/504785521_504785526.tif</td>\n",
       "      <td>13</td>\n",
       "    </tr>\n",
       "    <tr>\n",
       "      <th>2905</th>\n",
       "      <td>imagesb/b/f/p/bfp22d00/2062199378_9380.tif</td>\n",
       "      <td>12</td>\n",
       "    </tr>\n",
       "    <tr>\n",
       "      <th>2423</th>\n",
       "      <td>imagesi/i/c/r/icr94e00/1003175509_1003175519.tif</td>\n",
       "      <td>6</td>\n",
       "    </tr>\n",
       "    <tr>\n",
       "      <th>1926</th>\n",
       "      <td>imagesm/m/w/h/mwh16e00/2048739938_2048739956.tif</td>\n",
       "      <td>13</td>\n",
       "    </tr>\n",
       "  </tbody>\n",
       "</table>\n",
       "</div>"
      ],
      "text/plain": [
       "                                                 image label\n",
       "3701      imagesp/p/f/p/pfp3aa00/11233928_11233929.tif    11\n",
       "640     imagese/e/u/q/euq55d00/504785521_504785526.tif    13\n",
       "2905        imagesb/b/f/p/bfp22d00/2062199378_9380.tif    12\n",
       "2423  imagesi/i/c/r/icr94e00/1003175509_1003175519.tif     6\n",
       "1926  imagesm/m/w/h/mwh16e00/2048739938_2048739956.tif    13"
      ]
     },
     "metadata": {},
     "output_type": "display_data"
    },
    {
     "name": "stdout",
     "output_type": "stream",
     "text": [
      "Tail\n"
     ]
    },
    {
     "data": {
      "text/html": [
       "<div>\n",
       "<style scoped>\n",
       "    .dataframe tbody tr th:only-of-type {\n",
       "        vertical-align: middle;\n",
       "    }\n",
       "\n",
       "    .dataframe tbody tr th {\n",
       "        vertical-align: top;\n",
       "    }\n",
       "\n",
       "    .dataframe thead th {\n",
       "        text-align: right;\n",
       "    }\n",
       "</style>\n",
       "<table border=\"1\" class=\"dataframe\">\n",
       "  <thead>\n",
       "    <tr style=\"text-align: right;\">\n",
       "      <th></th>\n",
       "      <th>image</th>\n",
       "      <th>label</th>\n",
       "    </tr>\n",
       "  </thead>\n",
       "  <tbody>\n",
       "    <tr>\n",
       "      <th>3995</th>\n",
       "      <td>imagesv/v/k/n/vkn69d00/500713769.tif</td>\n",
       "      <td>4</td>\n",
       "    </tr>\n",
       "    <tr>\n",
       "      <th>3996</th>\n",
       "      <td>imagesy/y/x/v/yxv53f00/0001218722.tif</td>\n",
       "      <td>0</td>\n",
       "    </tr>\n",
       "    <tr>\n",
       "      <th>3997</th>\n",
       "      <td>imagesq/q/f/t/qft62c00/2077774819.tif</td>\n",
       "      <td>8</td>\n",
       "    </tr>\n",
       "    <tr>\n",
       "      <th>3998</th>\n",
       "      <td>imagesq/q/o/f/qof71d00/517500869+-0869.tif</td>\n",
       "      <td>4</td>\n",
       "    </tr>\n",
       "    <tr>\n",
       "      <th>3999</th>\n",
       "      <td>imagesd/d/p/u/dpu26c00/2071382966.tif</td>\n",
       "      <td>11</td>\n",
       "    </tr>\n",
       "  </tbody>\n",
       "</table>\n",
       "</div>"
      ],
      "text/plain": [
       "                                           image label\n",
       "3995        imagesv/v/k/n/vkn69d00/500713769.tif     4\n",
       "3996       imagesy/y/x/v/yxv53f00/0001218722.tif     0\n",
       "3997       imagesq/q/f/t/qft62c00/2077774819.tif     8\n",
       "3998  imagesq/q/o/f/qof71d00/517500869+-0869.tif     4\n",
       "3999       imagesd/d/p/u/dpu26c00/2071382966.tif    11"
      ]
     },
     "metadata": {},
     "output_type": "display_data"
    }
   ],
   "source": [
    "display_info(df_sampled_valid_labels)"
   ]
  },
  {
   "cell_type": "code",
   "execution_count": 21,
   "metadata": {
    "scrolled": true
   },
   "outputs": [
    {
     "name": "stdout",
     "output_type": "stream",
     "text": [
      "Info\n",
      "<class 'pandas.core.frame.DataFrame'>\n",
      "RangeIndex: 4000 entries, 0 to 3999\n",
      "Data columns (total 2 columns):\n",
      " #   Column  Non-Null Count  Dtype \n",
      "---  ------  --------------  ----- \n",
      " 0   image   4000 non-null   object\n",
      " 1   label   4000 non-null   object\n",
      "dtypes: object(2)\n",
      "memory usage: 62.6+ KB\n",
      "(4000, 2)\n",
      "Head\n"
     ]
    },
    {
     "data": {
      "text/html": [
       "<div>\n",
       "<style scoped>\n",
       "    .dataframe tbody tr th:only-of-type {\n",
       "        vertical-align: middle;\n",
       "    }\n",
       "\n",
       "    .dataframe tbody tr th {\n",
       "        vertical-align: top;\n",
       "    }\n",
       "\n",
       "    .dataframe thead th {\n",
       "        text-align: right;\n",
       "    }\n",
       "</style>\n",
       "<table border=\"1\" class=\"dataframe\">\n",
       "  <thead>\n",
       "    <tr style=\"text-align: right;\">\n",
       "      <th></th>\n",
       "      <th>image</th>\n",
       "      <th>label</th>\n",
       "    </tr>\n",
       "  </thead>\n",
       "  <tbody>\n",
       "    <tr>\n",
       "      <th>0</th>\n",
       "      <td>imagesq/q/i/e/qie40e00/87636525_87636526.tif</td>\n",
       "      <td>5</td>\n",
       "    </tr>\n",
       "    <tr>\n",
       "      <th>1</th>\n",
       "      <td>imagesl/l/q/u/lqu71a00/2057467166_2057467167.tif</td>\n",
       "      <td>7</td>\n",
       "    </tr>\n",
       "    <tr>\n",
       "      <th>2</th>\n",
       "      <td>imagesg/g/w/m/gwm20c00/2085792115a.tif</td>\n",
       "      <td>2</td>\n",
       "    </tr>\n",
       "    <tr>\n",
       "      <th>3</th>\n",
       "      <td>imagesg/g/u/v/guv45c00/2076334356.tif</td>\n",
       "      <td>8</td>\n",
       "    </tr>\n",
       "    <tr>\n",
       "      <th>4</th>\n",
       "      <td>imagesw/w/n/l/wnl01d00/522196788+-6788.tif</td>\n",
       "      <td>1</td>\n",
       "    </tr>\n",
       "  </tbody>\n",
       "</table>\n",
       "</div>"
      ],
      "text/plain": [
       "                                              image label\n",
       "0      imagesq/q/i/e/qie40e00/87636525_87636526.tif     5\n",
       "1  imagesl/l/q/u/lqu71a00/2057467166_2057467167.tif     7\n",
       "2            imagesg/g/w/m/gwm20c00/2085792115a.tif     2\n",
       "3             imagesg/g/u/v/guv45c00/2076334356.tif     8\n",
       "4        imagesw/w/n/l/wnl01d00/522196788+-6788.tif     1"
      ]
     },
     "metadata": {},
     "output_type": "display_data"
    },
    {
     "name": "stdout",
     "output_type": "stream",
     "text": [
      "Sample\n"
     ]
    },
    {
     "data": {
      "text/html": [
       "<div>\n",
       "<style scoped>\n",
       "    .dataframe tbody tr th:only-of-type {\n",
       "        vertical-align: middle;\n",
       "    }\n",
       "\n",
       "    .dataframe tbody tr th {\n",
       "        vertical-align: top;\n",
       "    }\n",
       "\n",
       "    .dataframe thead th {\n",
       "        text-align: right;\n",
       "    }\n",
       "</style>\n",
       "<table border=\"1\" class=\"dataframe\">\n",
       "  <thead>\n",
       "    <tr style=\"text-align: right;\">\n",
       "      <th></th>\n",
       "      <th>image</th>\n",
       "      <th>label</th>\n",
       "    </tr>\n",
       "  </thead>\n",
       "  <tbody>\n",
       "    <tr>\n",
       "      <th>3781</th>\n",
       "      <td>imagese/e/j/f/ejf02c00/2085011720_1738.tif</td>\n",
       "      <td>13</td>\n",
       "    </tr>\n",
       "    <tr>\n",
       "      <th>1111</th>\n",
       "      <td>imagesd/d/q/y/dqy60c00/2078195527b_5529.tif</td>\n",
       "      <td>9</td>\n",
       "    </tr>\n",
       "    <tr>\n",
       "      <th>1920</th>\n",
       "      <td>imagesm/m/h/k/mhk35d00/505019415_505019417.tif</td>\n",
       "      <td>3</td>\n",
       "    </tr>\n",
       "    <tr>\n",
       "      <th>2396</th>\n",
       "      <td>imagesq/q/s/n/qsn53c00/95602469.tif</td>\n",
       "      <td>11</td>\n",
       "    </tr>\n",
       "    <tr>\n",
       "      <th>2771</th>\n",
       "      <td>imagesg/g/m/o/gmo69c00/50171367-1367.tif</td>\n",
       "      <td>15</td>\n",
       "    </tr>\n",
       "  </tbody>\n",
       "</table>\n",
       "</div>"
      ],
      "text/plain": [
       "                                               image label\n",
       "3781      imagese/e/j/f/ejf02c00/2085011720_1738.tif    13\n",
       "1111     imagesd/d/q/y/dqy60c00/2078195527b_5529.tif     9\n",
       "1920  imagesm/m/h/k/mhk35d00/505019415_505019417.tif     3\n",
       "2396             imagesq/q/s/n/qsn53c00/95602469.tif    11\n",
       "2771        imagesg/g/m/o/gmo69c00/50171367-1367.tif    15"
      ]
     },
     "metadata": {},
     "output_type": "display_data"
    },
    {
     "name": "stdout",
     "output_type": "stream",
     "text": [
      "Tail\n"
     ]
    },
    {
     "data": {
      "text/html": [
       "<div>\n",
       "<style scoped>\n",
       "    .dataframe tbody tr th:only-of-type {\n",
       "        vertical-align: middle;\n",
       "    }\n",
       "\n",
       "    .dataframe tbody tr th {\n",
       "        vertical-align: top;\n",
       "    }\n",
       "\n",
       "    .dataframe thead th {\n",
       "        text-align: right;\n",
       "    }\n",
       "</style>\n",
       "<table border=\"1\" class=\"dataframe\">\n",
       "  <thead>\n",
       "    <tr style=\"text-align: right;\">\n",
       "      <th></th>\n",
       "      <th>image</th>\n",
       "      <th>label</th>\n",
       "    </tr>\n",
       "  </thead>\n",
       "  <tbody>\n",
       "    <tr>\n",
       "      <th>3995</th>\n",
       "      <td>imagesx/x/p/f/xpf80f00/0011920196.tif</td>\n",
       "      <td>7</td>\n",
       "    </tr>\n",
       "    <tr>\n",
       "      <th>3996</th>\n",
       "      <td>imagesr/r/b/t/rbt67e00/2063576176.tif</td>\n",
       "      <td>11</td>\n",
       "    </tr>\n",
       "    <tr>\n",
       "      <th>3997</th>\n",
       "      <td>imagesq/q/h/q/qhq84e00/1000291086.tif</td>\n",
       "      <td>13</td>\n",
       "    </tr>\n",
       "    <tr>\n",
       "      <th>3998</th>\n",
       "      <td>imagesh/h/d/y/hdy08d00/2070124004_4008.tif</td>\n",
       "      <td>13</td>\n",
       "    </tr>\n",
       "    <tr>\n",
       "      <th>3999</th>\n",
       "      <td>imagesb/b/r/i/bri35d00/505027324_505027325.tif</td>\n",
       "      <td>0</td>\n",
       "    </tr>\n",
       "  </tbody>\n",
       "</table>\n",
       "</div>"
      ],
      "text/plain": [
       "                                               image label\n",
       "3995           imagesx/x/p/f/xpf80f00/0011920196.tif     7\n",
       "3996           imagesr/r/b/t/rbt67e00/2063576176.tif    11\n",
       "3997           imagesq/q/h/q/qhq84e00/1000291086.tif    13\n",
       "3998      imagesh/h/d/y/hdy08d00/2070124004_4008.tif    13\n",
       "3999  imagesb/b/r/i/bri35d00/505027324_505027325.tif     0"
      ]
     },
     "metadata": {},
     "output_type": "display_data"
    }
   ],
   "source": [
    "display_info(df_sampled_test_labels)"
   ]
  },
  {
   "cell_type": "markdown",
   "metadata": {},
   "source": [
    "## Mini-dataset generation"
   ]
  },
  {
   "cell_type": "markdown",
   "metadata": {},
   "source": [
    "### Functions"
   ]
  },
  {
   "cell_type": "markdown",
   "metadata": {},
   "source": [
    "**generate_minidataset**: Creates in the specified hdf5 file a dataset with name _dataset_name_ and fills the dataset with the images in the dataframe _df_ as they are, without any preprocessing operations"
   ]
  },
  {
   "cell_type": "code",
   "execution_count": 22,
   "metadata": {},
   "outputs": [],
   "source": [
    "def generate_minidataset(df, dataset_name):\n",
    "    batch_dimension = 64\n",
    "    n_imgs = len(df.index)\n",
    "\n",
    "    print(\"Generating dataset \" + dataset_name + \" - \" + str(n_imgs) + \" images\")\n",
    "    \n",
    "    # Matrix containing img_path - label\n",
    "    matrix_labels = np.empty((n_imgs, 2), dtype=np.object)\n",
    "    \n",
    "    img_counter = 0\n",
    "    max_path_length = 0\n",
    "    for row in tqdm(df.itertuples()):\n",
    "        ten_thousand = img_counter // 10**4 % 10\n",
    "        thousand = img_counter // 10**3 % 10\n",
    "        hundred = img_counter // 10**2 % 10\n",
    "        ten = img_counter // 10 % 10\n",
    "        unit = img_counter % 10\n",
    "        \n",
    "        dest_folder_path = os.path.join(output_dataset_folder, dataset_name, str(ten_thousand), str(thousand), str(hundred), str(ten), str(unit))\n",
    "        image_name = os.path.basename(row.image)\n",
    "        img_abs_path = os.path.join(dest_folder_path, image_name)\n",
    "        img_relative_path = os.path.join(dataset_name, str(ten_thousand), str(thousand), str(hundred), str(ten), str(unit), image_name)\n",
    "        \n",
    "        os.makedirs(dest_folder_path, exist_ok=True)\n",
    "        copyfile(os.path.join(images_folder_path, row.image), img_abs_path)\n",
    "        \n",
    "        matrix_labels[img_counter, 0] = img_relative_path\n",
    "        matrix_labels[img_counter, 1] = str(row.label)\n",
    "        \n",
    "        if len(img_relative_path) > max_path_length:\n",
    "            max_path_length = len(img_relative_path)\n",
    "            \n",
    "        img_counter += 1\n",
    "    # Save images relative paths and associated labels in a csv file    \n",
    "    np.savetxt(os.path.join(output_dataset_folder, dataset_name + '-labels.csv'), matrix_labels, delimiter=',', fmt='%s')"
   ]
  },
  {
   "cell_type": "markdown",
   "metadata": {},
   "source": [
    "#### Generates the mini-dataset"
   ]
  },
  {
   "cell_type": "code",
   "execution_count": 23,
   "metadata": {
    "scrolled": true
   },
   "outputs": [
    {
     "name": "stderr",
     "output_type": "stream",
     "text": [
      "\r",
      "0it [00:00, ?it/s]"
     ]
    },
    {
     "name": "stdout",
     "output_type": "stream",
     "text": [
      "Generating dataset train - 32000 images\n"
     ]
    },
    {
     "name": "stderr",
     "output_type": "stream",
     "text": [
      "32000it [44:47, 11.91it/s]\n",
      "2it [00:00, 17.58it/s]"
     ]
    },
    {
     "name": "stdout",
     "output_type": "stream",
     "text": [
      "Generating dataset valid - 4000 images\n"
     ]
    },
    {
     "name": "stderr",
     "output_type": "stream",
     "text": [
      "4000it [05:26, 12.23it/s]\n",
      "2it [00:00, 13.35it/s]"
     ]
    },
    {
     "name": "stdout",
     "output_type": "stream",
     "text": [
      "Generating dataset test - 4000 images\n"
     ]
    },
    {
     "name": "stderr",
     "output_type": "stream",
     "text": [
      "4000it [05:36, 11.90it/s]\n"
     ]
    }
   ],
   "source": [
    "generate_minidataset(df_sampled_train_labels, \"train\")\n",
    "generate_minidataset(df_sampled_valid_labels, \"valid\")\n",
    "generate_minidataset(df_sampled_test_labels, \"test\")"
   ]
  }
 ],
 "metadata": {
  "kernelspec": {
   "display_name": "Python 3",
   "language": "python",
   "name": "python3"
  },
  "language_info": {
   "codemirror_mode": {
    "name": "ipython",
    "version": 3
   },
   "file_extension": ".py",
   "mimetype": "text/x-python",
   "name": "python",
   "nbconvert_exporter": "python",
   "pygments_lexer": "ipython3",
   "version": "3.7.6"
  }
 },
 "nbformat": 4,
 "nbformat_minor": 4
}
