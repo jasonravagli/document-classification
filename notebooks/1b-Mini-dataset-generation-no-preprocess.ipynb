{
 "cells": [
  {
   "cell_type": "markdown",
   "metadata": {},
   "source": [
    "# Mini-dataset generation"
   ]
  },
  {
   "cell_type": "code",
   "execution_count": 26,
   "metadata": {},
   "outputs": [
    {
     "name": "stdout",
     "output_type": "stream",
     "text": [
      "The memory_profiler extension is already loaded. To reload it, use:\n",
      "  %reload_ext memory_profiler\n",
      "The line_profiler extension is already loaded. To reload it, use:\n",
      "  %reload_ext line_profiler\n"
     ]
    }
   ],
   "source": [
    "import os\n",
    "from shutil import copyfile\n",
    "from shutil import rmtree\n",
    "import h5py\n",
    "import cv2\n",
    "import numpy as np\n",
    "import pandas as pd\n",
    "from tqdm import tqdm\n",
    "\n",
    "%load_ext memory_profiler\n",
    "%load_ext line_profiler"
   ]
  },
  {
   "cell_type": "markdown",
   "metadata": {},
   "source": [
    "##### Global parameters:"
   ]
  },
  {
   "cell_type": "code",
   "execution_count": 27,
   "metadata": {},
   "outputs": [],
   "source": [
    "dataset_path = \"/Volumes/Part1/datasets/rvl-cdip\"\n",
    "images_folder_path = os.path.join(dataset_path, \"images\")\n",
    "project_folder = \"/Users/jasonravagli/Desktop/Scuola/Università-Magistrale/data-and-document-mining/document-classification\"\n",
    "resources_folder = os.path.join(project_folder, \"resources\")\n",
    "output_dataset_folder = os.path.join(resources_folder, \"output\", \"mini-dataset\")\n",
    "debug_folder = os.path.join(resources_folder, \"debug\")\n",
    "\n",
    "# Number of images classes\n",
    "n_classes = 16\n",
    "\n",
    "# Dimensions of the dataset to be generated\n",
    "mini_train_set_dimension = 1500\n",
    "mini_valid_set_dimension = 300\n",
    "mini_test_set_dimension =  200"
   ]
  },
  {
   "cell_type": "markdown",
   "metadata": {},
   "source": [
    "#### Setup folders"
   ]
  },
  {
   "cell_type": "code",
   "execution_count": 28,
   "metadata": {},
   "outputs": [],
   "source": [
    "# Delete already existing dataset output folder\n",
    "rmtree(output_dataset_folder, ignore_errors=True)\n",
    "\n",
    "os.makedirs(output_dataset_folder)\n",
    "os.makedirs(debug_folder, exist_ok=True)\n",
    "\n",
    "# Folders to manually check some processed images\n",
    "debug_folder_reshaped_imgs = os.path.join(debug_folder, \"reshaped_imgs\")\n",
    "\n",
    "# Folders to manually check some images read from the generated dataset\n",
    "debug_folder_dataset_imgs = os.path.join(debug_folder, \"dataset_imgs\")\n",
    "\n",
    "os.makedirs(debug_folder_reshaped_imgs, exist_ok=True)\n",
    "os.makedirs(debug_folder_dataset_imgs, exist_ok=True)"
   ]
  },
  {
   "cell_type": "markdown",
   "metadata": {},
   "source": [
    "Utility function to display dataframe info:"
   ]
  },
  {
   "cell_type": "code",
   "execution_count": 29,
   "metadata": {},
   "outputs": [],
   "source": [
    "def display_info(df=None, rows=5):\n",
    "    try:\n",
    "        print(\"Info\")\n",
    "        df.info(verbose=True)\n",
    "        print(df.shape)\n",
    "        print(\"Head\")\n",
    "        display(df.head(rows))\n",
    "        print(\"Sample\")\n",
    "        display(df.sample(rows))\n",
    "        print(\"Tail\")\n",
    "        display(df.tail(rows))\n",
    "    except:\n",
    "        print(\"Errore nella visualizzazione\")"
   ]
  },
  {
   "cell_type": "markdown",
   "metadata": {},
   "source": [
    "## Data Sampling"
   ]
  },
  {
   "cell_type": "markdown",
   "metadata": {},
   "source": [
    "#### Read the labels files:"
   ]
  },
  {
   "cell_type": "code",
   "execution_count": 30,
   "metadata": {
    "scrolled": true
   },
   "outputs": [
    {
     "name": "stdout",
     "output_type": "stream",
     "text": [
      "peak memory: 349.48 MiB, increment: 68.36 MiB\n",
      "peak memory: 318.63 MiB, increment: -22.58 MiB\n",
      "peak memory: 317.61 MiB, increment: 3.25 MiB\n",
      "Info\n",
      "<class 'pandas.core.frame.DataFrame'>\n",
      "RangeIndex: 320000 entries, 0 to 319999\n",
      "Data columns (total 2 columns):\n",
      " #   Column  Non-Null Count   Dtype \n",
      "---  ------  --------------   ----- \n",
      " 0   image   320000 non-null  object\n",
      " 1   label   320000 non-null  int64 \n",
      "dtypes: int64(1), object(1)\n",
      "memory usage: 4.9+ MB\n",
      "(320000, 2)\n",
      "Head\n"
     ]
    },
    {
     "data": {
      "text/html": [
       "<div>\n",
       "<style scoped>\n",
       "    .dataframe tbody tr th:only-of-type {\n",
       "        vertical-align: middle;\n",
       "    }\n",
       "\n",
       "    .dataframe tbody tr th {\n",
       "        vertical-align: top;\n",
       "    }\n",
       "\n",
       "    .dataframe thead th {\n",
       "        text-align: right;\n",
       "    }\n",
       "</style>\n",
       "<table border=\"1\" class=\"dataframe\">\n",
       "  <thead>\n",
       "    <tr style=\"text-align: right;\">\n",
       "      <th></th>\n",
       "      <th>image</th>\n",
       "      <th>label</th>\n",
       "    </tr>\n",
       "  </thead>\n",
       "  <tbody>\n",
       "    <tr>\n",
       "      <th>0</th>\n",
       "      <td>imagesq/q/o/c/qoc54c00/80035521.tif</td>\n",
       "      <td>15</td>\n",
       "    </tr>\n",
       "    <tr>\n",
       "      <th>1</th>\n",
       "      <td>imagese/e/w/c/ewc23d00/513280028.tif</td>\n",
       "      <td>1</td>\n",
       "    </tr>\n",
       "    <tr>\n",
       "      <th>2</th>\n",
       "      <td>imagesw/w/b/t/wbt26e00/2053453161.tif</td>\n",
       "      <td>7</td>\n",
       "    </tr>\n",
       "    <tr>\n",
       "      <th>3</th>\n",
       "      <td>imagesm/m/k/m/mkm05e00/2040792992_2040792994.tif</td>\n",
       "      <td>10</td>\n",
       "    </tr>\n",
       "    <tr>\n",
       "      <th>4</th>\n",
       "      <td>imageso/o/e/x/oex80d00/522787731+-7732.tif</td>\n",
       "      <td>3</td>\n",
       "    </tr>\n",
       "  </tbody>\n",
       "</table>\n",
       "</div>"
      ],
      "text/plain": [
       "                                              image  label\n",
       "0               imagesq/q/o/c/qoc54c00/80035521.tif     15\n",
       "1              imagese/e/w/c/ewc23d00/513280028.tif      1\n",
       "2             imagesw/w/b/t/wbt26e00/2053453161.tif      7\n",
       "3  imagesm/m/k/m/mkm05e00/2040792992_2040792994.tif     10\n",
       "4        imageso/o/e/x/oex80d00/522787731+-7732.tif      3"
      ]
     },
     "metadata": {},
     "output_type": "display_data"
    },
    {
     "name": "stdout",
     "output_type": "stream",
     "text": [
      "Sample\n"
     ]
    },
    {
     "data": {
      "text/html": [
       "<div>\n",
       "<style scoped>\n",
       "    .dataframe tbody tr th:only-of-type {\n",
       "        vertical-align: middle;\n",
       "    }\n",
       "\n",
       "    .dataframe tbody tr th {\n",
       "        vertical-align: top;\n",
       "    }\n",
       "\n",
       "    .dataframe thead th {\n",
       "        text-align: right;\n",
       "    }\n",
       "</style>\n",
       "<table border=\"1\" class=\"dataframe\">\n",
       "  <thead>\n",
       "    <tr style=\"text-align: right;\">\n",
       "      <th></th>\n",
       "      <th>image</th>\n",
       "      <th>label</th>\n",
       "    </tr>\n",
       "  </thead>\n",
       "  <tbody>\n",
       "    <tr>\n",
       "      <th>311843</th>\n",
       "      <td>imagesb/b/c/g/bcg18d00/2048869295.tif</td>\n",
       "      <td>15</td>\n",
       "    </tr>\n",
       "    <tr>\n",
       "      <th>114441</th>\n",
       "      <td>imagesy/y/f/b/yfb17e00/2031309271.tif</td>\n",
       "      <td>7</td>\n",
       "    </tr>\n",
       "    <tr>\n",
       "      <th>147296</th>\n",
       "      <td>imagesv/v/f/u/vfu46e00/2023948549.tif</td>\n",
       "      <td>8</td>\n",
       "    </tr>\n",
       "    <tr>\n",
       "      <th>217494</th>\n",
       "      <td>imagesz/z/c/s/zcs40d00/517235901+-5902.tif</td>\n",
       "      <td>3</td>\n",
       "    </tr>\n",
       "    <tr>\n",
       "      <th>186095</th>\n",
       "      <td>imagesm/m/z/g/mzg80a00/0060015768.tif</td>\n",
       "      <td>15</td>\n",
       "    </tr>\n",
       "  </tbody>\n",
       "</table>\n",
       "</div>"
      ],
      "text/plain": [
       "                                             image  label\n",
       "311843       imagesb/b/c/g/bcg18d00/2048869295.tif     15\n",
       "114441       imagesy/y/f/b/yfb17e00/2031309271.tif      7\n",
       "147296       imagesv/v/f/u/vfu46e00/2023948549.tif      8\n",
       "217494  imagesz/z/c/s/zcs40d00/517235901+-5902.tif      3\n",
       "186095       imagesm/m/z/g/mzg80a00/0060015768.tif     15"
      ]
     },
     "metadata": {},
     "output_type": "display_data"
    },
    {
     "name": "stdout",
     "output_type": "stream",
     "text": [
      "Tail\n"
     ]
    },
    {
     "data": {
      "text/html": [
       "<div>\n",
       "<style scoped>\n",
       "    .dataframe tbody tr th:only-of-type {\n",
       "        vertical-align: middle;\n",
       "    }\n",
       "\n",
       "    .dataframe tbody tr th {\n",
       "        vertical-align: top;\n",
       "    }\n",
       "\n",
       "    .dataframe thead th {\n",
       "        text-align: right;\n",
       "    }\n",
       "</style>\n",
       "<table border=\"1\" class=\"dataframe\">\n",
       "  <thead>\n",
       "    <tr style=\"text-align: right;\">\n",
       "      <th></th>\n",
       "      <th>image</th>\n",
       "      <th>label</th>\n",
       "    </tr>\n",
       "  </thead>\n",
       "  <tbody>\n",
       "    <tr>\n",
       "      <th>319995</th>\n",
       "      <td>imagesu/u/p/p/upp04f00/0000282789.tif</td>\n",
       "      <td>9</td>\n",
       "    </tr>\n",
       "    <tr>\n",
       "      <th>319996</th>\n",
       "      <td>imagesa/a/c/z/acz60f00/0011972032.tif</td>\n",
       "      <td>15</td>\n",
       "    </tr>\n",
       "    <tr>\n",
       "      <th>319997</th>\n",
       "      <td>imagesu/u/j/m/ujm20a00/10155388.tif</td>\n",
       "      <td>6</td>\n",
       "    </tr>\n",
       "    <tr>\n",
       "      <th>319998</th>\n",
       "      <td>imagesd/d/r/r/drr93f00/0000343578.tif</td>\n",
       "      <td>9</td>\n",
       "    </tr>\n",
       "    <tr>\n",
       "      <th>319999</th>\n",
       "      <td>imagesp/p/j/x/pjx11d00/518223252+-3253.tif</td>\n",
       "      <td>3</td>\n",
       "    </tr>\n",
       "  </tbody>\n",
       "</table>\n",
       "</div>"
      ],
      "text/plain": [
       "                                             image  label\n",
       "319995       imagesu/u/p/p/upp04f00/0000282789.tif      9\n",
       "319996       imagesa/a/c/z/acz60f00/0011972032.tif     15\n",
       "319997         imagesu/u/j/m/ujm20a00/10155388.tif      6\n",
       "319998       imagesd/d/r/r/drr93f00/0000343578.tif      9\n",
       "319999  imagesp/p/j/x/pjx11d00/518223252+-3253.tif      3"
      ]
     },
     "metadata": {},
     "output_type": "display_data"
    }
   ],
   "source": [
    "%memit df_train_labels = pd.read_csv(os.path.join(dataset_path, \"labels/train.txt\"), sep=\" \",\\\n",
    "                                     names=[\"image\", \"label\"], skipinitialspace=True)\n",
    "%memit df_valid_labels = pd.read_csv(os.path.join(dataset_path, \"labels/val.txt\"), sep=\" \",\\\n",
    "                                     names=[\"image\", \"label\"], skipinitialspace=True)\n",
    "%memit df_test_labels = pd.read_csv(os.path.join(dataset_path, \"labels/test.txt\"), sep=\" \",\\\n",
    "                                    names=[\"image\", \"label\"], skipinitialspace=True)\n",
    "\n",
    "# Reset column names because of strange whitespaces added to the column names after reading\n",
    "df_train_labels.columns = [\"image\", \"label\"]\n",
    "df_valid_labels.columns = [\"image\", \"label\"]\n",
    "df_test_labels.columns = [\"image\", \"label\"]\n",
    "\n",
    "# Display some info to verify the correctness of the data read\n",
    "display_info(df_train_labels)"
   ]
  },
  {
   "cell_type": "markdown",
   "metadata": {},
   "source": [
    "#### Random sample data preserving ratio between classes"
   ]
  },
  {
   "cell_type": "code",
   "execution_count": 31,
   "metadata": {},
   "outputs": [],
   "source": [
    "train_data_per_class = mini_train_set_dimension//n_classes\n",
    "valid_data_per_class = mini_valid_set_dimension//n_classes\n",
    "test_data_per_class = mini_test_set_dimension//n_classes\n",
    "\n",
    "df_sampled_train_labels = pd.DataFrame(columns = df_train_labels.columns)\n",
    "df_sampled_valid_labels = pd.DataFrame(columns = df_valid_labels.columns)\n",
    "df_sampled_test_labels = pd.DataFrame(columns = df_test_labels.columns)\n",
    "\n",
    "for i in range(n_classes):\n",
    "    df_sampled_train_labels = pd.concat([df_sampled_train_labels, \\\n",
    "                                         df_train_labels.loc[df_train_labels[\"label\"] == i].sample(n=train_data_per_class)])\n",
    "    df_sampled_valid_labels = pd.concat([df_sampled_valid_labels, \\\n",
    "                                         df_valid_labels.loc[df_valid_labels[\"label\"] == i].sample(n=valid_data_per_class)])\n",
    "    df_sampled_test_labels = pd.concat([df_sampled_test_labels, \\\n",
    "                                         df_test_labels.loc[df_test_labels[\"label\"] == i].sample(n=test_data_per_class)])\n",
    "\n",
    "df_sampled_train_labels = df_sampled_train_labels.sample(frac=1).reset_index(drop=True)\n",
    "df_sampled_valid_labels = df_sampled_valid_labels.sample(frac=1).reset_index(drop=True)\n",
    "df_sampled_test_labels = df_sampled_test_labels.sample(frac=1).reset_index(drop=True)"
   ]
  },
  {
   "cell_type": "markdown",
   "metadata": {},
   "source": [
    "## Data verification and analysis"
   ]
  },
  {
   "cell_type": "markdown",
   "metadata": {},
   "source": [
    "#### Display generated dataframes summaries to verify their correctness"
   ]
  },
  {
   "cell_type": "code",
   "execution_count": 32,
   "metadata": {
    "scrolled": true
   },
   "outputs": [
    {
     "name": "stdout",
     "output_type": "stream",
     "text": [
      "Info\n",
      "<class 'pandas.core.frame.DataFrame'>\n",
      "RangeIndex: 1488 entries, 0 to 1487\n",
      "Data columns (total 2 columns):\n",
      " #   Column  Non-Null Count  Dtype \n",
      "---  ------  --------------  ----- \n",
      " 0   image   1488 non-null   object\n",
      " 1   label   1488 non-null   object\n",
      "dtypes: object(2)\n",
      "memory usage: 23.4+ KB\n",
      "(1488, 2)\n",
      "Head\n"
     ]
    },
    {
     "data": {
      "text/html": [
       "<div>\n",
       "<style scoped>\n",
       "    .dataframe tbody tr th:only-of-type {\n",
       "        vertical-align: middle;\n",
       "    }\n",
       "\n",
       "    .dataframe tbody tr th {\n",
       "        vertical-align: top;\n",
       "    }\n",
       "\n",
       "    .dataframe thead th {\n",
       "        text-align: right;\n",
       "    }\n",
       "</style>\n",
       "<table border=\"1\" class=\"dataframe\">\n",
       "  <thead>\n",
       "    <tr style=\"text-align: right;\">\n",
       "      <th></th>\n",
       "      <th>image</th>\n",
       "      <th>label</th>\n",
       "    </tr>\n",
       "  </thead>\n",
       "  <tbody>\n",
       "    <tr>\n",
       "      <th>0</th>\n",
       "      <td>imagesm/m/v/y/mvy78d00/502592915.tif</td>\n",
       "      <td>4</td>\n",
       "    </tr>\n",
       "    <tr>\n",
       "      <th>1</th>\n",
       "      <td>imagesz/z/k/l/zkl56d00/517689505+-9507.tif</td>\n",
       "      <td>3</td>\n",
       "    </tr>\n",
       "    <tr>\n",
       "      <th>2</th>\n",
       "      <td>imagesx/x/d/t/xdt33e00/2048127575.tif</td>\n",
       "      <td>8</td>\n",
       "    </tr>\n",
       "    <tr>\n",
       "      <th>3</th>\n",
       "      <td>imagesk/k/x/r/kxr16d00/50645859-5860.tif</td>\n",
       "      <td>14</td>\n",
       "    </tr>\n",
       "    <tr>\n",
       "      <th>4</th>\n",
       "      <td>imagese/e/i/h/eih01a00/0060154866.tif</td>\n",
       "      <td>8</td>\n",
       "    </tr>\n",
       "  </tbody>\n",
       "</table>\n",
       "</div>"
      ],
      "text/plain": [
       "                                        image label\n",
       "0        imagesm/m/v/y/mvy78d00/502592915.tif     4\n",
       "1  imagesz/z/k/l/zkl56d00/517689505+-9507.tif     3\n",
       "2       imagesx/x/d/t/xdt33e00/2048127575.tif     8\n",
       "3    imagesk/k/x/r/kxr16d00/50645859-5860.tif    14\n",
       "4       imagese/e/i/h/eih01a00/0060154866.tif     8"
      ]
     },
     "metadata": {},
     "output_type": "display_data"
    },
    {
     "name": "stdout",
     "output_type": "stream",
     "text": [
      "Sample\n"
     ]
    },
    {
     "data": {
      "text/html": [
       "<div>\n",
       "<style scoped>\n",
       "    .dataframe tbody tr th:only-of-type {\n",
       "        vertical-align: middle;\n",
       "    }\n",
       "\n",
       "    .dataframe tbody tr th {\n",
       "        vertical-align: top;\n",
       "    }\n",
       "\n",
       "    .dataframe thead th {\n",
       "        text-align: right;\n",
       "    }\n",
       "</style>\n",
       "<table border=\"1\" class=\"dataframe\">\n",
       "  <thead>\n",
       "    <tr style=\"text-align: right;\">\n",
       "      <th></th>\n",
       "      <th>image</th>\n",
       "      <th>label</th>\n",
       "    </tr>\n",
       "  </thead>\n",
       "  <tbody>\n",
       "    <tr>\n",
       "      <th>1154</th>\n",
       "      <td>imagesa/a/f/t/aft91e00/2029135020.tif</td>\n",
       "      <td>1</td>\n",
       "    </tr>\n",
       "    <tr>\n",
       "      <th>1471</th>\n",
       "      <td>imagesi/i/a/f/iaf00e00/94600318.tif</td>\n",
       "      <td>1</td>\n",
       "    </tr>\n",
       "    <tr>\n",
       "      <th>712</th>\n",
       "      <td>imagesv/v/r/u/vru07c00/50688401-8402.tif</td>\n",
       "      <td>14</td>\n",
       "    </tr>\n",
       "    <tr>\n",
       "      <th>355</th>\n",
       "      <td>imagesc/c/n/x/cnx82c00/2081520849a.tif</td>\n",
       "      <td>2</td>\n",
       "    </tr>\n",
       "    <tr>\n",
       "      <th>1313</th>\n",
       "      <td>imagesp/p/f/y/pfy35e00/2040267305.tif</td>\n",
       "      <td>13</td>\n",
       "    </tr>\n",
       "  </tbody>\n",
       "</table>\n",
       "</div>"
      ],
      "text/plain": [
       "                                         image label\n",
       "1154     imagesa/a/f/t/aft91e00/2029135020.tif     1\n",
       "1471       imagesi/i/a/f/iaf00e00/94600318.tif     1\n",
       "712   imagesv/v/r/u/vru07c00/50688401-8402.tif    14\n",
       "355     imagesc/c/n/x/cnx82c00/2081520849a.tif     2\n",
       "1313     imagesp/p/f/y/pfy35e00/2040267305.tif    13"
      ]
     },
     "metadata": {},
     "output_type": "display_data"
    },
    {
     "name": "stdout",
     "output_type": "stream",
     "text": [
      "Tail\n"
     ]
    },
    {
     "data": {
      "text/html": [
       "<div>\n",
       "<style scoped>\n",
       "    .dataframe tbody tr th:only-of-type {\n",
       "        vertical-align: middle;\n",
       "    }\n",
       "\n",
       "    .dataframe tbody tr th {\n",
       "        vertical-align: top;\n",
       "    }\n",
       "\n",
       "    .dataframe thead th {\n",
       "        text-align: right;\n",
       "    }\n",
       "</style>\n",
       "<table border=\"1\" class=\"dataframe\">\n",
       "  <thead>\n",
       "    <tr style=\"text-align: right;\">\n",
       "      <th></th>\n",
       "      <th>image</th>\n",
       "      <th>label</th>\n",
       "    </tr>\n",
       "  </thead>\n",
       "  <tbody>\n",
       "    <tr>\n",
       "      <th>1483</th>\n",
       "      <td>imagesc/c/d/a/cda33f00/0000000870.tif</td>\n",
       "      <td>14</td>\n",
       "    </tr>\n",
       "    <tr>\n",
       "      <th>1484</th>\n",
       "      <td>imagesw/w/n/a/wna82c00/2078738962_8963.tif</td>\n",
       "      <td>12</td>\n",
       "    </tr>\n",
       "    <tr>\n",
       "      <th>1485</th>\n",
       "      <td>imagesn/n/x/p/nxp78d00/502599314.tif</td>\n",
       "      <td>4</td>\n",
       "    </tr>\n",
       "    <tr>\n",
       "      <th>1486</th>\n",
       "      <td>imagesv/v/q/m/vqm42c00/2073092487.tif</td>\n",
       "      <td>9</td>\n",
       "    </tr>\n",
       "    <tr>\n",
       "      <th>1487</th>\n",
       "      <td>imagesl/l/d/p/ldp71c00/2084522006.tif</td>\n",
       "      <td>9</td>\n",
       "    </tr>\n",
       "  </tbody>\n",
       "</table>\n",
       "</div>"
      ],
      "text/plain": [
       "                                           image label\n",
       "1483       imagesc/c/d/a/cda33f00/0000000870.tif    14\n",
       "1484  imagesw/w/n/a/wna82c00/2078738962_8963.tif    12\n",
       "1485        imagesn/n/x/p/nxp78d00/502599314.tif     4\n",
       "1486       imagesv/v/q/m/vqm42c00/2073092487.tif     9\n",
       "1487       imagesl/l/d/p/ldp71c00/2084522006.tif     9"
      ]
     },
     "metadata": {},
     "output_type": "display_data"
    }
   ],
   "source": [
    "display_info(df_sampled_train_labels)"
   ]
  },
  {
   "cell_type": "code",
   "execution_count": 33,
   "metadata": {
    "scrolled": true
   },
   "outputs": [
    {
     "name": "stdout",
     "output_type": "stream",
     "text": [
      "Info\n",
      "<class 'pandas.core.frame.DataFrame'>\n",
      "RangeIndex: 288 entries, 0 to 287\n",
      "Data columns (total 2 columns):\n",
      " #   Column  Non-Null Count  Dtype \n",
      "---  ------  --------------  ----- \n",
      " 0   image   288 non-null    object\n",
      " 1   label   288 non-null    object\n",
      "dtypes: object(2)\n",
      "memory usage: 4.6+ KB\n",
      "(288, 2)\n",
      "Head\n"
     ]
    },
    {
     "data": {
      "text/html": [
       "<div>\n",
       "<style scoped>\n",
       "    .dataframe tbody tr th:only-of-type {\n",
       "        vertical-align: middle;\n",
       "    }\n",
       "\n",
       "    .dataframe tbody tr th {\n",
       "        vertical-align: top;\n",
       "    }\n",
       "\n",
       "    .dataframe thead th {\n",
       "        text-align: right;\n",
       "    }\n",
       "</style>\n",
       "<table border=\"1\" class=\"dataframe\">\n",
       "  <thead>\n",
       "    <tr style=\"text-align: right;\">\n",
       "      <th></th>\n",
       "      <th>image</th>\n",
       "      <th>label</th>\n",
       "    </tr>\n",
       "  </thead>\n",
       "  <tbody>\n",
       "    <tr>\n",
       "      <th>0</th>\n",
       "      <td>imagesy/y/w/a/ywa06d00/50488656-8657.tif</td>\n",
       "      <td>14</td>\n",
       "    </tr>\n",
       "    <tr>\n",
       "      <th>1</th>\n",
       "      <td>imagesc/c/n/v/cnv86e00/2054136546_2054136547.tif</td>\n",
       "      <td>1</td>\n",
       "    </tr>\n",
       "    <tr>\n",
       "      <th>2</th>\n",
       "      <td>imagesk/k/b/r/kbr00e00/87285060.tif</td>\n",
       "      <td>11</td>\n",
       "    </tr>\n",
       "    <tr>\n",
       "      <th>3</th>\n",
       "      <td>imagesw/w/a/e/wae59c00/PUBLICATIONS026381-6.tif</td>\n",
       "      <td>6</td>\n",
       "    </tr>\n",
       "    <tr>\n",
       "      <th>4</th>\n",
       "      <td>imagesu/u/s/k/usk17e00/2031318406.tif</td>\n",
       "      <td>7</td>\n",
       "    </tr>\n",
       "  </tbody>\n",
       "</table>\n",
       "</div>"
      ],
      "text/plain": [
       "                                              image label\n",
       "0          imagesy/y/w/a/ywa06d00/50488656-8657.tif    14\n",
       "1  imagesc/c/n/v/cnv86e00/2054136546_2054136547.tif     1\n",
       "2               imagesk/k/b/r/kbr00e00/87285060.tif    11\n",
       "3   imagesw/w/a/e/wae59c00/PUBLICATIONS026381-6.tif     6\n",
       "4             imagesu/u/s/k/usk17e00/2031318406.tif     7"
      ]
     },
     "metadata": {},
     "output_type": "display_data"
    },
    {
     "name": "stdout",
     "output_type": "stream",
     "text": [
      "Sample\n"
     ]
    },
    {
     "data": {
      "text/html": [
       "<div>\n",
       "<style scoped>\n",
       "    .dataframe tbody tr th:only-of-type {\n",
       "        vertical-align: middle;\n",
       "    }\n",
       "\n",
       "    .dataframe tbody tr th {\n",
       "        vertical-align: top;\n",
       "    }\n",
       "\n",
       "    .dataframe thead th {\n",
       "        text-align: right;\n",
       "    }\n",
       "</style>\n",
       "<table border=\"1\" class=\"dataframe\">\n",
       "  <thead>\n",
       "    <tr style=\"text-align: right;\">\n",
       "      <th></th>\n",
       "      <th>image</th>\n",
       "      <th>label</th>\n",
       "    </tr>\n",
       "  </thead>\n",
       "  <tbody>\n",
       "    <tr>\n",
       "      <th>220</th>\n",
       "      <td>imagesb/b/b/m/bbm16d00/50600649-0650.tif</td>\n",
       "      <td>14</td>\n",
       "    </tr>\n",
       "    <tr>\n",
       "      <th>56</th>\n",
       "      <td>imagesk/k/y/e/kye04e00/2040734349.tif</td>\n",
       "      <td>13</td>\n",
       "    </tr>\n",
       "    <tr>\n",
       "      <th>85</th>\n",
       "      <td>imagesv/v/o/o/voo31a00/0071035888.tif</td>\n",
       "      <td>0</td>\n",
       "    </tr>\n",
       "    <tr>\n",
       "      <th>74</th>\n",
       "      <td>imagesj/j/r/t/jrt85d00/503609047_503609053.tif</td>\n",
       "      <td>3</td>\n",
       "    </tr>\n",
       "    <tr>\n",
       "      <th>241</th>\n",
       "      <td>imagesq/q/e/p/qep86d00/tcal0437220_7221.tif</td>\n",
       "      <td>10</td>\n",
       "    </tr>\n",
       "  </tbody>\n",
       "</table>\n",
       "</div>"
      ],
      "text/plain": [
       "                                              image label\n",
       "220        imagesb/b/b/m/bbm16d00/50600649-0650.tif    14\n",
       "56            imagesk/k/y/e/kye04e00/2040734349.tif    13\n",
       "85            imagesv/v/o/o/voo31a00/0071035888.tif     0\n",
       "74   imagesj/j/r/t/jrt85d00/503609047_503609053.tif     3\n",
       "241     imagesq/q/e/p/qep86d00/tcal0437220_7221.tif    10"
      ]
     },
     "metadata": {},
     "output_type": "display_data"
    },
    {
     "name": "stdout",
     "output_type": "stream",
     "text": [
      "Tail\n"
     ]
    },
    {
     "data": {
      "text/html": [
       "<div>\n",
       "<style scoped>\n",
       "    .dataframe tbody tr th:only-of-type {\n",
       "        vertical-align: middle;\n",
       "    }\n",
       "\n",
       "    .dataframe tbody tr th {\n",
       "        vertical-align: top;\n",
       "    }\n",
       "\n",
       "    .dataframe thead th {\n",
       "        text-align: right;\n",
       "    }\n",
       "</style>\n",
       "<table border=\"1\" class=\"dataframe\">\n",
       "  <thead>\n",
       "    <tr style=\"text-align: right;\">\n",
       "      <th></th>\n",
       "      <th>image</th>\n",
       "      <th>label</th>\n",
       "    </tr>\n",
       "  </thead>\n",
       "  <tbody>\n",
       "    <tr>\n",
       "      <th>283</th>\n",
       "      <td>imagesz/z/j/j/zjj72c00/2078305957.tif</td>\n",
       "      <td>2</td>\n",
       "    </tr>\n",
       "    <tr>\n",
       "      <th>284</th>\n",
       "      <td>imagesd/d/w/o/dwo26d00/50640437-0443.tif</td>\n",
       "      <td>6</td>\n",
       "    </tr>\n",
       "    <tr>\n",
       "      <th>285</th>\n",
       "      <td>imagesf/f/n/v/fnv72c00/2078454494.tif</td>\n",
       "      <td>2</td>\n",
       "    </tr>\n",
       "    <tr>\n",
       "      <th>286</th>\n",
       "      <td>imagesf/f/j/a/fja64a00/89836328_6329.tif</td>\n",
       "      <td>13</td>\n",
       "    </tr>\n",
       "    <tr>\n",
       "      <th>287</th>\n",
       "      <td>imagesa/a/s/s/ass76d00/ti16680317_0322.tif</td>\n",
       "      <td>10</td>\n",
       "    </tr>\n",
       "  </tbody>\n",
       "</table>\n",
       "</div>"
      ],
      "text/plain": [
       "                                          image label\n",
       "283       imagesz/z/j/j/zjj72c00/2078305957.tif     2\n",
       "284    imagesd/d/w/o/dwo26d00/50640437-0443.tif     6\n",
       "285       imagesf/f/n/v/fnv72c00/2078454494.tif     2\n",
       "286    imagesf/f/j/a/fja64a00/89836328_6329.tif    13\n",
       "287  imagesa/a/s/s/ass76d00/ti16680317_0322.tif    10"
      ]
     },
     "metadata": {},
     "output_type": "display_data"
    }
   ],
   "source": [
    "display_info(df_sampled_valid_labels)"
   ]
  },
  {
   "cell_type": "code",
   "execution_count": 34,
   "metadata": {
    "scrolled": true
   },
   "outputs": [
    {
     "name": "stdout",
     "output_type": "stream",
     "text": [
      "Info\n",
      "<class 'pandas.core.frame.DataFrame'>\n",
      "RangeIndex: 192 entries, 0 to 191\n",
      "Data columns (total 2 columns):\n",
      " #   Column  Non-Null Count  Dtype \n",
      "---  ------  --------------  ----- \n",
      " 0   image   192 non-null    object\n",
      " 1   label   192 non-null    object\n",
      "dtypes: object(2)\n",
      "memory usage: 3.1+ KB\n",
      "(192, 2)\n",
      "Head\n"
     ]
    },
    {
     "data": {
      "text/html": [
       "<div>\n",
       "<style scoped>\n",
       "    .dataframe tbody tr th:only-of-type {\n",
       "        vertical-align: middle;\n",
       "    }\n",
       "\n",
       "    .dataframe tbody tr th {\n",
       "        vertical-align: top;\n",
       "    }\n",
       "\n",
       "    .dataframe thead th {\n",
       "        text-align: right;\n",
       "    }\n",
       "</style>\n",
       "<table border=\"1\" class=\"dataframe\">\n",
       "  <thead>\n",
       "    <tr style=\"text-align: right;\">\n",
       "      <th></th>\n",
       "      <th>image</th>\n",
       "      <th>label</th>\n",
       "    </tr>\n",
       "  </thead>\n",
       "  <tbody>\n",
       "    <tr>\n",
       "      <th>0</th>\n",
       "      <td>imagesz/z/b/h/zbh42f00/10004982_10004984.tif</td>\n",
       "      <td>10</td>\n",
       "    </tr>\n",
       "    <tr>\n",
       "      <th>1</th>\n",
       "      <td>imagesg/g/p/q/gpq11d00/522714276+-4278.tif</td>\n",
       "      <td>3</td>\n",
       "    </tr>\n",
       "    <tr>\n",
       "      <th>2</th>\n",
       "      <td>imagese/e/u/r/eur92d00/515608558.tif</td>\n",
       "      <td>4</td>\n",
       "    </tr>\n",
       "    <tr>\n",
       "      <th>3</th>\n",
       "      <td>imagesi/i/g/j/igj56c00/2075566692_6693.tif</td>\n",
       "      <td>9</td>\n",
       "    </tr>\n",
       "    <tr>\n",
       "      <th>4</th>\n",
       "      <td>imagesi/i/j/d/ijd10f00/0000544685.tif</td>\n",
       "      <td>15</td>\n",
       "    </tr>\n",
       "  </tbody>\n",
       "</table>\n",
       "</div>"
      ],
      "text/plain": [
       "                                          image label\n",
       "0  imagesz/z/b/h/zbh42f00/10004982_10004984.tif    10\n",
       "1    imagesg/g/p/q/gpq11d00/522714276+-4278.tif     3\n",
       "2          imagese/e/u/r/eur92d00/515608558.tif     4\n",
       "3    imagesi/i/g/j/igj56c00/2075566692_6693.tif     9\n",
       "4         imagesi/i/j/d/ijd10f00/0000544685.tif    15"
      ]
     },
     "metadata": {},
     "output_type": "display_data"
    },
    {
     "name": "stdout",
     "output_type": "stream",
     "text": [
      "Sample\n"
     ]
    },
    {
     "data": {
      "text/html": [
       "<div>\n",
       "<style scoped>\n",
       "    .dataframe tbody tr th:only-of-type {\n",
       "        vertical-align: middle;\n",
       "    }\n",
       "\n",
       "    .dataframe tbody tr th {\n",
       "        vertical-align: top;\n",
       "    }\n",
       "\n",
       "    .dataframe thead th {\n",
       "        text-align: right;\n",
       "    }\n",
       "</style>\n",
       "<table border=\"1\" class=\"dataframe\">\n",
       "  <thead>\n",
       "    <tr style=\"text-align: right;\">\n",
       "      <th></th>\n",
       "      <th>image</th>\n",
       "      <th>label</th>\n",
       "    </tr>\n",
       "  </thead>\n",
       "  <tbody>\n",
       "    <tr>\n",
       "      <th>14</th>\n",
       "      <td>imagesw/w/j/v/wjv8aa00/50066208_50066211.tif</td>\n",
       "      <td>14</td>\n",
       "    </tr>\n",
       "    <tr>\n",
       "      <th>60</th>\n",
       "      <td>imagesl/l/x/p/lxp09c00/94581460.tif</td>\n",
       "      <td>10</td>\n",
       "    </tr>\n",
       "    <tr>\n",
       "      <th>100</th>\n",
       "      <td>imagese/e/g/w/egw47d00/2062318390_8391.tif</td>\n",
       "      <td>1</td>\n",
       "    </tr>\n",
       "    <tr>\n",
       "      <th>91</th>\n",
       "      <td>imagesj/j/s/m/jsm33f00/0011862921.tif</td>\n",
       "      <td>0</td>\n",
       "    </tr>\n",
       "    <tr>\n",
       "      <th>162</th>\n",
       "      <td>imagesr/r/s/a/rsa63c00/2064822167.tif</td>\n",
       "      <td>9</td>\n",
       "    </tr>\n",
       "  </tbody>\n",
       "</table>\n",
       "</div>"
      ],
      "text/plain": [
       "                                            image label\n",
       "14   imagesw/w/j/v/wjv8aa00/50066208_50066211.tif    14\n",
       "60            imagesl/l/x/p/lxp09c00/94581460.tif    10\n",
       "100    imagese/e/g/w/egw47d00/2062318390_8391.tif     1\n",
       "91          imagesj/j/s/m/jsm33f00/0011862921.tif     0\n",
       "162         imagesr/r/s/a/rsa63c00/2064822167.tif     9"
      ]
     },
     "metadata": {},
     "output_type": "display_data"
    },
    {
     "name": "stdout",
     "output_type": "stream",
     "text": [
      "Tail\n"
     ]
    },
    {
     "data": {
      "text/html": [
       "<div>\n",
       "<style scoped>\n",
       "    .dataframe tbody tr th:only-of-type {\n",
       "        vertical-align: middle;\n",
       "    }\n",
       "\n",
       "    .dataframe tbody tr th {\n",
       "        vertical-align: top;\n",
       "    }\n",
       "\n",
       "    .dataframe thead th {\n",
       "        text-align: right;\n",
       "    }\n",
       "</style>\n",
       "<table border=\"1\" class=\"dataframe\">\n",
       "  <thead>\n",
       "    <tr style=\"text-align: right;\">\n",
       "      <th></th>\n",
       "      <th>image</th>\n",
       "      <th>label</th>\n",
       "    </tr>\n",
       "  </thead>\n",
       "  <tbody>\n",
       "    <tr>\n",
       "      <th>187</th>\n",
       "      <td>imagesl/l/n/b/lnb52c00/2074104024.tif</td>\n",
       "      <td>11</td>\n",
       "    </tr>\n",
       "    <tr>\n",
       "      <th>188</th>\n",
       "      <td>imagese/e/k/x/ekx14c00/2080378562_8564.tif</td>\n",
       "      <td>12</td>\n",
       "    </tr>\n",
       "    <tr>\n",
       "      <th>189</th>\n",
       "      <td>imagesm/m/f/p/mfp3aa00/11233923.tif</td>\n",
       "      <td>11</td>\n",
       "    </tr>\n",
       "    <tr>\n",
       "      <th>190</th>\n",
       "      <td>imagest/t/q/n/tqn39c00/2084390860b.tif</td>\n",
       "      <td>2</td>\n",
       "    </tr>\n",
       "    <tr>\n",
       "      <th>191</th>\n",
       "      <td>imagesh/h/w/q/hwq89c00/50280571-0571.tif</td>\n",
       "      <td>6</td>\n",
       "    </tr>\n",
       "  </tbody>\n",
       "</table>\n",
       "</div>"
      ],
      "text/plain": [
       "                                          image label\n",
       "187       imagesl/l/n/b/lnb52c00/2074104024.tif    11\n",
       "188  imagese/e/k/x/ekx14c00/2080378562_8564.tif    12\n",
       "189         imagesm/m/f/p/mfp3aa00/11233923.tif    11\n",
       "190      imagest/t/q/n/tqn39c00/2084390860b.tif     2\n",
       "191    imagesh/h/w/q/hwq89c00/50280571-0571.tif     6"
      ]
     },
     "metadata": {},
     "output_type": "display_data"
    }
   ],
   "source": [
    "display_info(df_sampled_test_labels)"
   ]
  },
  {
   "cell_type": "markdown",
   "metadata": {},
   "source": [
    "## Mini-dataset generation"
   ]
  },
  {
   "cell_type": "markdown",
   "metadata": {},
   "source": [
    "### Functions"
   ]
  },
  {
   "cell_type": "markdown",
   "metadata": {},
   "source": [
    "**generate_minidataset**: Creates in the specified hdf5 file a dataset with name _dataset_name_ and fills the dataset with the images in the dataframe _df_ as they are, without any preprocessing operations"
   ]
  },
  {
   "cell_type": "code",
   "execution_count": 39,
   "metadata": {},
   "outputs": [],
   "source": [
    "def generate_minidataset(hdf_file, df, dataset_name):\n",
    "    batch_dimension = 64\n",
    "    n_imgs = len(df.index)\n",
    "\n",
    "    print(\"Generating dataset \" + dataset_name + \" - \" + str(n_imgs) + \" images\")\n",
    "    \n",
    "    # Matrix containing img_path - label\n",
    "    matrix_labels = np.empty((n_imgs, 2), dtype=np.object)\n",
    "    \n",
    "    img_counter = 0\n",
    "    for row in tqdm(df.itertuples()):\n",
    "        thousand = img_counter // 10**3 % 10\n",
    "        hundred = img_counter // 10**2 % 10\n",
    "        ten = img_counter // 10 % 10\n",
    "        unit = img_counter % 10\n",
    "        \n",
    "        dest_folder_path = os.path.join(output_dataset_folder, dataset_name, str(thousand), str(hundred), str(ten), str(unit))\n",
    "        image_name = os.path.basename(row.image)\n",
    "        img_path = os.path.join(dest_folder_path, image_name)\n",
    "        \n",
    "        os.makedirs(dest_folder_path, exist_ok=True)\n",
    "        copyfile(os.path.join(images_folder_path, row.image), img_path)\n",
    "        \n",
    "        matrix_labels[i, 0] = img_path\n",
    "        matrix_labels[i, 1] = row.label\n",
    "            \n",
    "        img_counter += 1\n",
    "    \n",
    "    # Save images relative paths and associated labels in a hdf5 file dictionary\n",
    "    dataset_labels = hdf_file.create_dataset(dataset_name, (n_imgs, 2), compression=\"gzip\")\n",
    "    dataset_labels = matrix_labels"
   ]
  },
  {
   "cell_type": "markdown",
   "metadata": {},
   "source": [
    "#### Generates the mini-dataset"
   ]
  },
  {
   "cell_type": "code",
   "execution_count": 40,
   "metadata": {
    "scrolled": true
   },
   "outputs": [
    {
     "name": "stderr",
     "output_type": "stream",
     "text": [
      "2it [00:00, 10.75it/s]"
     ]
    },
    {
     "name": "stdout",
     "output_type": "stream",
     "text": [
      "Generating dataset train - 1488 images\n"
     ]
    },
    {
     "name": "stderr",
     "output_type": "stream",
     "text": [
      "1488it [02:18, 10.72it/s]\n",
      "3it [00:00, 23.39it/s]"
     ]
    },
    {
     "name": "stdout",
     "output_type": "stream",
     "text": [
      "Generating dataset valid - 288 images\n"
     ]
    },
    {
     "name": "stderr",
     "output_type": "stream",
     "text": [
      "288it [00:24, 11.56it/s]\n",
      "2it [00:00, 11.18it/s]"
     ]
    },
    {
     "name": "stdout",
     "output_type": "stream",
     "text": [
      "Generating dataset test - 192 images\n"
     ]
    },
    {
     "name": "stderr",
     "output_type": "stream",
     "text": [
      "192it [00:16, 11.85it/s]\n"
     ]
    }
   ],
   "source": [
    "with h5py.File(os.path.join(output_dataset_folder, 'labels.h5'), 'w') as hdf_file:\n",
    "    generate_minidataset(hdf_file, df_sampled_train_labels, \"train\")\n",
    "    generate_minidataset(hdf_file, df_sampled_valid_labels, \"valid\")\n",
    "    generate_minidataset(hdf_file, df_sampled_test_labels, \"test\")"
   ]
  }
 ],
 "metadata": {
  "kernelspec": {
   "display_name": "Python 3",
   "language": "python",
   "name": "python3"
  },
  "language_info": {
   "codemirror_mode": {
    "name": "ipython",
    "version": 3
   },
   "file_extension": ".py",
   "mimetype": "text/x-python",
   "name": "python",
   "nbconvert_exporter": "python",
   "pygments_lexer": "ipython3",
   "version": "3.7.7"
  }
 },
 "nbformat": 4,
 "nbformat_minor": 4
}
