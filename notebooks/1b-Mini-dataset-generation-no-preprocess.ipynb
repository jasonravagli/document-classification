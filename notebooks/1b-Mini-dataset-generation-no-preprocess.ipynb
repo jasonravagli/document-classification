{
 "cells": [
  {
   "cell_type": "markdown",
   "metadata": {},
   "source": [
    "# Mini-dataset generation"
   ]
  },
  {
   "cell_type": "code",
   "execution_count": 1,
   "metadata": {},
   "outputs": [],
   "source": [
    "import os\n",
    "from shutil import copyfile\n",
    "from shutil import rmtree\n",
    "import h5py\n",
    "import cv2\n",
    "import numpy as np\n",
    "import pandas as pd\n",
    "from tqdm import tqdm\n",
    "\n",
    "%load_ext memory_profiler\n",
    "%load_ext line_profiler"
   ]
  },
  {
   "cell_type": "markdown",
   "metadata": {},
   "source": [
    "##### Global parameters:"
   ]
  },
  {
   "cell_type": "code",
   "execution_count": 2,
   "metadata": {},
   "outputs": [],
   "source": [
    "dataset_path = \"/Volumes/Part1/datasets/rvl-cdip\"\n",
    "images_folder_path = os.path.join(dataset_path, \"images\")\n",
    "project_folder = \"/Users/jasonravagli/Desktop/Scuola/Università-Magistrale/data-and-document-mining/document-classification\"\n",
    "resources_folder = os.path.join(project_folder, \"resources\")\n",
    "output_dataset_folder = os.path.join(resources_folder, \"output\", \"mini-dataset\")\n",
    "debug_folder = os.path.join(resources_folder, \"debug\")\n",
    "\n",
    "# Number of images classes\n",
    "n_classes = 16\n",
    "\n",
    "# Dimensions of the dataset to be generated\n",
    "mini_train_set_dimension = 1500\n",
    "mini_valid_set_dimension = 300\n",
    "mini_test_set_dimension =  200"
   ]
  },
  {
   "cell_type": "markdown",
   "metadata": {},
   "source": [
    "#### Setup folders"
   ]
  },
  {
   "cell_type": "code",
   "execution_count": 3,
   "metadata": {},
   "outputs": [],
   "source": [
    "# Delete already existing dataset output folder\n",
    "rmtree(output_dataset_folder, ignore_errors=True)\n",
    "\n",
    "os.makedirs(output_dataset_folder)\n",
    "os.makedirs(debug_folder, exist_ok=True)\n",
    "\n",
    "# Folders to manually check some processed images\n",
    "debug_folder_reshaped_imgs = os.path.join(debug_folder, \"reshaped_imgs\")\n",
    "\n",
    "# Folders to manually check some images read from the generated dataset\n",
    "debug_folder_dataset_imgs = os.path.join(debug_folder, \"dataset_imgs\")\n",
    "\n",
    "os.makedirs(debug_folder_reshaped_imgs, exist_ok=True)\n",
    "os.makedirs(debug_folder_dataset_imgs, exist_ok=True)"
   ]
  },
  {
   "cell_type": "markdown",
   "metadata": {},
   "source": [
    "Utility function to display dataframe info:"
   ]
  },
  {
   "cell_type": "code",
   "execution_count": 4,
   "metadata": {},
   "outputs": [],
   "source": [
    "def display_info(df=None, rows=5):\n",
    "    try:\n",
    "        print(\"Info\")\n",
    "        df.info(verbose=True)\n",
    "        print(df.shape)\n",
    "        print(\"Head\")\n",
    "        display(df.head(rows))\n",
    "        print(\"Sample\")\n",
    "        display(df.sample(rows))\n",
    "        print(\"Tail\")\n",
    "        display(df.tail(rows))\n",
    "    except:\n",
    "        print(\"Errore nella visualizzazione\")"
   ]
  },
  {
   "cell_type": "markdown",
   "metadata": {},
   "source": [
    "## Data Sampling"
   ]
  },
  {
   "cell_type": "markdown",
   "metadata": {},
   "source": [
    "#### Read the labels files:"
   ]
  },
  {
   "cell_type": "code",
   "execution_count": 5,
   "metadata": {
    "scrolled": true
   },
   "outputs": [
    {
     "name": "stdout",
     "output_type": "stream",
     "text": [
      "peak memory: 166.68 MiB, increment: 70.26 MiB\n",
      "peak memory: 169.68 MiB, increment: 3.09 MiB\n",
      "peak memory: 155.43 MiB, increment: 13.53 MiB\n",
      "Info\n",
      "<class 'pandas.core.frame.DataFrame'>\n",
      "RangeIndex: 320000 entries, 0 to 319999\n",
      "Data columns (total 2 columns):\n",
      " #   Column  Non-Null Count   Dtype \n",
      "---  ------  --------------   ----- \n",
      " 0   image   320000 non-null  object\n",
      " 1   label   320000 non-null  int64 \n",
      "dtypes: int64(1), object(1)\n",
      "memory usage: 4.9+ MB\n",
      "(320000, 2)\n",
      "Head\n"
     ]
    },
    {
     "data": {
      "text/html": [
       "<div>\n",
       "<style scoped>\n",
       "    .dataframe tbody tr th:only-of-type {\n",
       "        vertical-align: middle;\n",
       "    }\n",
       "\n",
       "    .dataframe tbody tr th {\n",
       "        vertical-align: top;\n",
       "    }\n",
       "\n",
       "    .dataframe thead th {\n",
       "        text-align: right;\n",
       "    }\n",
       "</style>\n",
       "<table border=\"1\" class=\"dataframe\">\n",
       "  <thead>\n",
       "    <tr style=\"text-align: right;\">\n",
       "      <th></th>\n",
       "      <th>image</th>\n",
       "      <th>label</th>\n",
       "    </tr>\n",
       "  </thead>\n",
       "  <tbody>\n",
       "    <tr>\n",
       "      <th>0</th>\n",
       "      <td>imagesq/q/o/c/qoc54c00/80035521.tif</td>\n",
       "      <td>15</td>\n",
       "    </tr>\n",
       "    <tr>\n",
       "      <th>1</th>\n",
       "      <td>imagese/e/w/c/ewc23d00/513280028.tif</td>\n",
       "      <td>1</td>\n",
       "    </tr>\n",
       "    <tr>\n",
       "      <th>2</th>\n",
       "      <td>imagesw/w/b/t/wbt26e00/2053453161.tif</td>\n",
       "      <td>7</td>\n",
       "    </tr>\n",
       "    <tr>\n",
       "      <th>3</th>\n",
       "      <td>imagesm/m/k/m/mkm05e00/2040792992_2040792994.tif</td>\n",
       "      <td>10</td>\n",
       "    </tr>\n",
       "    <tr>\n",
       "      <th>4</th>\n",
       "      <td>imageso/o/e/x/oex80d00/522787731+-7732.tif</td>\n",
       "      <td>3</td>\n",
       "    </tr>\n",
       "  </tbody>\n",
       "</table>\n",
       "</div>"
      ],
      "text/plain": [
       "                                              image  label\n",
       "0               imagesq/q/o/c/qoc54c00/80035521.tif     15\n",
       "1              imagese/e/w/c/ewc23d00/513280028.tif      1\n",
       "2             imagesw/w/b/t/wbt26e00/2053453161.tif      7\n",
       "3  imagesm/m/k/m/mkm05e00/2040792992_2040792994.tif     10\n",
       "4        imageso/o/e/x/oex80d00/522787731+-7732.tif      3"
      ]
     },
     "metadata": {},
     "output_type": "display_data"
    },
    {
     "name": "stdout",
     "output_type": "stream",
     "text": [
      "Sample\n"
     ]
    },
    {
     "data": {
      "text/html": [
       "<div>\n",
       "<style scoped>\n",
       "    .dataframe tbody tr th:only-of-type {\n",
       "        vertical-align: middle;\n",
       "    }\n",
       "\n",
       "    .dataframe tbody tr th {\n",
       "        vertical-align: top;\n",
       "    }\n",
       "\n",
       "    .dataframe thead th {\n",
       "        text-align: right;\n",
       "    }\n",
       "</style>\n",
       "<table border=\"1\" class=\"dataframe\">\n",
       "  <thead>\n",
       "    <tr style=\"text-align: right;\">\n",
       "      <th></th>\n",
       "      <th>image</th>\n",
       "      <th>label</th>\n",
       "    </tr>\n",
       "  </thead>\n",
       "  <tbody>\n",
       "    <tr>\n",
       "      <th>376</th>\n",
       "      <td>imagesb/b/d/w/bdw01d00/517519427+-9428.tif</td>\n",
       "      <td>3</td>\n",
       "    </tr>\n",
       "    <tr>\n",
       "      <th>7530</th>\n",
       "      <td>imagese/e/v/p/evp30a00/60045146_60045151.tif</td>\n",
       "      <td>6</td>\n",
       "    </tr>\n",
       "    <tr>\n",
       "      <th>209622</th>\n",
       "      <td>imageso/o/n/j/onj65d00/504571339.tif</td>\n",
       "      <td>7</td>\n",
       "    </tr>\n",
       "    <tr>\n",
       "      <th>86883</th>\n",
       "      <td>imagesx/x/d/h/xdh21d00/515557431+-7432.tif</td>\n",
       "      <td>3</td>\n",
       "    </tr>\n",
       "    <tr>\n",
       "      <th>158971</th>\n",
       "      <td>imagese/e/z/z/ezz98e00/2029372143.tif</td>\n",
       "      <td>11</td>\n",
       "    </tr>\n",
       "  </tbody>\n",
       "</table>\n",
       "</div>"
      ],
      "text/plain": [
       "                                               image  label\n",
       "376       imagesb/b/d/w/bdw01d00/517519427+-9428.tif      3\n",
       "7530    imagese/e/v/p/evp30a00/60045146_60045151.tif      6\n",
       "209622          imageso/o/n/j/onj65d00/504571339.tif      7\n",
       "86883     imagesx/x/d/h/xdh21d00/515557431+-7432.tif      3\n",
       "158971         imagese/e/z/z/ezz98e00/2029372143.tif     11"
      ]
     },
     "metadata": {},
     "output_type": "display_data"
    },
    {
     "name": "stdout",
     "output_type": "stream",
     "text": [
      "Tail\n"
     ]
    },
    {
     "data": {
      "text/html": [
       "<div>\n",
       "<style scoped>\n",
       "    .dataframe tbody tr th:only-of-type {\n",
       "        vertical-align: middle;\n",
       "    }\n",
       "\n",
       "    .dataframe tbody tr th {\n",
       "        vertical-align: top;\n",
       "    }\n",
       "\n",
       "    .dataframe thead th {\n",
       "        text-align: right;\n",
       "    }\n",
       "</style>\n",
       "<table border=\"1\" class=\"dataframe\">\n",
       "  <thead>\n",
       "    <tr style=\"text-align: right;\">\n",
       "      <th></th>\n",
       "      <th>image</th>\n",
       "      <th>label</th>\n",
       "    </tr>\n",
       "  </thead>\n",
       "  <tbody>\n",
       "    <tr>\n",
       "      <th>319995</th>\n",
       "      <td>imagesu/u/p/p/upp04f00/0000282789.tif</td>\n",
       "      <td>9</td>\n",
       "    </tr>\n",
       "    <tr>\n",
       "      <th>319996</th>\n",
       "      <td>imagesa/a/c/z/acz60f00/0011972032.tif</td>\n",
       "      <td>15</td>\n",
       "    </tr>\n",
       "    <tr>\n",
       "      <th>319997</th>\n",
       "      <td>imagesu/u/j/m/ujm20a00/10155388.tif</td>\n",
       "      <td>6</td>\n",
       "    </tr>\n",
       "    <tr>\n",
       "      <th>319998</th>\n",
       "      <td>imagesd/d/r/r/drr93f00/0000343578.tif</td>\n",
       "      <td>9</td>\n",
       "    </tr>\n",
       "    <tr>\n",
       "      <th>319999</th>\n",
       "      <td>imagesp/p/j/x/pjx11d00/518223252+-3253.tif</td>\n",
       "      <td>3</td>\n",
       "    </tr>\n",
       "  </tbody>\n",
       "</table>\n",
       "</div>"
      ],
      "text/plain": [
       "                                             image  label\n",
       "319995       imagesu/u/p/p/upp04f00/0000282789.tif      9\n",
       "319996       imagesa/a/c/z/acz60f00/0011972032.tif     15\n",
       "319997         imagesu/u/j/m/ujm20a00/10155388.tif      6\n",
       "319998       imagesd/d/r/r/drr93f00/0000343578.tif      9\n",
       "319999  imagesp/p/j/x/pjx11d00/518223252+-3253.tif      3"
      ]
     },
     "metadata": {},
     "output_type": "display_data"
    }
   ],
   "source": [
    "%memit df_train_labels = pd.read_csv(os.path.join(dataset_path, \"labels/train.txt\"), sep=\" \",\\\n",
    "                                     names=[\"image\", \"label\"], skipinitialspace=True)\n",
    "%memit df_valid_labels = pd.read_csv(os.path.join(dataset_path, \"labels/val.txt\"), sep=\" \",\\\n",
    "                                     names=[\"image\", \"label\"], skipinitialspace=True)\n",
    "%memit df_test_labels = pd.read_csv(os.path.join(dataset_path, \"labels/test.txt\"), sep=\" \",\\\n",
    "                                    names=[\"image\", \"label\"], skipinitialspace=True)\n",
    "\n",
    "# Reset column names because of strange whitespaces added to the column names after reading\n",
    "df_train_labels.columns = [\"image\", \"label\"]\n",
    "df_valid_labels.columns = [\"image\", \"label\"]\n",
    "df_test_labels.columns = [\"image\", \"label\"]\n",
    "\n",
    "# Display some info to verify the correctness of the data read\n",
    "display_info(df_train_labels)"
   ]
  },
  {
   "cell_type": "markdown",
   "metadata": {},
   "source": [
    "#### Random sample data preserving ratio between classes"
   ]
  },
  {
   "cell_type": "code",
   "execution_count": 6,
   "metadata": {},
   "outputs": [],
   "source": [
    "train_data_per_class = mini_train_set_dimension//n_classes\n",
    "valid_data_per_class = mini_valid_set_dimension//n_classes\n",
    "test_data_per_class = mini_test_set_dimension//n_classes\n",
    "\n",
    "df_sampled_train_labels = pd.DataFrame(columns = df_train_labels.columns)\n",
    "df_sampled_valid_labels = pd.DataFrame(columns = df_valid_labels.columns)\n",
    "df_sampled_test_labels = pd.DataFrame(columns = df_test_labels.columns)\n",
    "\n",
    "for i in range(n_classes):\n",
    "    df_sampled_train_labels = pd.concat([df_sampled_train_labels, \\\n",
    "                                         df_train_labels.loc[df_train_labels[\"label\"] == i].sample(n=train_data_per_class)])\n",
    "    df_sampled_valid_labels = pd.concat([df_sampled_valid_labels, \\\n",
    "                                         df_valid_labels.loc[df_valid_labels[\"label\"] == i].sample(n=valid_data_per_class)])\n",
    "    df_sampled_test_labels = pd.concat([df_sampled_test_labels, \\\n",
    "                                         df_test_labels.loc[df_test_labels[\"label\"] == i].sample(n=test_data_per_class)])\n",
    "\n",
    "df_sampled_train_labels = df_sampled_train_labels.sample(frac=1).reset_index(drop=True)\n",
    "df_sampled_valid_labels = df_sampled_valid_labels.sample(frac=1).reset_index(drop=True)\n",
    "df_sampled_test_labels = df_sampled_test_labels.sample(frac=1).reset_index(drop=True)"
   ]
  },
  {
   "cell_type": "markdown",
   "metadata": {},
   "source": [
    "## Data verification and analysis"
   ]
  },
  {
   "cell_type": "markdown",
   "metadata": {},
   "source": [
    "#### Display generated dataframes summaries to verify their correctness"
   ]
  },
  {
   "cell_type": "code",
   "execution_count": 7,
   "metadata": {
    "scrolled": true
   },
   "outputs": [
    {
     "name": "stdout",
     "output_type": "stream",
     "text": [
      "Info\n",
      "<class 'pandas.core.frame.DataFrame'>\n",
      "RangeIndex: 1488 entries, 0 to 1487\n",
      "Data columns (total 2 columns):\n",
      " #   Column  Non-Null Count  Dtype \n",
      "---  ------  --------------  ----- \n",
      " 0   image   1488 non-null   object\n",
      " 1   label   1488 non-null   object\n",
      "dtypes: object(2)\n",
      "memory usage: 23.4+ KB\n",
      "(1488, 2)\n",
      "Head\n"
     ]
    },
    {
     "data": {
      "text/html": [
       "<div>\n",
       "<style scoped>\n",
       "    .dataframe tbody tr th:only-of-type {\n",
       "        vertical-align: middle;\n",
       "    }\n",
       "\n",
       "    .dataframe tbody tr th {\n",
       "        vertical-align: top;\n",
       "    }\n",
       "\n",
       "    .dataframe thead th {\n",
       "        text-align: right;\n",
       "    }\n",
       "</style>\n",
       "<table border=\"1\" class=\"dataframe\">\n",
       "  <thead>\n",
       "    <tr style=\"text-align: right;\">\n",
       "      <th></th>\n",
       "      <th>image</th>\n",
       "      <th>label</th>\n",
       "    </tr>\n",
       "  </thead>\n",
       "  <tbody>\n",
       "    <tr>\n",
       "      <th>0</th>\n",
       "      <td>imagesf/f/r/k/frk54a00/92246495_6496.tif</td>\n",
       "      <td>11</td>\n",
       "    </tr>\n",
       "    <tr>\n",
       "      <th>1</th>\n",
       "      <td>imagesm/m/w/h/mwh93c00/2060927386.tif</td>\n",
       "      <td>1</td>\n",
       "    </tr>\n",
       "    <tr>\n",
       "      <th>2</th>\n",
       "      <td>imagesa/a/j/s/ajs00d00/50346296-6298.tif</td>\n",
       "      <td>14</td>\n",
       "    </tr>\n",
       "    <tr>\n",
       "      <th>3</th>\n",
       "      <td>imageso/o/t/s/ots77d00/2029118685.tif</td>\n",
       "      <td>1</td>\n",
       "    </tr>\n",
       "    <tr>\n",
       "      <th>4</th>\n",
       "      <td>imagesq/q/w/c/qwc90c00/2502401854_1859.tif</td>\n",
       "      <td>6</td>\n",
       "    </tr>\n",
       "  </tbody>\n",
       "</table>\n",
       "</div>"
      ],
      "text/plain": [
       "                                        image label\n",
       "0    imagesf/f/r/k/frk54a00/92246495_6496.tif    11\n",
       "1       imagesm/m/w/h/mwh93c00/2060927386.tif     1\n",
       "2    imagesa/a/j/s/ajs00d00/50346296-6298.tif    14\n",
       "3       imageso/o/t/s/ots77d00/2029118685.tif     1\n",
       "4  imagesq/q/w/c/qwc90c00/2502401854_1859.tif     6"
      ]
     },
     "metadata": {},
     "output_type": "display_data"
    },
    {
     "name": "stdout",
     "output_type": "stream",
     "text": [
      "Sample\n"
     ]
    },
    {
     "data": {
      "text/html": [
       "<div>\n",
       "<style scoped>\n",
       "    .dataframe tbody tr th:only-of-type {\n",
       "        vertical-align: middle;\n",
       "    }\n",
       "\n",
       "    .dataframe tbody tr th {\n",
       "        vertical-align: top;\n",
       "    }\n",
       "\n",
       "    .dataframe thead th {\n",
       "        text-align: right;\n",
       "    }\n",
       "</style>\n",
       "<table border=\"1\" class=\"dataframe\">\n",
       "  <thead>\n",
       "    <tr style=\"text-align: right;\">\n",
       "      <th></th>\n",
       "      <th>image</th>\n",
       "      <th>label</th>\n",
       "    </tr>\n",
       "  </thead>\n",
       "  <tbody>\n",
       "    <tr>\n",
       "      <th>975</th>\n",
       "      <td>imagesa/a/o/c/aoc48c00/2082966088_6089.tif</td>\n",
       "      <td>9</td>\n",
       "    </tr>\n",
       "    <tr>\n",
       "      <th>940</th>\n",
       "      <td>imagesq/q/n/j/qnj45c00/2074220090b.tif</td>\n",
       "      <td>2</td>\n",
       "    </tr>\n",
       "    <tr>\n",
       "      <th>367</th>\n",
       "      <td>imagesh/h/t/l/htl50c00/ti31709012.tif</td>\n",
       "      <td>9</td>\n",
       "    </tr>\n",
       "    <tr>\n",
       "      <th>680</th>\n",
       "      <td>imagest/t/d/m/tdm34e00/2020288833.tif</td>\n",
       "      <td>15</td>\n",
       "    </tr>\n",
       "    <tr>\n",
       "      <th>474</th>\n",
       "      <td>imagesd/d/r/e/dre36e00/2048961503_2048961519.tif</td>\n",
       "      <td>13</td>\n",
       "    </tr>\n",
       "  </tbody>\n",
       "</table>\n",
       "</div>"
      ],
      "text/plain": [
       "                                                image label\n",
       "975        imagesa/a/o/c/aoc48c00/2082966088_6089.tif     9\n",
       "940            imagesq/q/n/j/qnj45c00/2074220090b.tif     2\n",
       "367             imagesh/h/t/l/htl50c00/ti31709012.tif     9\n",
       "680             imagest/t/d/m/tdm34e00/2020288833.tif    15\n",
       "474  imagesd/d/r/e/dre36e00/2048961503_2048961519.tif    13"
      ]
     },
     "metadata": {},
     "output_type": "display_data"
    },
    {
     "name": "stdout",
     "output_type": "stream",
     "text": [
      "Tail\n"
     ]
    },
    {
     "data": {
      "text/html": [
       "<div>\n",
       "<style scoped>\n",
       "    .dataframe tbody tr th:only-of-type {\n",
       "        vertical-align: middle;\n",
       "    }\n",
       "\n",
       "    .dataframe tbody tr th {\n",
       "        vertical-align: top;\n",
       "    }\n",
       "\n",
       "    .dataframe thead th {\n",
       "        text-align: right;\n",
       "    }\n",
       "</style>\n",
       "<table border=\"1\" class=\"dataframe\">\n",
       "  <thead>\n",
       "    <tr style=\"text-align: right;\">\n",
       "      <th></th>\n",
       "      <th>image</th>\n",
       "      <th>label</th>\n",
       "    </tr>\n",
       "  </thead>\n",
       "  <tbody>\n",
       "    <tr>\n",
       "      <th>1483</th>\n",
       "      <td>imagesh/h/y/b/hyb24e00/2028391968.tif</td>\n",
       "      <td>9</td>\n",
       "    </tr>\n",
       "    <tr>\n",
       "      <th>1484</th>\n",
       "      <td>imagest/t/x/z/txz12c00/2085241559_1586.tif</td>\n",
       "      <td>12</td>\n",
       "    </tr>\n",
       "    <tr>\n",
       "      <th>1485</th>\n",
       "      <td>imageso/o/a/u/oau57d00/2044771262.tif</td>\n",
       "      <td>9</td>\n",
       "    </tr>\n",
       "    <tr>\n",
       "      <th>1486</th>\n",
       "      <td>imagesd/d/u/o/duo71a00/2057448108_2057448117.tif</td>\n",
       "      <td>7</td>\n",
       "    </tr>\n",
       "    <tr>\n",
       "      <th>1487</th>\n",
       "      <td>imagesu/u/p/o/upo25c00/2505300863_0864.tif</td>\n",
       "      <td>5</td>\n",
       "    </tr>\n",
       "  </tbody>\n",
       "</table>\n",
       "</div>"
      ],
      "text/plain": [
       "                                                 image label\n",
       "1483             imagesh/h/y/b/hyb24e00/2028391968.tif     9\n",
       "1484        imagest/t/x/z/txz12c00/2085241559_1586.tif    12\n",
       "1485             imageso/o/a/u/oau57d00/2044771262.tif     9\n",
       "1486  imagesd/d/u/o/duo71a00/2057448108_2057448117.tif     7\n",
       "1487        imagesu/u/p/o/upo25c00/2505300863_0864.tif     5"
      ]
     },
     "metadata": {},
     "output_type": "display_data"
    }
   ],
   "source": [
    "display_info(df_sampled_train_labels)"
   ]
  },
  {
   "cell_type": "code",
   "execution_count": 8,
   "metadata": {
    "scrolled": true
   },
   "outputs": [
    {
     "name": "stdout",
     "output_type": "stream",
     "text": [
      "Info\n",
      "<class 'pandas.core.frame.DataFrame'>\n",
      "RangeIndex: 288 entries, 0 to 287\n",
      "Data columns (total 2 columns):\n",
      " #   Column  Non-Null Count  Dtype \n",
      "---  ------  --------------  ----- \n",
      " 0   image   288 non-null    object\n",
      " 1   label   288 non-null    object\n",
      "dtypes: object(2)\n",
      "memory usage: 4.6+ KB\n",
      "(288, 2)\n",
      "Head\n"
     ]
    },
    {
     "data": {
      "text/html": [
       "<div>\n",
       "<style scoped>\n",
       "    .dataframe tbody tr th:only-of-type {\n",
       "        vertical-align: middle;\n",
       "    }\n",
       "\n",
       "    .dataframe tbody tr th {\n",
       "        vertical-align: top;\n",
       "    }\n",
       "\n",
       "    .dataframe thead th {\n",
       "        text-align: right;\n",
       "    }\n",
       "</style>\n",
       "<table border=\"1\" class=\"dataframe\">\n",
       "  <thead>\n",
       "    <tr style=\"text-align: right;\">\n",
       "      <th></th>\n",
       "      <th>image</th>\n",
       "      <th>label</th>\n",
       "    </tr>\n",
       "  </thead>\n",
       "  <tbody>\n",
       "    <tr>\n",
       "      <th>0</th>\n",
       "      <td>imagesy/y/h/l/yhl59e00/2024476420.tif</td>\n",
       "      <td>5</td>\n",
       "    </tr>\n",
       "    <tr>\n",
       "      <th>1</th>\n",
       "      <td>imagesw/w/t/s/wts37d00/2070910437_0444.tif</td>\n",
       "      <td>12</td>\n",
       "    </tr>\n",
       "    <tr>\n",
       "      <th>2</th>\n",
       "      <td>imagesk/k/g/n/kgn66c00/2074588332_8370.tif</td>\n",
       "      <td>5</td>\n",
       "    </tr>\n",
       "    <tr>\n",
       "      <th>3</th>\n",
       "      <td>imagesd/d/m/o/dmo28e00/1000829045.tif</td>\n",
       "      <td>15</td>\n",
       "    </tr>\n",
       "    <tr>\n",
       "      <th>4</th>\n",
       "      <td>imageso/o/f/k/ofk83f00/0001136733.tif</td>\n",
       "      <td>11</td>\n",
       "    </tr>\n",
       "  </tbody>\n",
       "</table>\n",
       "</div>"
      ],
      "text/plain": [
       "                                        image label\n",
       "0       imagesy/y/h/l/yhl59e00/2024476420.tif     5\n",
       "1  imagesw/w/t/s/wts37d00/2070910437_0444.tif    12\n",
       "2  imagesk/k/g/n/kgn66c00/2074588332_8370.tif     5\n",
       "3       imagesd/d/m/o/dmo28e00/1000829045.tif    15\n",
       "4       imageso/o/f/k/ofk83f00/0001136733.tif    11"
      ]
     },
     "metadata": {},
     "output_type": "display_data"
    },
    {
     "name": "stdout",
     "output_type": "stream",
     "text": [
      "Sample\n"
     ]
    },
    {
     "data": {
      "text/html": [
       "<div>\n",
       "<style scoped>\n",
       "    .dataframe tbody tr th:only-of-type {\n",
       "        vertical-align: middle;\n",
       "    }\n",
       "\n",
       "    .dataframe tbody tr th {\n",
       "        vertical-align: top;\n",
       "    }\n",
       "\n",
       "    .dataframe thead th {\n",
       "        text-align: right;\n",
       "    }\n",
       "</style>\n",
       "<table border=\"1\" class=\"dataframe\">\n",
       "  <thead>\n",
       "    <tr style=\"text-align: right;\">\n",
       "      <th></th>\n",
       "      <th>image</th>\n",
       "      <th>label</th>\n",
       "    </tr>\n",
       "  </thead>\n",
       "  <tbody>\n",
       "    <tr>\n",
       "      <th>18</th>\n",
       "      <td>imagese/e/z/c/ezc96c00/2070713394_3395.tif</td>\n",
       "      <td>4</td>\n",
       "    </tr>\n",
       "    <tr>\n",
       "      <th>64</th>\n",
       "      <td>imagesi/i/h/d/ihd70d00/517613877+-3877.tif</td>\n",
       "      <td>3</td>\n",
       "    </tr>\n",
       "    <tr>\n",
       "      <th>74</th>\n",
       "      <td>imagesn/n/v/k/nvk54a00/92212040.tif</td>\n",
       "      <td>11</td>\n",
       "    </tr>\n",
       "    <tr>\n",
       "      <th>172</th>\n",
       "      <td>imagesw/w/p/x/wpx28d00/2072411151.tif</td>\n",
       "      <td>2</td>\n",
       "    </tr>\n",
       "    <tr>\n",
       "      <th>108</th>\n",
       "      <td>imageso/o/w/f/owf64d00/506466383_506466393.tif</td>\n",
       "      <td>7</td>\n",
       "    </tr>\n",
       "  </tbody>\n",
       "</table>\n",
       "</div>"
      ],
      "text/plain": [
       "                                              image label\n",
       "18       imagese/e/z/c/ezc96c00/2070713394_3395.tif     4\n",
       "64       imagesi/i/h/d/ihd70d00/517613877+-3877.tif     3\n",
       "74              imagesn/n/v/k/nvk54a00/92212040.tif    11\n",
       "172           imagesw/w/p/x/wpx28d00/2072411151.tif     2\n",
       "108  imageso/o/w/f/owf64d00/506466383_506466393.tif     7"
      ]
     },
     "metadata": {},
     "output_type": "display_data"
    },
    {
     "name": "stdout",
     "output_type": "stream",
     "text": [
      "Tail\n"
     ]
    },
    {
     "data": {
      "text/html": [
       "<div>\n",
       "<style scoped>\n",
       "    .dataframe tbody tr th:only-of-type {\n",
       "        vertical-align: middle;\n",
       "    }\n",
       "\n",
       "    .dataframe tbody tr th {\n",
       "        vertical-align: top;\n",
       "    }\n",
       "\n",
       "    .dataframe thead th {\n",
       "        text-align: right;\n",
       "    }\n",
       "</style>\n",
       "<table border=\"1\" class=\"dataframe\">\n",
       "  <thead>\n",
       "    <tr style=\"text-align: right;\">\n",
       "      <th></th>\n",
       "      <th>image</th>\n",
       "      <th>label</th>\n",
       "    </tr>\n",
       "  </thead>\n",
       "  <tbody>\n",
       "    <tr>\n",
       "      <th>283</th>\n",
       "      <td>imagesc/c/x/i/cxi21d00/522856617+-6618.tif</td>\n",
       "      <td>3</td>\n",
       "    </tr>\n",
       "    <tr>\n",
       "      <th>284</th>\n",
       "      <td>imagesr/r/x/o/rxo96c00/50700312-0328.tif</td>\n",
       "      <td>6</td>\n",
       "    </tr>\n",
       "    <tr>\n",
       "      <th>285</th>\n",
       "      <td>imagesv/v/j/e/vje71a00/2057421303.tif</td>\n",
       "      <td>7</td>\n",
       "    </tr>\n",
       "    <tr>\n",
       "      <th>286</th>\n",
       "      <td>imagesa/a/p/m/apm49d00/501330410.tif</td>\n",
       "      <td>0</td>\n",
       "    </tr>\n",
       "    <tr>\n",
       "      <th>287</th>\n",
       "      <td>imagese/e/g/g/egg62e00/2041623408.tif</td>\n",
       "      <td>0</td>\n",
       "    </tr>\n",
       "  </tbody>\n",
       "</table>\n",
       "</div>"
      ],
      "text/plain": [
       "                                          image label\n",
       "283  imagesc/c/x/i/cxi21d00/522856617+-6618.tif     3\n",
       "284    imagesr/r/x/o/rxo96c00/50700312-0328.tif     6\n",
       "285       imagesv/v/j/e/vje71a00/2057421303.tif     7\n",
       "286        imagesa/a/p/m/apm49d00/501330410.tif     0\n",
       "287       imagese/e/g/g/egg62e00/2041623408.tif     0"
      ]
     },
     "metadata": {},
     "output_type": "display_data"
    }
   ],
   "source": [
    "display_info(df_sampled_valid_labels)"
   ]
  },
  {
   "cell_type": "code",
   "execution_count": 9,
   "metadata": {
    "scrolled": true
   },
   "outputs": [
    {
     "name": "stdout",
     "output_type": "stream",
     "text": [
      "Info\n",
      "<class 'pandas.core.frame.DataFrame'>\n",
      "RangeIndex: 192 entries, 0 to 191\n",
      "Data columns (total 2 columns):\n",
      " #   Column  Non-Null Count  Dtype \n",
      "---  ------  --------------  ----- \n",
      " 0   image   192 non-null    object\n",
      " 1   label   192 non-null    object\n",
      "dtypes: object(2)\n",
      "memory usage: 3.1+ KB\n",
      "(192, 2)\n",
      "Head\n"
     ]
    },
    {
     "data": {
      "text/html": [
       "<div>\n",
       "<style scoped>\n",
       "    .dataframe tbody tr th:only-of-type {\n",
       "        vertical-align: middle;\n",
       "    }\n",
       "\n",
       "    .dataframe tbody tr th {\n",
       "        vertical-align: top;\n",
       "    }\n",
       "\n",
       "    .dataframe thead th {\n",
       "        text-align: right;\n",
       "    }\n",
       "</style>\n",
       "<table border=\"1\" class=\"dataframe\">\n",
       "  <thead>\n",
       "    <tr style=\"text-align: right;\">\n",
       "      <th></th>\n",
       "      <th>image</th>\n",
       "      <th>label</th>\n",
       "    </tr>\n",
       "  </thead>\n",
       "  <tbody>\n",
       "    <tr>\n",
       "      <th>0</th>\n",
       "      <td>imagesl/l/x/p/lxp33a00/506047348+-7349.tif</td>\n",
       "      <td>0</td>\n",
       "    </tr>\n",
       "    <tr>\n",
       "      <th>1</th>\n",
       "      <td>imagesw/w/c/k/wck37d00/2075874221_4650.tif</td>\n",
       "      <td>5</td>\n",
       "    </tr>\n",
       "    <tr>\n",
       "      <th>2</th>\n",
       "      <td>imagesp/p/q/p/pqp82e00/2053783787.tif</td>\n",
       "      <td>1</td>\n",
       "    </tr>\n",
       "    <tr>\n",
       "      <th>3</th>\n",
       "      <td>imagesp/p/f/d/pfd50c00/ti17180517.tif</td>\n",
       "      <td>9</td>\n",
       "    </tr>\n",
       "    <tr>\n",
       "      <th>4</th>\n",
       "      <td>imagesd/d/q/i/dqi25a00/529215516+-5602.tif</td>\n",
       "      <td>2</td>\n",
       "    </tr>\n",
       "  </tbody>\n",
       "</table>\n",
       "</div>"
      ],
      "text/plain": [
       "                                        image label\n",
       "0  imagesl/l/x/p/lxp33a00/506047348+-7349.tif     0\n",
       "1  imagesw/w/c/k/wck37d00/2075874221_4650.tif     5\n",
       "2       imagesp/p/q/p/pqp82e00/2053783787.tif     1\n",
       "3       imagesp/p/f/d/pfd50c00/ti17180517.tif     9\n",
       "4  imagesd/d/q/i/dqi25a00/529215516+-5602.tif     2"
      ]
     },
     "metadata": {},
     "output_type": "display_data"
    },
    {
     "name": "stdout",
     "output_type": "stream",
     "text": [
      "Sample\n"
     ]
    },
    {
     "data": {
      "text/html": [
       "<div>\n",
       "<style scoped>\n",
       "    .dataframe tbody tr th:only-of-type {\n",
       "        vertical-align: middle;\n",
       "    }\n",
       "\n",
       "    .dataframe tbody tr th {\n",
       "        vertical-align: top;\n",
       "    }\n",
       "\n",
       "    .dataframe thead th {\n",
       "        text-align: right;\n",
       "    }\n",
       "</style>\n",
       "<table border=\"1\" class=\"dataframe\">\n",
       "  <thead>\n",
       "    <tr style=\"text-align: right;\">\n",
       "      <th></th>\n",
       "      <th>image</th>\n",
       "      <th>label</th>\n",
       "    </tr>\n",
       "  </thead>\n",
       "  <tbody>\n",
       "    <tr>\n",
       "      <th>165</th>\n",
       "      <td>imagesb/b/k/a/bka60d00/517516310+-6312.tif</td>\n",
       "      <td>3</td>\n",
       "    </tr>\n",
       "    <tr>\n",
       "      <th>28</th>\n",
       "      <td>imagest/t/u/w/tuw71e00/01145176.tif</td>\n",
       "      <td>11</td>\n",
       "    </tr>\n",
       "    <tr>\n",
       "      <th>156</th>\n",
       "      <td>imagesv/v/b/i/vbi16c00/2071325018.tif</td>\n",
       "      <td>8</td>\n",
       "    </tr>\n",
       "    <tr>\n",
       "      <th>45</th>\n",
       "      <td>imagesb/b/q/l/bql62f00/tob12105.71.tif</td>\n",
       "      <td>9</td>\n",
       "    </tr>\n",
       "    <tr>\n",
       "      <th>182</th>\n",
       "      <td>imagesc/c/f/u/cfu03e00/2049418253_2049418254.tif</td>\n",
       "      <td>10</td>\n",
       "    </tr>\n",
       "  </tbody>\n",
       "</table>\n",
       "</div>"
      ],
      "text/plain": [
       "                                                image label\n",
       "165        imagesb/b/k/a/bka60d00/517516310+-6312.tif     3\n",
       "28                imagest/t/u/w/tuw71e00/01145176.tif    11\n",
       "156             imagesv/v/b/i/vbi16c00/2071325018.tif     8\n",
       "45             imagesb/b/q/l/bql62f00/tob12105.71.tif     9\n",
       "182  imagesc/c/f/u/cfu03e00/2049418253_2049418254.tif    10"
      ]
     },
     "metadata": {},
     "output_type": "display_data"
    },
    {
     "name": "stdout",
     "output_type": "stream",
     "text": [
      "Tail\n"
     ]
    },
    {
     "data": {
      "text/html": [
       "<div>\n",
       "<style scoped>\n",
       "    .dataframe tbody tr th:only-of-type {\n",
       "        vertical-align: middle;\n",
       "    }\n",
       "\n",
       "    .dataframe tbody tr th {\n",
       "        vertical-align: top;\n",
       "    }\n",
       "\n",
       "    .dataframe thead th {\n",
       "        text-align: right;\n",
       "    }\n",
       "</style>\n",
       "<table border=\"1\" class=\"dataframe\">\n",
       "  <thead>\n",
       "    <tr style=\"text-align: right;\">\n",
       "      <th></th>\n",
       "      <th>image</th>\n",
       "      <th>label</th>\n",
       "    </tr>\n",
       "  </thead>\n",
       "  <tbody>\n",
       "    <tr>\n",
       "      <th>187</th>\n",
       "      <td>imagesf/f/m/c/fmc92a00/522497059+-7062.tif</td>\n",
       "      <td>13</td>\n",
       "    </tr>\n",
       "    <tr>\n",
       "      <th>188</th>\n",
       "      <td>imagesr/r/z/g/rzg21d00/515556447+-6448.tif</td>\n",
       "      <td>3</td>\n",
       "    </tr>\n",
       "    <tr>\n",
       "      <th>189</th>\n",
       "      <td>imagesd/d/q/u/dqu31d00/514228853+-8853.tif</td>\n",
       "      <td>1</td>\n",
       "    </tr>\n",
       "    <tr>\n",
       "      <th>190</th>\n",
       "      <td>imagesg/g/a/i/gai85a00/531531568+-1573.tif</td>\n",
       "      <td>2</td>\n",
       "    </tr>\n",
       "    <tr>\n",
       "      <th>191</th>\n",
       "      <td>imagesi/i/k/d/ikd10c00/2085134699.tif</td>\n",
       "      <td>2</td>\n",
       "    </tr>\n",
       "  </tbody>\n",
       "</table>\n",
       "</div>"
      ],
      "text/plain": [
       "                                          image label\n",
       "187  imagesf/f/m/c/fmc92a00/522497059+-7062.tif    13\n",
       "188  imagesr/r/z/g/rzg21d00/515556447+-6448.tif     3\n",
       "189  imagesd/d/q/u/dqu31d00/514228853+-8853.tif     1\n",
       "190  imagesg/g/a/i/gai85a00/531531568+-1573.tif     2\n",
       "191       imagesi/i/k/d/ikd10c00/2085134699.tif     2"
      ]
     },
     "metadata": {},
     "output_type": "display_data"
    }
   ],
   "source": [
    "display_info(df_sampled_test_labels)"
   ]
  },
  {
   "cell_type": "markdown",
   "metadata": {},
   "source": [
    "## Mini-dataset generation"
   ]
  },
  {
   "cell_type": "markdown",
   "metadata": {},
   "source": [
    "### Functions"
   ]
  },
  {
   "cell_type": "markdown",
   "metadata": {},
   "source": [
    "**generate_minidataset**: Creates in the specified hdf5 file a dataset with name _dataset_name_ and fills the dataset with the images in the dataframe _df_ as they are, without any preprocessing operations"
   ]
  },
  {
   "cell_type": "code",
   "execution_count": 10,
   "metadata": {},
   "outputs": [],
   "source": [
    "def generate_minidataset(hdf_file, df, dataset_name):\n",
    "    batch_dimension = 64\n",
    "    n_imgs = len(df.index)\n",
    "\n",
    "    print(\"Generating dataset \" + dataset_name + \" - \" + str(n_imgs) + \" images\")\n",
    "    \n",
    "    # Matrix containing img_path - label\n",
    "    matrix_labels = np.empty((n_imgs, 2), dtype=np.object)\n",
    "    \n",
    "    img_counter = 0\n",
    "    for row in tqdm(df.itertuples()):\n",
    "        thousand = img_counter // 10**3 % 10\n",
    "        hundred = img_counter // 10**2 % 10\n",
    "        ten = img_counter // 10 % 10\n",
    "        unit = img_counter % 10\n",
    "        \n",
    "        dest_folder_path = os.path.join(output_dataset_folder, dataset_name, str(thousand), str(hundred), str(ten), str(unit))\n",
    "        image_name = os.path.basename(row.image)\n",
    "        img_abs_path = os.path.join(dest_folder_path, image_name)\n",
    "        img_relative_path = os.path.join(dataset_name, str(thousand), str(hundred), str(ten), str(unit), image_name)\n",
    "        \n",
    "        os.makedirs(dest_folder_path, exist_ok=True)\n",
    "        copyfile(os.path.join(images_folder_path, row.image), img_abs_path)\n",
    "        \n",
    "        matrix_labels[i, 0] = img_relative_path\n",
    "        matrix_labels[i, 1] = row.label\n",
    "            \n",
    "        img_counter += 1\n",
    "    \n",
    "    # Save images relative paths and associated labels in a hdf5 file dictionary\n",
    "    dataset_labels = hdf_file.create_dataset(dataset_name, (n_imgs, 2), compression=\"gzip\")\n",
    "    dataset_labels = matrix_labels"
   ]
  },
  {
   "cell_type": "markdown",
   "metadata": {},
   "source": [
    "#### Generates the mini-dataset"
   ]
  },
  {
   "cell_type": "code",
   "execution_count": 11,
   "metadata": {
    "scrolled": true
   },
   "outputs": [
    {
     "name": "stderr",
     "output_type": "stream",
     "text": [
      "\r",
      "0it [00:00, ?it/s]"
     ]
    },
    {
     "name": "stdout",
     "output_type": "stream",
     "text": [
      "Generating dataset train - 1488 images\n"
     ]
    },
    {
     "name": "stderr",
     "output_type": "stream",
     "text": [
      "1488it [02:41,  9.20it/s]\n",
      "0it [00:00, ?it/s]"
     ]
    },
    {
     "name": "stdout",
     "output_type": "stream",
     "text": [
      "Generating dataset valid - 288 images\n"
     ]
    },
    {
     "name": "stderr",
     "output_type": "stream",
     "text": [
      "288it [00:24, 11.87it/s]\n",
      "1it [00:00,  7.55it/s]"
     ]
    },
    {
     "name": "stdout",
     "output_type": "stream",
     "text": [
      "Generating dataset test - 192 images\n"
     ]
    },
    {
     "name": "stderr",
     "output_type": "stream",
     "text": [
      "192it [00:17, 10.67it/s]\n"
     ]
    }
   ],
   "source": [
    "with h5py.File(os.path.join(output_dataset_folder, 'labels.h5'), 'w') as hdf_file:\n",
    "    generate_minidataset(hdf_file, df_sampled_train_labels, \"train\")\n",
    "    generate_minidataset(hdf_file, df_sampled_valid_labels, \"valid\")\n",
    "    generate_minidataset(hdf_file, df_sampled_test_labels, \"test\")"
   ]
  }
 ],
 "metadata": {
  "kernelspec": {
   "display_name": "Python 3",
   "language": "python",
   "name": "python3"
  },
  "language_info": {
   "codemirror_mode": {
    "name": "ipython",
    "version": 3
   },
   "file_extension": ".py",
   "mimetype": "text/x-python",
   "name": "python",
   "nbconvert_exporter": "python",
   "pygments_lexer": "ipython3",
   "version": "3.7.7"
  }
 },
 "nbformat": 4,
 "nbformat_minor": 4
}
