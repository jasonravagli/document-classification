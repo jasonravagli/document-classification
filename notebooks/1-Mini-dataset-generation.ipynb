{
 "cells": [
  {
   "cell_type": "markdown",
   "metadata": {},
   "source": [
    "# Preprocessing and mini-dataset generation"
   ]
  },
  {
   "cell_type": "code",
   "execution_count": 16,
   "metadata": {},
   "outputs": [
    {
     "name": "stdout",
     "output_type": "stream",
     "text": [
      "The memory_profiler extension is already loaded. To reload it, use:\n",
      "  %reload_ext memory_profiler\n",
      "The line_profiler extension is already loaded. To reload it, use:\n",
      "  %reload_ext line_profiler\n"
     ]
    }
   ],
   "source": [
    "import os\n",
    "import h5py\n",
    "import cv2\n",
    "import numpy as np\n",
    "import pandas as pd\n",
    "from tqdm import tqdm\n",
    "from keras.utils import to_categorical\n",
    "\n",
    "%load_ext memory_profiler\n",
    "%load_ext line_profiler"
   ]
  },
  {
   "cell_type": "markdown",
   "metadata": {},
   "source": [
    "##### Global parameters:"
   ]
  },
  {
   "cell_type": "code",
   "execution_count": 17,
   "metadata": {},
   "outputs": [],
   "source": [
    "dataset_path = \"/Volumes/Part1/datasets/rvl-cdip\"\n",
    "images_folder_path = os.path.join(dataset_path, \"images\")\n",
    "project_folder = \"/Users/jasonravagli/Desktop/Scuola/Università-Magistrale/data-and-document-mining/document-classification\"\n",
    "resources_folder = os.path.join(project_folder, \"resources\")\n",
    "output_folder = os.path.join(resources_folder, \"output\")\n",
    "debug_folder = os.path.join(resources_folder, \"debug\")\n",
    "\n",
    "# Number of images classes\n",
    "n_classes = 16\n",
    "\n",
    "# Dimensions of the dataset to be generated\n",
    "mini_train_set_dimension = 1600\n",
    "mini_valid_set_dimension = 200\n",
    "mini_test_set_dimension =  200\n",
    "\n",
    "# Width threshold: all images having width greater than this will be discarded\n",
    "width_threshold = 875\n",
    "\n",
    "# Shape that all images must have inside the final mini-dataset (choose basing on statistical analysis)\n",
    "target_shape = (1000,750)"
   ]
  },
  {
   "cell_type": "markdown",
   "metadata": {},
   "source": [
    "#### Setup folders"
   ]
  },
  {
   "cell_type": "code",
   "execution_count": 18,
   "metadata": {},
   "outputs": [],
   "source": [
    "os.makedirs(output_folder, exist_ok=True)\n",
    "os.makedirs(debug_folder, exist_ok=True)\n",
    "\n",
    "# Folders to manually check some processed images\n",
    "debug_folder_reshaped_imgs = os.path.join(debug_folder, \"reshaped_imgs\")\n",
    "\n",
    "# Folders to manually check some images read from the generated dataset\n",
    "debug_folder_dataset_imgs = os.path.join(debug_folder, \"dataset_imgs\")\n",
    "\n",
    "os.makedirs(debug_folder_reshaped_imgs, exist_ok=True)\n",
    "os.makedirs(debug_folder_dataset_imgs, exist_ok=True)"
   ]
  },
  {
   "cell_type": "markdown",
   "metadata": {},
   "source": [
    "Utility function to display dataframe info:"
   ]
  },
  {
   "cell_type": "code",
   "execution_count": 19,
   "metadata": {},
   "outputs": [],
   "source": [
    "def display_info(df=None, rows=5):\n",
    "    try:\n",
    "        print(\"Info\")\n",
    "        df.info(verbose=True)\n",
    "        print(df.shape)\n",
    "        print(\"Head\")\n",
    "        display(df.head(rows))\n",
    "        print(\"Sample\")\n",
    "        display(df.sample(rows))\n",
    "        print(\"Tail\")\n",
    "        display(df.tail(rows))\n",
    "    except:\n",
    "        print(\"Errore nella visualizzazione\")"
   ]
  },
  {
   "cell_type": "markdown",
   "metadata": {},
   "source": [
    "## Data Sampling"
   ]
  },
  {
   "cell_type": "markdown",
   "metadata": {},
   "source": [
    "#### Read the labels files:"
   ]
  },
  {
   "cell_type": "code",
   "execution_count": 20,
   "metadata": {
    "scrolled": true
   },
   "outputs": [
    {
     "name": "stdout",
     "output_type": "stream",
     "text": [
      "peak memory: 307.91 MiB, increment: 61.28 MiB\n",
      "peak memory: 312.24 MiB, increment: 4.32 MiB\n",
      "peak memory: 297.32 MiB, increment: 14.41 MiB\n",
      "Info\n",
      "<class 'pandas.core.frame.DataFrame'>\n",
      "RangeIndex: 320000 entries, 0 to 319999\n",
      "Data columns (total 2 columns):\n",
      " #   Column  Non-Null Count   Dtype \n",
      "---  ------  --------------   ----- \n",
      " 0   image   320000 non-null  object\n",
      " 1   label   320000 non-null  int64 \n",
      "dtypes: int64(1), object(1)\n",
      "memory usage: 4.9+ MB\n",
      "(320000, 2)\n",
      "Head\n"
     ]
    },
    {
     "data": {
      "text/html": [
       "<div>\n",
       "<style scoped>\n",
       "    .dataframe tbody tr th:only-of-type {\n",
       "        vertical-align: middle;\n",
       "    }\n",
       "\n",
       "    .dataframe tbody tr th {\n",
       "        vertical-align: top;\n",
       "    }\n",
       "\n",
       "    .dataframe thead th {\n",
       "        text-align: right;\n",
       "    }\n",
       "</style>\n",
       "<table border=\"1\" class=\"dataframe\">\n",
       "  <thead>\n",
       "    <tr style=\"text-align: right;\">\n",
       "      <th></th>\n",
       "      <th>image</th>\n",
       "      <th>label</th>\n",
       "    </tr>\n",
       "  </thead>\n",
       "  <tbody>\n",
       "    <tr>\n",
       "      <th>0</th>\n",
       "      <td>imagesq/q/o/c/qoc54c00/80035521.tif</td>\n",
       "      <td>15</td>\n",
       "    </tr>\n",
       "    <tr>\n",
       "      <th>1</th>\n",
       "      <td>imagese/e/w/c/ewc23d00/513280028.tif</td>\n",
       "      <td>1</td>\n",
       "    </tr>\n",
       "    <tr>\n",
       "      <th>2</th>\n",
       "      <td>imagesw/w/b/t/wbt26e00/2053453161.tif</td>\n",
       "      <td>7</td>\n",
       "    </tr>\n",
       "    <tr>\n",
       "      <th>3</th>\n",
       "      <td>imagesm/m/k/m/mkm05e00/2040792992_2040792994.tif</td>\n",
       "      <td>10</td>\n",
       "    </tr>\n",
       "    <tr>\n",
       "      <th>4</th>\n",
       "      <td>imageso/o/e/x/oex80d00/522787731+-7732.tif</td>\n",
       "      <td>3</td>\n",
       "    </tr>\n",
       "  </tbody>\n",
       "</table>\n",
       "</div>"
      ],
      "text/plain": [
       "                                              image  label\n",
       "0               imagesq/q/o/c/qoc54c00/80035521.tif     15\n",
       "1              imagese/e/w/c/ewc23d00/513280028.tif      1\n",
       "2             imagesw/w/b/t/wbt26e00/2053453161.tif      7\n",
       "3  imagesm/m/k/m/mkm05e00/2040792992_2040792994.tif     10\n",
       "4        imageso/o/e/x/oex80d00/522787731+-7732.tif      3"
      ]
     },
     "metadata": {},
     "output_type": "display_data"
    },
    {
     "name": "stdout",
     "output_type": "stream",
     "text": [
      "Sample\n"
     ]
    },
    {
     "data": {
      "text/html": [
       "<div>\n",
       "<style scoped>\n",
       "    .dataframe tbody tr th:only-of-type {\n",
       "        vertical-align: middle;\n",
       "    }\n",
       "\n",
       "    .dataframe tbody tr th {\n",
       "        vertical-align: top;\n",
       "    }\n",
       "\n",
       "    .dataframe thead th {\n",
       "        text-align: right;\n",
       "    }\n",
       "</style>\n",
       "<table border=\"1\" class=\"dataframe\">\n",
       "  <thead>\n",
       "    <tr style=\"text-align: right;\">\n",
       "      <th></th>\n",
       "      <th>image</th>\n",
       "      <th>label</th>\n",
       "    </tr>\n",
       "  </thead>\n",
       "  <tbody>\n",
       "    <tr>\n",
       "      <th>186163</th>\n",
       "      <td>imagesu/u/j/s/ujs53c00/98704446_4455.tif</td>\n",
       "      <td>15</td>\n",
       "    </tr>\n",
       "    <tr>\n",
       "      <th>167711</th>\n",
       "      <td>imagesj/j/d/i/jdi35e00/2024525715.tif</td>\n",
       "      <td>11</td>\n",
       "    </tr>\n",
       "    <tr>\n",
       "      <th>168088</th>\n",
       "      <td>imagesp/p/q/j/pqj93d00/508482687_508482694.tif</td>\n",
       "      <td>7</td>\n",
       "    </tr>\n",
       "    <tr>\n",
       "      <th>294772</th>\n",
       "      <td>imagesu/u/h/w/uhw73c00/2065165656.tif</td>\n",
       "      <td>12</td>\n",
       "    </tr>\n",
       "    <tr>\n",
       "      <th>267695</th>\n",
       "      <td>imagesh/h/h/z/hhz75c00/2077981711.tif</td>\n",
       "      <td>1</td>\n",
       "    </tr>\n",
       "  </tbody>\n",
       "</table>\n",
       "</div>"
      ],
      "text/plain": [
       "                                                 image  label\n",
       "186163        imagesu/u/j/s/ujs53c00/98704446_4455.tif     15\n",
       "167711           imagesj/j/d/i/jdi35e00/2024525715.tif     11\n",
       "168088  imagesp/p/q/j/pqj93d00/508482687_508482694.tif      7\n",
       "294772           imagesu/u/h/w/uhw73c00/2065165656.tif     12\n",
       "267695           imagesh/h/h/z/hhz75c00/2077981711.tif      1"
      ]
     },
     "metadata": {},
     "output_type": "display_data"
    },
    {
     "name": "stdout",
     "output_type": "stream",
     "text": [
      "Tail\n"
     ]
    },
    {
     "data": {
      "text/html": [
       "<div>\n",
       "<style scoped>\n",
       "    .dataframe tbody tr th:only-of-type {\n",
       "        vertical-align: middle;\n",
       "    }\n",
       "\n",
       "    .dataframe tbody tr th {\n",
       "        vertical-align: top;\n",
       "    }\n",
       "\n",
       "    .dataframe thead th {\n",
       "        text-align: right;\n",
       "    }\n",
       "</style>\n",
       "<table border=\"1\" class=\"dataframe\">\n",
       "  <thead>\n",
       "    <tr style=\"text-align: right;\">\n",
       "      <th></th>\n",
       "      <th>image</th>\n",
       "      <th>label</th>\n",
       "    </tr>\n",
       "  </thead>\n",
       "  <tbody>\n",
       "    <tr>\n",
       "      <th>319995</th>\n",
       "      <td>imagesu/u/p/p/upp04f00/0000282789.tif</td>\n",
       "      <td>9</td>\n",
       "    </tr>\n",
       "    <tr>\n",
       "      <th>319996</th>\n",
       "      <td>imagesa/a/c/z/acz60f00/0011972032.tif</td>\n",
       "      <td>15</td>\n",
       "    </tr>\n",
       "    <tr>\n",
       "      <th>319997</th>\n",
       "      <td>imagesu/u/j/m/ujm20a00/10155388.tif</td>\n",
       "      <td>6</td>\n",
       "    </tr>\n",
       "    <tr>\n",
       "      <th>319998</th>\n",
       "      <td>imagesd/d/r/r/drr93f00/0000343578.tif</td>\n",
       "      <td>9</td>\n",
       "    </tr>\n",
       "    <tr>\n",
       "      <th>319999</th>\n",
       "      <td>imagesp/p/j/x/pjx11d00/518223252+-3253.tif</td>\n",
       "      <td>3</td>\n",
       "    </tr>\n",
       "  </tbody>\n",
       "</table>\n",
       "</div>"
      ],
      "text/plain": [
       "                                             image  label\n",
       "319995       imagesu/u/p/p/upp04f00/0000282789.tif      9\n",
       "319996       imagesa/a/c/z/acz60f00/0011972032.tif     15\n",
       "319997         imagesu/u/j/m/ujm20a00/10155388.tif      6\n",
       "319998       imagesd/d/r/r/drr93f00/0000343578.tif      9\n",
       "319999  imagesp/p/j/x/pjx11d00/518223252+-3253.tif      3"
      ]
     },
     "metadata": {},
     "output_type": "display_data"
    }
   ],
   "source": [
    "%memit df_train_labels = pd.read_csv(os.path.join(dataset_path, \"labels/train.txt\"), sep=\" \",\\\n",
    "                                     names=[\"image\", \"label\"], skipinitialspace=True)\n",
    "%memit df_valid_labels = pd.read_csv(os.path.join(dataset_path, \"labels/val.txt\"), sep=\" \",\\\n",
    "                                     names=[\"image\", \"label\"], skipinitialspace=True)\n",
    "%memit df_test_labels = pd.read_csv(os.path.join(dataset_path, \"labels/test.txt\"), sep=\" \",\\\n",
    "                                    names=[\"image\", \"label\"], skipinitialspace=True)\n",
    "\n",
    "# Reset column names because of strange whitespaces added to the column names after reading\n",
    "df_train_labels.columns = [\"image\", \"label\"]\n",
    "df_valid_labels.columns = [\"image\", \"label\"]\n",
    "df_test_labels.columns = [\"image\", \"label\"]\n",
    "\n",
    "# Display some info to verify the correctness of the data read\n",
    "display_info(df_train_labels)"
   ]
  },
  {
   "cell_type": "markdown",
   "metadata": {},
   "source": [
    "#### Random sample data preserving ratio between classes"
   ]
  },
  {
   "cell_type": "code",
   "execution_count": 21,
   "metadata": {},
   "outputs": [],
   "source": [
    "train_data_per_class = mini_train_set_dimension//n_classes\n",
    "valid_data_per_class = mini_valid_set_dimension//n_classes\n",
    "test_data_per_class = mini_test_set_dimension//n_classes\n",
    "\n",
    "df_sampled_train_labels = pd.DataFrame(columns = df_train_labels.columns)\n",
    "df_sampled_valid_labels = pd.DataFrame(columns = df_valid_labels.columns)\n",
    "df_sampled_test_labels = pd.DataFrame(columns = df_test_labels.columns)\n",
    "\n",
    "for i in range(n_classes):\n",
    "    df_sampled_train_labels = pd.concat([df_sampled_train_labels, \\\n",
    "                                         df_train_labels.loc[df_train_labels[\"label\"] == i].sample(n=train_data_per_class)])\n",
    "    df_sampled_valid_labels = pd.concat([df_sampled_valid_labels, \\\n",
    "                                         df_valid_labels.loc[df_valid_labels[\"label\"] == i].sample(n=valid_data_per_class)])\n",
    "    df_sampled_test_labels = pd.concat([df_sampled_test_labels, \\\n",
    "                                         df_test_labels.loc[df_test_labels[\"label\"] == i].sample(n=test_data_per_class)])\n",
    "\n",
    "df_sampled_train_labels = df_sampled_train_labels.sample(frac=1).reset_index(drop=True)\n",
    "df_sampled_valid_labels = df_sampled_valid_labels.sample(frac=1).reset_index(drop=True)\n",
    "df_sampled_test_labels = df_sampled_test_labels.sample(frac=1).reset_index(drop=True)"
   ]
  },
  {
   "cell_type": "markdown",
   "metadata": {},
   "source": [
    "## Data verification and analysis"
   ]
  },
  {
   "cell_type": "markdown",
   "metadata": {},
   "source": [
    "#### Display generated dataframes summaries to verify their correctness"
   ]
  },
  {
   "cell_type": "code",
   "execution_count": 22,
   "metadata": {
    "scrolled": true
   },
   "outputs": [
    {
     "name": "stdout",
     "output_type": "stream",
     "text": [
      "Info\n",
      "<class 'pandas.core.frame.DataFrame'>\n",
      "RangeIndex: 1600 entries, 0 to 1599\n",
      "Data columns (total 2 columns):\n",
      " #   Column  Non-Null Count  Dtype \n",
      "---  ------  --------------  ----- \n",
      " 0   image   1600 non-null   object\n",
      " 1   label   1600 non-null   object\n",
      "dtypes: object(2)\n",
      "memory usage: 25.1+ KB\n",
      "(1600, 2)\n",
      "Head\n"
     ]
    },
    {
     "data": {
      "text/html": [
       "<div>\n",
       "<style scoped>\n",
       "    .dataframe tbody tr th:only-of-type {\n",
       "        vertical-align: middle;\n",
       "    }\n",
       "\n",
       "    .dataframe tbody tr th {\n",
       "        vertical-align: top;\n",
       "    }\n",
       "\n",
       "    .dataframe thead th {\n",
       "        text-align: right;\n",
       "    }\n",
       "</style>\n",
       "<table border=\"1\" class=\"dataframe\">\n",
       "  <thead>\n",
       "    <tr style=\"text-align: right;\">\n",
       "      <th></th>\n",
       "      <th>image</th>\n",
       "      <th>label</th>\n",
       "    </tr>\n",
       "  </thead>\n",
       "  <tbody>\n",
       "    <tr>\n",
       "      <th>0</th>\n",
       "      <td>imagesg/g/n/z/gnz96d00/timo0006156_6158.tif</td>\n",
       "      <td>10</td>\n",
       "    </tr>\n",
       "    <tr>\n",
       "      <th>1</th>\n",
       "      <td>imagesd/d/g/d/dgd92e00/2061832119.tif</td>\n",
       "      <td>11</td>\n",
       "    </tr>\n",
       "    <tr>\n",
       "      <th>2</th>\n",
       "      <td>imagesv/v/t/a/vta10f00/0000554960.tif</td>\n",
       "      <td>15</td>\n",
       "    </tr>\n",
       "    <tr>\n",
       "      <th>3</th>\n",
       "      <td>imagesl/l/y/y/lyy87e00/2060579707_2060579711.tif</td>\n",
       "      <td>5</td>\n",
       "    </tr>\n",
       "    <tr>\n",
       "      <th>4</th>\n",
       "      <td>imagesy/y/w/q/ywq99d00/88802621_88802632.tif</td>\n",
       "      <td>5</td>\n",
       "    </tr>\n",
       "  </tbody>\n",
       "</table>\n",
       "</div>"
      ],
      "text/plain": [
       "                                              image label\n",
       "0       imagesg/g/n/z/gnz96d00/timo0006156_6158.tif    10\n",
       "1             imagesd/d/g/d/dgd92e00/2061832119.tif    11\n",
       "2             imagesv/v/t/a/vta10f00/0000554960.tif    15\n",
       "3  imagesl/l/y/y/lyy87e00/2060579707_2060579711.tif     5\n",
       "4      imagesy/y/w/q/ywq99d00/88802621_88802632.tif     5"
      ]
     },
     "metadata": {},
     "output_type": "display_data"
    },
    {
     "name": "stdout",
     "output_type": "stream",
     "text": [
      "Sample\n"
     ]
    },
    {
     "data": {
      "text/html": [
       "<div>\n",
       "<style scoped>\n",
       "    .dataframe tbody tr th:only-of-type {\n",
       "        vertical-align: middle;\n",
       "    }\n",
       "\n",
       "    .dataframe tbody tr th {\n",
       "        vertical-align: top;\n",
       "    }\n",
       "\n",
       "    .dataframe thead th {\n",
       "        text-align: right;\n",
       "    }\n",
       "</style>\n",
       "<table border=\"1\" class=\"dataframe\">\n",
       "  <thead>\n",
       "    <tr style=\"text-align: right;\">\n",
       "      <th></th>\n",
       "      <th>image</th>\n",
       "      <th>label</th>\n",
       "    </tr>\n",
       "  </thead>\n",
       "  <tbody>\n",
       "    <tr>\n",
       "      <th>97</th>\n",
       "      <td>imagesx/x/z/z/xzz98e00/2029372111_2029372112.tif</td>\n",
       "      <td>11</td>\n",
       "    </tr>\n",
       "    <tr>\n",
       "      <th>1427</th>\n",
       "      <td>imagesb/b/o/h/boh25f00/0060212770.tif</td>\n",
       "      <td>8</td>\n",
       "    </tr>\n",
       "    <tr>\n",
       "      <th>1089</th>\n",
       "      <td>imagesi/i/m/r/imr72a00/528151513+-1514.tif</td>\n",
       "      <td>2</td>\n",
       "    </tr>\n",
       "    <tr>\n",
       "      <th>575</th>\n",
       "      <td>imagesp/p/p/g/ppg05e00/2041374188_2041374189.tif</td>\n",
       "      <td>10</td>\n",
       "    </tr>\n",
       "    <tr>\n",
       "      <th>3</th>\n",
       "      <td>imagesl/l/y/y/lyy87e00/2060579707_2060579711.tif</td>\n",
       "      <td>5</td>\n",
       "    </tr>\n",
       "  </tbody>\n",
       "</table>\n",
       "</div>"
      ],
      "text/plain": [
       "                                                 image label\n",
       "97    imagesx/x/z/z/xzz98e00/2029372111_2029372112.tif    11\n",
       "1427             imagesb/b/o/h/boh25f00/0060212770.tif     8\n",
       "1089        imagesi/i/m/r/imr72a00/528151513+-1514.tif     2\n",
       "575   imagesp/p/p/g/ppg05e00/2041374188_2041374189.tif    10\n",
       "3     imagesl/l/y/y/lyy87e00/2060579707_2060579711.tif     5"
      ]
     },
     "metadata": {},
     "output_type": "display_data"
    },
    {
     "name": "stdout",
     "output_type": "stream",
     "text": [
      "Tail\n"
     ]
    },
    {
     "data": {
      "text/html": [
       "<div>\n",
       "<style scoped>\n",
       "    .dataframe tbody tr th:only-of-type {\n",
       "        vertical-align: middle;\n",
       "    }\n",
       "\n",
       "    .dataframe tbody tr th {\n",
       "        vertical-align: top;\n",
       "    }\n",
       "\n",
       "    .dataframe thead th {\n",
       "        text-align: right;\n",
       "    }\n",
       "</style>\n",
       "<table border=\"1\" class=\"dataframe\">\n",
       "  <thead>\n",
       "    <tr style=\"text-align: right;\">\n",
       "      <th></th>\n",
       "      <th>image</th>\n",
       "      <th>label</th>\n",
       "    </tr>\n",
       "  </thead>\n",
       "  <tbody>\n",
       "    <tr>\n",
       "      <th>1595</th>\n",
       "      <td>imagesr/r/u/k/ruk83e00/2028956806_2028956810.tif</td>\n",
       "      <td>5</td>\n",
       "    </tr>\n",
       "    <tr>\n",
       "      <th>1596</th>\n",
       "      <td>imagesg/g/n/w/gnw67c00/2078801070a.tif</td>\n",
       "      <td>2</td>\n",
       "    </tr>\n",
       "    <tr>\n",
       "      <th>1597</th>\n",
       "      <td>imagesn/n/i/g/nig32e00/2501403915_2501403925.tif</td>\n",
       "      <td>12</td>\n",
       "    </tr>\n",
       "    <tr>\n",
       "      <th>1598</th>\n",
       "      <td>imagest/t/m/w/tmw52f00/tob12722.90_tob12722.97...</td>\n",
       "      <td>10</td>\n",
       "    </tr>\n",
       "    <tr>\n",
       "      <th>1599</th>\n",
       "      <td>imagesy/y/n/o/yno62d00/81638153.tif</td>\n",
       "      <td>9</td>\n",
       "    </tr>\n",
       "  </tbody>\n",
       "</table>\n",
       "</div>"
      ],
      "text/plain": [
       "                                                  image label\n",
       "1595   imagesr/r/u/k/ruk83e00/2028956806_2028956810.tif     5\n",
       "1596             imagesg/g/n/w/gnw67c00/2078801070a.tif     2\n",
       "1597   imagesn/n/i/g/nig32e00/2501403915_2501403925.tif    12\n",
       "1598  imagest/t/m/w/tmw52f00/tob12722.90_tob12722.97...    10\n",
       "1599                imagesy/y/n/o/yno62d00/81638153.tif     9"
      ]
     },
     "metadata": {},
     "output_type": "display_data"
    }
   ],
   "source": [
    "display_info(df_sampled_train_labels)"
   ]
  },
  {
   "cell_type": "code",
   "execution_count": 23,
   "metadata": {
    "scrolled": true
   },
   "outputs": [
    {
     "name": "stdout",
     "output_type": "stream",
     "text": [
      "Info\n",
      "<class 'pandas.core.frame.DataFrame'>\n",
      "RangeIndex: 192 entries, 0 to 191\n",
      "Data columns (total 2 columns):\n",
      " #   Column  Non-Null Count  Dtype \n",
      "---  ------  --------------  ----- \n",
      " 0   image   192 non-null    object\n",
      " 1   label   192 non-null    object\n",
      "dtypes: object(2)\n",
      "memory usage: 3.1+ KB\n",
      "(192, 2)\n",
      "Head\n"
     ]
    },
    {
     "data": {
      "text/html": [
       "<div>\n",
       "<style scoped>\n",
       "    .dataframe tbody tr th:only-of-type {\n",
       "        vertical-align: middle;\n",
       "    }\n",
       "\n",
       "    .dataframe tbody tr th {\n",
       "        vertical-align: top;\n",
       "    }\n",
       "\n",
       "    .dataframe thead th {\n",
       "        text-align: right;\n",
       "    }\n",
       "</style>\n",
       "<table border=\"1\" class=\"dataframe\">\n",
       "  <thead>\n",
       "    <tr style=\"text-align: right;\">\n",
       "      <th></th>\n",
       "      <th>image</th>\n",
       "      <th>label</th>\n",
       "    </tr>\n",
       "  </thead>\n",
       "  <tbody>\n",
       "    <tr>\n",
       "      <th>0</th>\n",
       "      <td>imageso/o/b/q/obq30d00/524384863+-4864.tif</td>\n",
       "      <td>3</td>\n",
       "    </tr>\n",
       "    <tr>\n",
       "      <th>1</th>\n",
       "      <td>imagesf/f/d/o/fdo00e00/91694274.tif</td>\n",
       "      <td>11</td>\n",
       "    </tr>\n",
       "    <tr>\n",
       "      <th>2</th>\n",
       "      <td>imagesu/u/s/v/usv42f00/tob16805.45.tif</td>\n",
       "      <td>0</td>\n",
       "    </tr>\n",
       "    <tr>\n",
       "      <th>3</th>\n",
       "      <td>imagesv/v/b/x/vbx31e00/85240117_85240118.tif</td>\n",
       "      <td>15</td>\n",
       "    </tr>\n",
       "    <tr>\n",
       "      <th>4</th>\n",
       "      <td>imagesz/z/z/c/zzc27e00/2028706323.tif</td>\n",
       "      <td>1</td>\n",
       "    </tr>\n",
       "  </tbody>\n",
       "</table>\n",
       "</div>"
      ],
      "text/plain": [
       "                                          image label\n",
       "0    imageso/o/b/q/obq30d00/524384863+-4864.tif     3\n",
       "1           imagesf/f/d/o/fdo00e00/91694274.tif    11\n",
       "2        imagesu/u/s/v/usv42f00/tob16805.45.tif     0\n",
       "3  imagesv/v/b/x/vbx31e00/85240117_85240118.tif    15\n",
       "4         imagesz/z/z/c/zzc27e00/2028706323.tif     1"
      ]
     },
     "metadata": {},
     "output_type": "display_data"
    },
    {
     "name": "stdout",
     "output_type": "stream",
     "text": [
      "Sample\n"
     ]
    },
    {
     "data": {
      "text/html": [
       "<div>\n",
       "<style scoped>\n",
       "    .dataframe tbody tr th:only-of-type {\n",
       "        vertical-align: middle;\n",
       "    }\n",
       "\n",
       "    .dataframe tbody tr th {\n",
       "        vertical-align: top;\n",
       "    }\n",
       "\n",
       "    .dataframe thead th {\n",
       "        text-align: right;\n",
       "    }\n",
       "</style>\n",
       "<table border=\"1\" class=\"dataframe\">\n",
       "  <thead>\n",
       "    <tr style=\"text-align: right;\">\n",
       "      <th></th>\n",
       "      <th>image</th>\n",
       "      <th>label</th>\n",
       "    </tr>\n",
       "  </thead>\n",
       "  <tbody>\n",
       "    <tr>\n",
       "      <th>176</th>\n",
       "      <td>imagesr/r/s/w/rsw43e00/2062077610_2062077619.tif</td>\n",
       "      <td>5</td>\n",
       "    </tr>\n",
       "    <tr>\n",
       "      <th>28</th>\n",
       "      <td>imagesg/g/r/o/gro09d00/50450512-0513.tif</td>\n",
       "      <td>14</td>\n",
       "    </tr>\n",
       "    <tr>\n",
       "      <th>113</th>\n",
       "      <td>imagesy/y/e/n/yen26d00/50619510-9510.tif</td>\n",
       "      <td>6</td>\n",
       "    </tr>\n",
       "    <tr>\n",
       "      <th>166</th>\n",
       "      <td>imagesj/j/t/u/jtu64d00/98672767_2782.tif</td>\n",
       "      <td>15</td>\n",
       "    </tr>\n",
       "    <tr>\n",
       "      <th>32</th>\n",
       "      <td>imagesm/m/r/p/mrp65d00/504500235.tif</td>\n",
       "      <td>7</td>\n",
       "    </tr>\n",
       "  </tbody>\n",
       "</table>\n",
       "</div>"
      ],
      "text/plain": [
       "                                                image label\n",
       "176  imagesr/r/s/w/rsw43e00/2062077610_2062077619.tif     5\n",
       "28           imagesg/g/r/o/gro09d00/50450512-0513.tif    14\n",
       "113          imagesy/y/e/n/yen26d00/50619510-9510.tif     6\n",
       "166          imagesj/j/t/u/jtu64d00/98672767_2782.tif    15\n",
       "32               imagesm/m/r/p/mrp65d00/504500235.tif     7"
      ]
     },
     "metadata": {},
     "output_type": "display_data"
    },
    {
     "name": "stdout",
     "output_type": "stream",
     "text": [
      "Tail\n"
     ]
    },
    {
     "data": {
      "text/html": [
       "<div>\n",
       "<style scoped>\n",
       "    .dataframe tbody tr th:only-of-type {\n",
       "        vertical-align: middle;\n",
       "    }\n",
       "\n",
       "    .dataframe tbody tr th {\n",
       "        vertical-align: top;\n",
       "    }\n",
       "\n",
       "    .dataframe thead th {\n",
       "        text-align: right;\n",
       "    }\n",
       "</style>\n",
       "<table border=\"1\" class=\"dataframe\">\n",
       "  <thead>\n",
       "    <tr style=\"text-align: right;\">\n",
       "      <th></th>\n",
       "      <th>image</th>\n",
       "      <th>label</th>\n",
       "    </tr>\n",
       "  </thead>\n",
       "  <tbody>\n",
       "    <tr>\n",
       "      <th>187</th>\n",
       "      <td>imagesi/i/a/e/iae07c00/70062294-2294.tif</td>\n",
       "      <td>13</td>\n",
       "    </tr>\n",
       "    <tr>\n",
       "      <th>188</th>\n",
       "      <td>imagesw/w/v/o/wvo74e00/1000217672.tif</td>\n",
       "      <td>6</td>\n",
       "    </tr>\n",
       "    <tr>\n",
       "      <th>189</th>\n",
       "      <td>imageso/o/s/h/osh11d00/520755520+-5521.tif</td>\n",
       "      <td>3</td>\n",
       "    </tr>\n",
       "    <tr>\n",
       "      <th>190</th>\n",
       "      <td>imagesk/k/x/y/kxy48d00/2063753039.tif</td>\n",
       "      <td>9</td>\n",
       "    </tr>\n",
       "    <tr>\n",
       "      <th>191</th>\n",
       "      <td>imagesp/p/q/a/pqa64e00/2056975783.tif</td>\n",
       "      <td>11</td>\n",
       "    </tr>\n",
       "  </tbody>\n",
       "</table>\n",
       "</div>"
      ],
      "text/plain": [
       "                                          image label\n",
       "187    imagesi/i/a/e/iae07c00/70062294-2294.tif    13\n",
       "188       imagesw/w/v/o/wvo74e00/1000217672.tif     6\n",
       "189  imageso/o/s/h/osh11d00/520755520+-5521.tif     3\n",
       "190       imagesk/k/x/y/kxy48d00/2063753039.tif     9\n",
       "191       imagesp/p/q/a/pqa64e00/2056975783.tif    11"
      ]
     },
     "metadata": {},
     "output_type": "display_data"
    }
   ],
   "source": [
    "display_info(df_sampled_valid_labels)"
   ]
  },
  {
   "cell_type": "code",
   "execution_count": 24,
   "metadata": {
    "scrolled": true
   },
   "outputs": [
    {
     "name": "stdout",
     "output_type": "stream",
     "text": [
      "Info\n",
      "<class 'pandas.core.frame.DataFrame'>\n",
      "RangeIndex: 192 entries, 0 to 191\n",
      "Data columns (total 2 columns):\n",
      " #   Column  Non-Null Count  Dtype \n",
      "---  ------  --------------  ----- \n",
      " 0   image   192 non-null    object\n",
      " 1   label   192 non-null    object\n",
      "dtypes: object(2)\n",
      "memory usage: 3.1+ KB\n",
      "(192, 2)\n",
      "Head\n"
     ]
    },
    {
     "data": {
      "text/html": [
       "<div>\n",
       "<style scoped>\n",
       "    .dataframe tbody tr th:only-of-type {\n",
       "        vertical-align: middle;\n",
       "    }\n",
       "\n",
       "    .dataframe tbody tr th {\n",
       "        vertical-align: top;\n",
       "    }\n",
       "\n",
       "    .dataframe thead th {\n",
       "        text-align: right;\n",
       "    }\n",
       "</style>\n",
       "<table border=\"1\" class=\"dataframe\">\n",
       "  <thead>\n",
       "    <tr style=\"text-align: right;\">\n",
       "      <th></th>\n",
       "      <th>image</th>\n",
       "      <th>label</th>\n",
       "    </tr>\n",
       "  </thead>\n",
       "  <tbody>\n",
       "    <tr>\n",
       "      <th>0</th>\n",
       "      <td>imagese/e/b/i/ebi63c00/2064938051.tif</td>\n",
       "      <td>9</td>\n",
       "    </tr>\n",
       "    <tr>\n",
       "      <th>1</th>\n",
       "      <td>imagesu/u/l/f/ulf01d00/518214896+-4897.tif</td>\n",
       "      <td>3</td>\n",
       "    </tr>\n",
       "    <tr>\n",
       "      <th>2</th>\n",
       "      <td>imagesz/z/p/h/zph63a00/507204402+-4417.tif</td>\n",
       "      <td>13</td>\n",
       "    </tr>\n",
       "    <tr>\n",
       "      <th>3</th>\n",
       "      <td>imagesh/h/o/q/hoq40d00/517303711+-3712.tif</td>\n",
       "      <td>3</td>\n",
       "    </tr>\n",
       "    <tr>\n",
       "      <th>4</th>\n",
       "      <td>imagesm/m/d/x/mdx34c00/83553602_3608.tif</td>\n",
       "      <td>11</td>\n",
       "    </tr>\n",
       "  </tbody>\n",
       "</table>\n",
       "</div>"
      ],
      "text/plain": [
       "                                        image label\n",
       "0       imagese/e/b/i/ebi63c00/2064938051.tif     9\n",
       "1  imagesu/u/l/f/ulf01d00/518214896+-4897.tif     3\n",
       "2  imagesz/z/p/h/zph63a00/507204402+-4417.tif    13\n",
       "3  imagesh/h/o/q/hoq40d00/517303711+-3712.tif     3\n",
       "4    imagesm/m/d/x/mdx34c00/83553602_3608.tif    11"
      ]
     },
     "metadata": {},
     "output_type": "display_data"
    },
    {
     "name": "stdout",
     "output_type": "stream",
     "text": [
      "Sample\n"
     ]
    },
    {
     "data": {
      "text/html": [
       "<div>\n",
       "<style scoped>\n",
       "    .dataframe tbody tr th:only-of-type {\n",
       "        vertical-align: middle;\n",
       "    }\n",
       "\n",
       "    .dataframe tbody tr th {\n",
       "        vertical-align: top;\n",
       "    }\n",
       "\n",
       "    .dataframe thead th {\n",
       "        text-align: right;\n",
       "    }\n",
       "</style>\n",
       "<table border=\"1\" class=\"dataframe\">\n",
       "  <thead>\n",
       "    <tr style=\"text-align: right;\">\n",
       "      <th></th>\n",
       "      <th>image</th>\n",
       "      <th>label</th>\n",
       "    </tr>\n",
       "  </thead>\n",
       "  <tbody>\n",
       "    <tr>\n",
       "      <th>151</th>\n",
       "      <td>imagesm/m/o/r/mor36d00/50597614-7615.tif</td>\n",
       "      <td>14</td>\n",
       "    </tr>\n",
       "    <tr>\n",
       "      <th>105</th>\n",
       "      <td>imagesv/v/k/b/vkb04e00/2040956524.tif</td>\n",
       "      <td>10</td>\n",
       "    </tr>\n",
       "    <tr>\n",
       "      <th>70</th>\n",
       "      <td>imagesu/u/v/n/uvn59e00/2024482928.tif</td>\n",
       "      <td>8</td>\n",
       "    </tr>\n",
       "    <tr>\n",
       "      <th>61</th>\n",
       "      <td>imagesy/y/n/z/ynz49d00/501163645_501163648.tif</td>\n",
       "      <td>0</td>\n",
       "    </tr>\n",
       "    <tr>\n",
       "      <th>161</th>\n",
       "      <td>imagesu/u/l/p/ulp44c00/85282788.tif</td>\n",
       "      <td>15</td>\n",
       "    </tr>\n",
       "  </tbody>\n",
       "</table>\n",
       "</div>"
      ],
      "text/plain": [
       "                                              image label\n",
       "151        imagesm/m/o/r/mor36d00/50597614-7615.tif    14\n",
       "105           imagesv/v/k/b/vkb04e00/2040956524.tif    10\n",
       "70            imagesu/u/v/n/uvn59e00/2024482928.tif     8\n",
       "61   imagesy/y/n/z/ynz49d00/501163645_501163648.tif     0\n",
       "161             imagesu/u/l/p/ulp44c00/85282788.tif    15"
      ]
     },
     "metadata": {},
     "output_type": "display_data"
    },
    {
     "name": "stdout",
     "output_type": "stream",
     "text": [
      "Tail\n"
     ]
    },
    {
     "data": {
      "text/html": [
       "<div>\n",
       "<style scoped>\n",
       "    .dataframe tbody tr th:only-of-type {\n",
       "        vertical-align: middle;\n",
       "    }\n",
       "\n",
       "    .dataframe tbody tr th {\n",
       "        vertical-align: top;\n",
       "    }\n",
       "\n",
       "    .dataframe thead th {\n",
       "        text-align: right;\n",
       "    }\n",
       "</style>\n",
       "<table border=\"1\" class=\"dataframe\">\n",
       "  <thead>\n",
       "    <tr style=\"text-align: right;\">\n",
       "      <th></th>\n",
       "      <th>image</th>\n",
       "      <th>label</th>\n",
       "    </tr>\n",
       "  </thead>\n",
       "  <tbody>\n",
       "    <tr>\n",
       "      <th>187</th>\n",
       "      <td>imagesz/z/t/x/ztx85c00/2073735615.tif</td>\n",
       "      <td>9</td>\n",
       "    </tr>\n",
       "    <tr>\n",
       "      <th>188</th>\n",
       "      <td>imagesf/f/g/m/fgm13f00/0000398573.tif</td>\n",
       "      <td>15</td>\n",
       "    </tr>\n",
       "    <tr>\n",
       "      <th>189</th>\n",
       "      <td>imagesw/w/p/p/wpp20f00/0001482830.tif</td>\n",
       "      <td>7</td>\n",
       "    </tr>\n",
       "    <tr>\n",
       "      <th>190</th>\n",
       "      <td>imagesx/x/n/k/xnk43f00/0000722304.tif</td>\n",
       "      <td>4</td>\n",
       "    </tr>\n",
       "    <tr>\n",
       "      <th>191</th>\n",
       "      <td>imagese/e/k/n/ekn71d00/502605449+-5449.tif</td>\n",
       "      <td>4</td>\n",
       "    </tr>\n",
       "  </tbody>\n",
       "</table>\n",
       "</div>"
      ],
      "text/plain": [
       "                                          image label\n",
       "187       imagesz/z/t/x/ztx85c00/2073735615.tif     9\n",
       "188       imagesf/f/g/m/fgm13f00/0000398573.tif    15\n",
       "189       imagesw/w/p/p/wpp20f00/0001482830.tif     7\n",
       "190       imagesx/x/n/k/xnk43f00/0000722304.tif     4\n",
       "191  imagese/e/k/n/ekn71d00/502605449+-5449.tif     4"
      ]
     },
     "metadata": {},
     "output_type": "display_data"
    }
   ],
   "source": [
    "display_info(df_sampled_test_labels)"
   ]
  },
  {
   "cell_type": "markdown",
   "metadata": {},
   "source": [
    "### Calculate some statistics concerning images shape"
   ]
  },
  {
   "cell_type": "code",
   "execution_count": 25,
   "metadata": {},
   "outputs": [],
   "source": [
    "def calc_dataset_shape_statistics(df_dataset, stat_per_class=False):\n",
    "    array_data = np.zeros((len(df_dataset.index), 4), dtype=np.int32)\n",
    "    row_index = 0\n",
    "    for row in tqdm(df_dataset.itertuples()):\n",
    "        image = cv2.imread(os.path.join(images_folder_path, row.image), cv2.IMREAD_GRAYSCALE)\n",
    "        array_data[row_index] = [image.shape[0], image.shape[1], image.shape[0]*image.shape[1], row.label]\n",
    "        row_index += 1\n",
    "    \n",
    "    df_shapes = pd.DataFrame(data=array_data, columns=['Height', 'Width', 'Area', 'Class'])\n",
    "    \n",
    "    # stat_per_class = True -> Satistics are presented for each class\n",
    "    if stat_per_class:\n",
    "        print(df_shapes.groupby(['Class']).agg(['min', 'max', q1, q2, q3]))\n",
    "    else:\n",
    "        print(df_shapes.describe())"
   ]
  },
  {
   "cell_type": "markdown",
   "metadata": {},
   "source": [
    "Functions for per class statistics (percentiles):"
   ]
  },
  {
   "cell_type": "code",
   "execution_count": 26,
   "metadata": {},
   "outputs": [],
   "source": [
    "def q1(x):\n",
    "    return x.quantile(0.25)\n",
    "\n",
    "def q2(x):\n",
    "    return x.median()\n",
    "\n",
    "def q3(x):\n",
    "    return x.quantile(0.75)"
   ]
  },
  {
   "cell_type": "markdown",
   "metadata": {},
   "source": [
    "#### Training set"
   ]
  },
  {
   "cell_type": "code",
   "execution_count": 27,
   "metadata": {},
   "outputs": [
    {
     "name": "stderr",
     "output_type": "stream",
     "text": [
      "1600it [02:47,  9.56it/s]"
     ]
    },
    {
     "name": "stdout",
     "output_type": "stream",
     "text": [
      "       Height        Width           Area        Class\n",
      "count  1600.0  1600.000000    1600.000000  1600.000000\n",
      "mean   1000.0   765.546250  765546.250000     7.500000\n",
      "std       0.0    20.717924   20717.924152     4.611213\n",
      "min    1000.0   607.000000  607000.000000     0.000000\n",
      "25%    1000.0   754.000000  754000.000000     3.750000\n",
      "50%    1000.0   754.000000  754000.000000     7.500000\n",
      "75%    1000.0   777.000000  777000.000000    11.250000\n",
      "max    1000.0   874.000000  874000.000000    15.000000\n"
     ]
    },
    {
     "name": "stderr",
     "output_type": "stream",
     "text": [
      "\n"
     ]
    }
   ],
   "source": [
    "calc_dataset_shape_statistics(df_sampled_train_labels)"
   ]
  },
  {
   "cell_type": "markdown",
   "metadata": {},
   "source": [
    "#### Validation set"
   ]
  },
  {
   "cell_type": "code",
   "execution_count": 28,
   "metadata": {},
   "outputs": [
    {
     "name": "stderr",
     "output_type": "stream",
     "text": [
      "192it [00:19,  9.87it/s]"
     ]
    },
    {
     "name": "stdout",
     "output_type": "stream",
     "text": [
      "       Height       Width           Area       Class\n",
      "count   192.0  192.000000     192.000000  192.000000\n",
      "mean   1000.0  765.479167  765479.166667    7.500000\n",
      "std       0.0   21.647572   21647.571798    4.621824\n",
      "min    1000.0  627.000000  627000.000000    0.000000\n",
      "25%    1000.0  754.000000  754000.000000    3.750000\n",
      "50%    1000.0  754.000000  754000.000000    7.500000\n",
      "75%    1000.0  777.000000  777000.000000   11.250000\n",
      "max    1000.0  868.000000  868000.000000   15.000000\n"
     ]
    },
    {
     "name": "stderr",
     "output_type": "stream",
     "text": [
      "\n"
     ]
    }
   ],
   "source": [
    "calc_dataset_shape_statistics(df_sampled_valid_labels)"
   ]
  },
  {
   "cell_type": "markdown",
   "metadata": {},
   "source": [
    "#### Test set"
   ]
  },
  {
   "cell_type": "code",
   "execution_count": 29,
   "metadata": {},
   "outputs": [
    {
     "name": "stderr",
     "output_type": "stream",
     "text": [
      "192it [00:18, 10.14it/s]"
     ]
    },
    {
     "name": "stdout",
     "output_type": "stream",
     "text": [
      "       Height       Width           Area       Class\n",
      "count   192.0  192.000000     192.000000  192.000000\n",
      "mean   1000.0  763.651042  763651.041667    7.500000\n",
      "std       0.0   20.481842   20481.842270    4.621824\n",
      "min    1000.0  611.000000  611000.000000    0.000000\n",
      "25%    1000.0  754.000000  754000.000000    3.750000\n",
      "50%    1000.0  754.000000  754000.000000    7.500000\n",
      "75%    1000.0  777.000000  777000.000000   11.250000\n",
      "max    1000.0  830.000000  830000.000000   15.000000\n"
     ]
    },
    {
     "name": "stderr",
     "output_type": "stream",
     "text": [
      "\n"
     ]
    }
   ],
   "source": [
    "calc_dataset_shape_statistics(df_sampled_test_labels)"
   ]
  },
  {
   "cell_type": "markdown",
   "metadata": {},
   "source": [
    "#### Image shape statistics per class (training set)"
   ]
  },
  {
   "cell_type": "code",
   "execution_count": 30,
   "metadata": {},
   "outputs": [
    {
     "name": "stderr",
     "output_type": "stream",
     "text": [
      "1600it [01:38, 16.32it/s]"
     ]
    },
    {
     "name": "stdout",
     "output_type": "stream",
     "text": [
      "      Height                         Width                             Area  \\\n",
      "         min   max    q1    q2    q3   min  max   q1     q2      q3     min   \n",
      "Class                                                                         \n",
      "0       1000  1000  1000  1000  1000   754  823  754  762.0  777.00  754000   \n",
      "1       1000  1000  1000  1000  1000   616  848  754  754.0  777.00  616000   \n",
      "2       1000  1000  1000  1000  1000   754  802  754  754.0  754.00  754000   \n",
      "3       1000  1000  1000  1000  1000   754  830  754  754.0  761.00  754000   \n",
      "4       1000  1000  1000  1000  1000   611  843  754  755.5  775.00  611000   \n",
      "5       1000  1000  1000  1000  1000   713  847  754  754.0  777.00  713000   \n",
      "6       1000  1000  1000  1000  1000   677  808  754  754.0  772.00  677000   \n",
      "7       1000  1000  1000  1000  1000   754  874  762  777.0  784.00  754000   \n",
      "8       1000  1000  1000  1000  1000   703  868  754  764.5  778.50  703000   \n",
      "9       1000  1000  1000  1000  1000   611  847  754  766.0  777.00  611000   \n",
      "10      1000  1000  1000  1000  1000   723  842  754  768.0  784.25  723000   \n",
      "11      1000  1000  1000  1000  1000   725  809  754  763.5  777.00  725000   \n",
      "12      1000  1000  1000  1000  1000   754  846  754  754.0  772.25  754000   \n",
      "13      1000  1000  1000  1000  1000   607  844  754  768.5  780.25  607000   \n",
      "14      1000  1000  1000  1000  1000   753  812  754  754.0  754.00  753000   \n",
      "15      1000  1000  1000  1000  1000   739  847  754  762.0  777.00  739000   \n",
      "\n",
      "                                       \n",
      "          max      q1      q2      q3  \n",
      "Class                                  \n",
      "0      823000  754000  762000  777000  \n",
      "1      848000  754000  754000  777000  \n",
      "2      802000  754000  754000  754000  \n",
      "3      830000  754000  754000  761000  \n",
      "4      843000  754000  755500  775000  \n",
      "5      847000  754000  754000  777000  \n",
      "6      808000  754000  754000  772000  \n",
      "7      874000  762000  777000  784000  \n",
      "8      868000  754000  764500  778500  \n",
      "9      847000  754000  766000  777000  \n",
      "10     842000  754000  768000  784250  \n",
      "11     809000  754000  763500  777000  \n",
      "12     846000  754000  754000  772250  \n",
      "13     844000  754000  768500  780250  \n",
      "14     812000  754000  754000  754000  \n",
      "15     847000  754000  762000  777000  \n"
     ]
    },
    {
     "name": "stderr",
     "output_type": "stream",
     "text": [
      "\n"
     ]
    }
   ],
   "source": [
    "calc_dataset_shape_statistics(df_sampled_train_labels, stat_per_class=True)"
   ]
  },
  {
   "cell_type": "markdown",
   "metadata": {},
   "source": [
    "## Preprocessing and mini-dataset generation"
   ]
  },
  {
   "cell_type": "markdown",
   "metadata": {},
   "source": [
    "### Functions"
   ]
  },
  {
   "cell_type": "markdown",
   "metadata": {},
   "source": [
    "**check_image_dimensions**: Check if the specified image respects the width threshold. If not, another random image belonging to the same class and respecting the threshold is selected. The path to this image is then returned"
   ]
  },
  {
   "cell_type": "code",
   "execution_count": 31,
   "metadata": {},
   "outputs": [],
   "source": [
    "def check_image_dimensions(image, image_label, df_complete_dataset, df_sampled_dataset):\n",
    "    if image.shape[1] <= width_threshold:\n",
    "        return True, None\n",
    "    \n",
    "    # Consider all images belonging to the same class of the image to be replaced AND\n",
    "    # not already in the sampled dataset\n",
    "    df_filtered_by_class = df_complete_dataset[(df_complete_dataset.label == image_label)&\\\n",
    "                                               (~df_complete_dataset.image.isin(df_sampled_dataset.image))]\n",
    "    \n",
    "    # Random sample an image until I found one with an acceptable width\n",
    "    replaced_img_path = None\n",
    "    replaced = False\n",
    "    while not replaced:\n",
    "        sampled_row = df_filtered_by_class.sample(n=1).iloc[0]\n",
    "        img_replaced = cv2.imread(os.path.join(images_folder_path, sampled_row.image), cv2.IMREAD_GRAYSCALE)\n",
    "        if img_replaced.shape[1] <= width_threshold:\n",
    "            replaced_img_path = sampled_row.image\n",
    "            replaced = True\n",
    "    \n",
    "    assert replaced_img_path is not None\n",
    "    \n",
    "    return False, replaced_img_path"
   ]
  },
  {
   "cell_type": "markdown",
   "metadata": {},
   "source": [
    "**replace_imgs_with_invalid_width**: check if all images in _df_sampled_dataset_ respect the width threshold. Images too large will be replaced with other images from _df_complete_dataset_ belonging to the same class"
   ]
  },
  {
   "cell_type": "code",
   "execution_count": 32,
   "metadata": {},
   "outputs": [],
   "source": [
    "def replace_imgs_with_invalid_width(df_sampled_dataset, df_complete_dataset):\n",
    "    for index, row in tqdm(df_sampled_dataset.iterrows()):\n",
    "        image = cv2.imread(os.path.join(images_folder_path, row.image), cv2.IMREAD_GRAYSCALE)\n",
    "        valid, replaced_img_path = check_image_dimensions(image, row.label, df_complete_dataset, df_sampled_dataset)\n",
    "        \n",
    "        if not valid:\n",
    "            df_sampled_dataset.at[index , 'image'] = replaced_img_path"
   ]
  },
  {
   "cell_type": "markdown",
   "metadata": {},
   "source": [
    "**reshape_image**: Resizes the specified images to the target shape, adding a black border to the image to preserve the original height/width ratio. Adding a black border instead of a white one could be a hint to the CNN to focus on the center of the image."
   ]
  },
  {
   "cell_type": "code",
   "execution_count": 33,
   "metadata": {},
   "outputs": [],
   "source": [
    "def reshape_image(image, target_shape):\n",
    "    # A rescale is needed if the width is less than the target_shape width (all images have height 1000)\n",
    "    if image.shape[1] > target_shape[1]:\n",
    "        scale_factor = float(target_shape[1])/image.shape[1]\n",
    "        scaled_height = int(image.shape[0]*scale_factor)\n",
    "        scaled_width = int(image.shape[1]*scale_factor)\n",
    "    \n",
    "        # interpolation=cv2.INTER_AREA is preferred for image shrinking\n",
    "        img_scaled = cv2.resize(image, (scaled_width, scaled_height), interpolation=cv2.INTER_AREA)\n",
    "    else:\n",
    "        img_scaled = image\n",
    "    \n",
    "    img_reshaped = np.zeros((target_shape[0], target_shape[1]), dtype=int)\n",
    "    row_start = (target_shape[0] - img_scaled.shape[0])//2\n",
    "    col_start = (target_shape[1] - img_scaled.shape[1])//2\n",
    "    img_reshaped[row_start:row_start + img_scaled.shape[0], col_start:col_start + img_scaled.shape[1]] = img_scaled\n",
    "    return img_reshaped"
   ]
  },
  {
   "cell_type": "markdown",
   "metadata": {},
   "source": [
    "**normalize_image**: Normalizes all pixel values of the specified image."
   ]
  },
  {
   "cell_type": "code",
   "execution_count": 34,
   "metadata": {},
   "outputs": [],
   "source": [
    "def normalize_image(image):\n",
    "    image_array = np.asarray(image, dtype=np.float32)\n",
    "    return image_array / 255"
   ]
  },
  {
   "cell_type": "markdown",
   "metadata": {},
   "source": [
    "**generate_minidataset**: Creates in the specified hdf5 file a dataset with name _dataset_name_ ,  preprocesses the data in the dataframe _df_ and fills the dataset with them"
   ]
  },
  {
   "cell_type": "code",
   "execution_count": 55,
   "metadata": {},
   "outputs": [],
   "source": [
    "def generate_minidataset(hdf_file, df, dataset_name):\n",
    "    n_debug_images = 5\n",
    "    # Number of image composing the batch to be written into the dataset at the same time (details below)\n",
    "    batch_dimension = 64\n",
    "    n_imgs = len(df.index)\n",
    "\n",
    "    print(\"Generating dataset \" + dataset_name + \" - \" + str(n_imgs) + \" images\")\n",
    "    \n",
    "    dataset_imgs = hdf_file.create_dataset(dataset_name, (n_imgs, target_shape[0], target_shape[1]),\\\n",
    "                                      dtype=\"float32\", compression=\"gzip\")\n",
    "    dataset_labels = hdf_file.create_dataset(dataset_name + \"_labels\", (n_imgs, n_classes),\\\n",
    "                                      dtype=\"int8\", compression=\"gzip\")\n",
    "    \n",
    "    # Convert labels column of the dataframe to one-hot encoding to be used by keras\n",
    "    df[\"label\"] = to_categorical(df[\"label\"], num_classes=n_classes, dtype='int8').tolist()\n",
    "    \n",
    "    # Arrays to store batch data\n",
    "    batch_array_imgs = np.zeros((batch_dimension, target_shape[0], target_shape[1]), dtype=np.float32)\n",
    "    batch_array_labels = np.zeros((batch_dimension, n_classes))\n",
    "    \n",
    "    batch_index = 0\n",
    "    batch_number = 0\n",
    "    for row in tqdm(df.itertuples()):\n",
    "        image = cv2.imread(os.path.join(images_folder_path, row.image), cv2.IMREAD_GRAYSCALE)\n",
    "        reshaped = reshape_image(image, target_shape)\n",
    "        normalized = normalize_image(reshaped)\n",
    "        \n",
    "        # Put image and label into batch arrays\n",
    "        batch_array_imgs[batch_index] = normalized\n",
    "        batch_array_labels[batch_index] = row.label\n",
    "\n",
    "        # Save some reshaped images to manually check them\n",
    "        if n_debug_images > 0:\n",
    "            image_name = os.path.basename(row.image)\n",
    "            cv2.imwrite(os.path.join(debug_folder_reshaped_imgs, dataset_name + \"-\" + image_name), reshaped)\n",
    "            n_debug_images -= 1\n",
    "        \n",
    "        # Save data into database in batches to speedup the writing process and save RAM memory at the same time\n",
    "        if batch_index == batch_dimension - 1:\n",
    "            start_index = batch_number*batch_dimension\n",
    "            end_index = start_index + batch_dimension\n",
    "            dataset_imgs[start_index:end_index,:,:] = batch_array_imgs\n",
    "            dataset_labels[start_index:end_index,:] = batch_array_labels\n",
    "            \n",
    "            batch_index = 0\n",
    "            batch_number += 1\n",
    "            \n",
    "        batch_index += 1\n",
    "    \n",
    "    # Write remaining data inside the batches into the dataset\n",
    "    if batch_index != 0:\n",
    "        start_index = batch_number*batch_dimension\n",
    "        end_index = start_index + batch_dimension\n",
    "        dataset_imgs[start_index:end_index,:,:] = batch_array_imgs[:batch_index,:,:]\n",
    "        dataset_labels[start_index:end_index,:] = batch_array_labels[:batch_index,:]"
   ]
  },
  {
   "cell_type": "markdown",
   "metadata": {},
   "source": [
    "#### Replace all images that do not respect the width threshold"
   ]
  },
  {
   "cell_type": "code",
   "execution_count": 36,
   "metadata": {},
   "outputs": [
    {
     "name": "stderr",
     "output_type": "stream",
     "text": [
      "1600it [01:35, 16.81it/s]\n",
      "192it [00:12, 15.18it/s]\n",
      "192it [00:11, 16.81it/s]\n"
     ]
    }
   ],
   "source": [
    "replace_imgs_with_invalid_width(df_sampled_train_labels, df_train_labels)\n",
    "replace_imgs_with_invalid_width(df_sampled_valid_labels, df_valid_labels)\n",
    "replace_imgs_with_invalid_width(df_sampled_test_labels, df_test_labels)"
   ]
  },
  {
   "cell_type": "markdown",
   "metadata": {},
   "source": [
    "#### Generates a HDF5 file containing the mini-dataset. For each set (train, validation, test) a different dataset is created inside the file"
   ]
  },
  {
   "cell_type": "code",
   "execution_count": 56,
   "metadata": {
    "scrolled": true
   },
   "outputs": [
    {
     "name": "stderr",
     "output_type": "stream",
     "text": [
      "\r",
      "0it [00:00, ?it/s]"
     ]
    },
    {
     "name": "stdout",
     "output_type": "stream",
     "text": [
      "Generating dataset train - 1600 images\n"
     ]
    },
    {
     "name": "stderr",
     "output_type": "stream",
     "text": [
      "1600it [02:00, 13.24it/s]\n",
      "2it [00:00, 16.64it/s]"
     ]
    },
    {
     "name": "stdout",
     "output_type": "stream",
     "text": [
      "Generating dataset valid - 192 images\n"
     ]
    },
    {
     "name": "stderr",
     "output_type": "stream",
     "text": [
      "192it [00:12, 15.81it/s]\n",
      "2it [00:00, 18.27it/s]"
     ]
    },
    {
     "name": "stdout",
     "output_type": "stream",
     "text": [
      "Generating dataset test - 192 images\n"
     ]
    },
    {
     "name": "stderr",
     "output_type": "stream",
     "text": [
      "192it [00:11, 16.03it/s]\n"
     ]
    }
   ],
   "source": [
    "with h5py.File(os.path.join(output_folder, 'data.h5'), 'w') as hdf_file:\n",
    "    # Instead of passing a copy of each dataframe we could directly pass the dataframe to save memory and time\n",
    "    # generate_minidataset modify te dataframe so in the development phase i need to retain a clean state of\n",
    "    # each dataframe\n",
    "    generate_minidataset(hdf_file, df_sampled_train_labels.copy(), \"train\")\n",
    "    generate_minidataset(hdf_file, df_sampled_valid_labels.copy(), \"valid\")\n",
    "    generate_minidataset(hdf_file, df_sampled_test_labels.copy(), \"test\")"
   ]
  },
  {
   "cell_type": "markdown",
   "metadata": {},
   "source": [
    "#### Read some data from the generated HFD5 file and reconvert them to images to verify the correctness of the datasets"
   ]
  },
  {
   "cell_type": "code",
   "execution_count": 57,
   "metadata": {},
   "outputs": [
    {
     "name": "stdout",
     "output_type": "stream",
     "text": [
      "Image 0 - shape: (1000, 750) - label: [0 0 0 0 0 0 0 0 0 0 1 0 0 0 0 0]\n",
      "Image 1 - shape: (1000, 750) - label: [0 0 0 0 0 0 0 0 0 0 0 1 0 0 0 0]\n",
      "Image 2 - shape: (1000, 750) - label: [0 0 0 0 0 0 0 0 0 0 0 0 0 0 0 1]\n",
      "Image 3 - shape: (1000, 750) - label: [0 0 0 0 0 1 0 0 0 0 0 0 0 0 0 0]\n",
      "Image 4 - shape: (1000, 750) - label: [0 0 0 0 0 1 0 0 0 0 0 0 0 0 0 0]\n"
     ]
    }
   ],
   "source": [
    "n_debug_images = 5\n",
    "\n",
    "with h5py.File(os.path.join(output_folder, 'data.h5'), 'r') as hdf_file:\n",
    "    ds_train = hdf_file[\"train\"]\n",
    "    ds_train_labels = hdf_file[\"train_labels\"]\n",
    "    for i in range(n_debug_images):\n",
    "        normalized_image = ds_train[i]\n",
    "        print(\"Image \" + str(i) + \" - shape: \" + str(normalized_image.shape) + \" - label: \" + str(ds_train_labels[i]))\n",
    "        # Bring back pixel values to the [0,255] range\n",
    "        image = np.asarray(normalized_image * 255, dtype=np.int32)\n",
    "        cv2.imwrite(os.path.join(debug_folder_dataset_imgs, \"img-\" + str(i) + \".tif\"), image)"
   ]
  }
 ],
 "metadata": {
  "kernelspec": {
   "display_name": "Python 3",
   "language": "python",
   "name": "python3"
  },
  "language_info": {
   "codemirror_mode": {
    "name": "ipython",
    "version": 3
   },
   "file_extension": ".py",
   "mimetype": "text/x-python",
   "name": "python",
   "nbconvert_exporter": "python",
   "pygments_lexer": "ipython3",
   "version": "3.7.7"
  }
 },
 "nbformat": 4,
 "nbformat_minor": 4
}
