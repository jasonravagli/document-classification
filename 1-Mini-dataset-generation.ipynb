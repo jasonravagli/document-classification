{
 "cells": [
  {
   "cell_type": "markdown",
   "metadata": {},
   "source": [
    "# Preprocessing and mini-dataset generation"
   ]
  },
  {
   "cell_type": "code",
   "execution_count": 8,
   "metadata": {},
   "outputs": [
    {
     "name": "stdout",
     "output_type": "stream",
     "text": [
      "The memory_profiler extension is already loaded. To reload it, use:\n",
      "  %reload_ext memory_profiler\n",
      "The line_profiler extension is already loaded. To reload it, use:\n",
      "  %reload_ext line_profiler\n"
     ]
    }
   ],
   "source": [
    "import os\n",
    "import h5py\n",
    "import cv2\n",
    "import numpy as np\n",
    "import pandas as pd\n",
    "from tqdm import tqdm\n",
    "from keras.utils import to_categorical\n",
    "\n",
    "%load_ext memory_profiler\n",
    "%load_ext line_profiler"
   ]
  },
  {
   "cell_type": "markdown",
   "metadata": {},
   "source": [
    "##### Global parameters:"
   ]
  },
  {
   "cell_type": "code",
   "execution_count": 27,
   "metadata": {},
   "outputs": [],
   "source": [
    "dataset_path = \"/Volumes/Part1/datasets/rvl-cdip\"\n",
    "images_folder_path = os.path.join(dataset_path, \"images\")\n",
    "output_folder = \"/Users/jasonravagli/Desktop/Scuola/Università-Magistrale/data-and-document-mining/project-document-classification/output\"\n",
    "debug_folder = \"/Users/jasonravagli/Desktop/Scuola/Università-Magistrale/data-and-document-mining/project-document-classification/debug\"\n",
    "# Number of images classes\n",
    "n_classes = 16"
   ]
  },
  {
   "cell_type": "markdown",
   "metadata": {},
   "source": [
    "#### Setup folders"
   ]
  },
  {
   "cell_type": "code",
   "execution_count": 28,
   "metadata": {},
   "outputs": [],
   "source": [
    "os.makedirs(output_folder, exist_ok=True)\n",
    "os.makedirs(debug_folder, exist_ok=True)\n",
    "\n",
    "# Folders to manually check some processed images\n",
    "debug_folder_reshaped_imgs = os.path.join(debug_folder, \"reshaped_imgs\")\n",
    "\n",
    "# Folders to manually check some images read from the generated dataset\n",
    "debug_folder_dataset_imgs = os.path.join(debug_folder, \"dataset_imgs\")\n",
    "\n",
    "os.makedirs(debug_folder_reshaped_imgs, exist_ok=True)\n",
    "os.makedirs(debug_folder_dataset_imgs, exist_ok=True)"
   ]
  },
  {
   "cell_type": "markdown",
   "metadata": {},
   "source": [
    "Utility function to display dataframe info:"
   ]
  },
  {
   "cell_type": "code",
   "execution_count": 11,
   "metadata": {},
   "outputs": [],
   "source": [
    "def display_info(df=None, rows=5):\n",
    "    try:\n",
    "        print(\"Info\")\n",
    "        df.info(verbose=True)\n",
    "        print(df.shape)\n",
    "        print(\"Head\")\n",
    "        display(df.head(rows))\n",
    "        print(\"Sample\")\n",
    "        display(df.sample(rows))\n",
    "        print(\"Tail\")\n",
    "        display(df.tail(rows))\n",
    "    except:\n",
    "        print(\"Errore nella visualizzazione\")"
   ]
  },
  {
   "cell_type": "markdown",
   "metadata": {},
   "source": [
    "## Data Sampling"
   ]
  },
  {
   "cell_type": "markdown",
   "metadata": {},
   "source": [
    "#### Specify the dimensions of the mini-dataset to be generated"
   ]
  },
  {
   "cell_type": "code",
   "execution_count": 12,
   "metadata": {},
   "outputs": [],
   "source": [
    "mini_train_set_dimension = 1600\n",
    "mini_valid_set_dimension = 200\n",
    "mini_test_set_dimension = 200"
   ]
  },
  {
   "cell_type": "markdown",
   "metadata": {},
   "source": [
    "#### Read the labels files:"
   ]
  },
  {
   "cell_type": "code",
   "execution_count": 13,
   "metadata": {
    "scrolled": true
   },
   "outputs": [
    {
     "name": "stdout",
     "output_type": "stream",
     "text": [
      "peak memory: 281.36 MiB, increment: 55.63 MiB\n",
      "peak memory: 284.18 MiB, increment: 3.09 MiB\n",
      "peak memory: 274.33 MiB, increment: 7.22 MiB\n",
      "Info\n",
      "<class 'pandas.core.frame.DataFrame'>\n",
      "RangeIndex: 320000 entries, 0 to 319999\n",
      "Data columns (total 2 columns):\n",
      " #   Column  Non-Null Count   Dtype \n",
      "---  ------  --------------   ----- \n",
      " 0   image   320000 non-null  object\n",
      " 1   label   320000 non-null  int64 \n",
      "dtypes: int64(1), object(1)\n",
      "memory usage: 4.9+ MB\n",
      "(320000, 2)\n",
      "Head\n"
     ]
    },
    {
     "data": {
      "text/html": [
       "<div>\n",
       "<style scoped>\n",
       "    .dataframe tbody tr th:only-of-type {\n",
       "        vertical-align: middle;\n",
       "    }\n",
       "\n",
       "    .dataframe tbody tr th {\n",
       "        vertical-align: top;\n",
       "    }\n",
       "\n",
       "    .dataframe thead th {\n",
       "        text-align: right;\n",
       "    }\n",
       "</style>\n",
       "<table border=\"1\" class=\"dataframe\">\n",
       "  <thead>\n",
       "    <tr style=\"text-align: right;\">\n",
       "      <th></th>\n",
       "      <th>image</th>\n",
       "      <th>label</th>\n",
       "    </tr>\n",
       "  </thead>\n",
       "  <tbody>\n",
       "    <tr>\n",
       "      <th>0</th>\n",
       "      <td>imagesq/q/o/c/qoc54c00/80035521.tif</td>\n",
       "      <td>15</td>\n",
       "    </tr>\n",
       "    <tr>\n",
       "      <th>1</th>\n",
       "      <td>imagese/e/w/c/ewc23d00/513280028.tif</td>\n",
       "      <td>1</td>\n",
       "    </tr>\n",
       "    <tr>\n",
       "      <th>2</th>\n",
       "      <td>imagesw/w/b/t/wbt26e00/2053453161.tif</td>\n",
       "      <td>7</td>\n",
       "    </tr>\n",
       "    <tr>\n",
       "      <th>3</th>\n",
       "      <td>imagesm/m/k/m/mkm05e00/2040792992_2040792994.tif</td>\n",
       "      <td>10</td>\n",
       "    </tr>\n",
       "    <tr>\n",
       "      <th>4</th>\n",
       "      <td>imageso/o/e/x/oex80d00/522787731+-7732.tif</td>\n",
       "      <td>3</td>\n",
       "    </tr>\n",
       "  </tbody>\n",
       "</table>\n",
       "</div>"
      ],
      "text/plain": [
       "                                              image  label\n",
       "0               imagesq/q/o/c/qoc54c00/80035521.tif     15\n",
       "1              imagese/e/w/c/ewc23d00/513280028.tif      1\n",
       "2             imagesw/w/b/t/wbt26e00/2053453161.tif      7\n",
       "3  imagesm/m/k/m/mkm05e00/2040792992_2040792994.tif     10\n",
       "4        imageso/o/e/x/oex80d00/522787731+-7732.tif      3"
      ]
     },
     "metadata": {},
     "output_type": "display_data"
    },
    {
     "name": "stdout",
     "output_type": "stream",
     "text": [
      "Sample\n"
     ]
    },
    {
     "data": {
      "text/html": [
       "<div>\n",
       "<style scoped>\n",
       "    .dataframe tbody tr th:only-of-type {\n",
       "        vertical-align: middle;\n",
       "    }\n",
       "\n",
       "    .dataframe tbody tr th {\n",
       "        vertical-align: top;\n",
       "    }\n",
       "\n",
       "    .dataframe thead th {\n",
       "        text-align: right;\n",
       "    }\n",
       "</style>\n",
       "<table border=\"1\" class=\"dataframe\">\n",
       "  <thead>\n",
       "    <tr style=\"text-align: right;\">\n",
       "      <th></th>\n",
       "      <th>image</th>\n",
       "      <th>label</th>\n",
       "    </tr>\n",
       "  </thead>\n",
       "  <tbody>\n",
       "    <tr>\n",
       "      <th>44836</th>\n",
       "      <td>imagesq/q/y/k/qyk26d00/50609248-9249.tif</td>\n",
       "      <td>14</td>\n",
       "    </tr>\n",
       "    <tr>\n",
       "      <th>39943</th>\n",
       "      <td>imagest/t/l/e/tle72f00/tob10615.20.tif</td>\n",
       "      <td>9</td>\n",
       "    </tr>\n",
       "    <tr>\n",
       "      <th>16183</th>\n",
       "      <td>imagesz/z/u/m/zum13e00/2057992153_2057992154.tif</td>\n",
       "      <td>14</td>\n",
       "    </tr>\n",
       "    <tr>\n",
       "      <th>308304</th>\n",
       "      <td>imagesq/q/p/i/qpi25e00/2028596417.tif</td>\n",
       "      <td>15</td>\n",
       "    </tr>\n",
       "    <tr>\n",
       "      <th>135573</th>\n",
       "      <td>imagesg/g/y/x/gyx11a00/0071003362.tif</td>\n",
       "      <td>8</td>\n",
       "    </tr>\n",
       "  </tbody>\n",
       "</table>\n",
       "</div>"
      ],
      "text/plain": [
       "                                                   image  label\n",
       "44836           imagesq/q/y/k/qyk26d00/50609248-9249.tif     14\n",
       "39943             imagest/t/l/e/tle72f00/tob10615.20.tif      9\n",
       "16183   imagesz/z/u/m/zum13e00/2057992153_2057992154.tif     14\n",
       "308304             imagesq/q/p/i/qpi25e00/2028596417.tif     15\n",
       "135573             imagesg/g/y/x/gyx11a00/0071003362.tif      8"
      ]
     },
     "metadata": {},
     "output_type": "display_data"
    },
    {
     "name": "stdout",
     "output_type": "stream",
     "text": [
      "Tail\n"
     ]
    },
    {
     "data": {
      "text/html": [
       "<div>\n",
       "<style scoped>\n",
       "    .dataframe tbody tr th:only-of-type {\n",
       "        vertical-align: middle;\n",
       "    }\n",
       "\n",
       "    .dataframe tbody tr th {\n",
       "        vertical-align: top;\n",
       "    }\n",
       "\n",
       "    .dataframe thead th {\n",
       "        text-align: right;\n",
       "    }\n",
       "</style>\n",
       "<table border=\"1\" class=\"dataframe\">\n",
       "  <thead>\n",
       "    <tr style=\"text-align: right;\">\n",
       "      <th></th>\n",
       "      <th>image</th>\n",
       "      <th>label</th>\n",
       "    </tr>\n",
       "  </thead>\n",
       "  <tbody>\n",
       "    <tr>\n",
       "      <th>319995</th>\n",
       "      <td>imagesu/u/p/p/upp04f00/0000282789.tif</td>\n",
       "      <td>9</td>\n",
       "    </tr>\n",
       "    <tr>\n",
       "      <th>319996</th>\n",
       "      <td>imagesa/a/c/z/acz60f00/0011972032.tif</td>\n",
       "      <td>15</td>\n",
       "    </tr>\n",
       "    <tr>\n",
       "      <th>319997</th>\n",
       "      <td>imagesu/u/j/m/ujm20a00/10155388.tif</td>\n",
       "      <td>6</td>\n",
       "    </tr>\n",
       "    <tr>\n",
       "      <th>319998</th>\n",
       "      <td>imagesd/d/r/r/drr93f00/0000343578.tif</td>\n",
       "      <td>9</td>\n",
       "    </tr>\n",
       "    <tr>\n",
       "      <th>319999</th>\n",
       "      <td>imagesp/p/j/x/pjx11d00/518223252+-3253.tif</td>\n",
       "      <td>3</td>\n",
       "    </tr>\n",
       "  </tbody>\n",
       "</table>\n",
       "</div>"
      ],
      "text/plain": [
       "                                             image  label\n",
       "319995       imagesu/u/p/p/upp04f00/0000282789.tif      9\n",
       "319996       imagesa/a/c/z/acz60f00/0011972032.tif     15\n",
       "319997         imagesu/u/j/m/ujm20a00/10155388.tif      6\n",
       "319998       imagesd/d/r/r/drr93f00/0000343578.tif      9\n",
       "319999  imagesp/p/j/x/pjx11d00/518223252+-3253.tif      3"
      ]
     },
     "metadata": {},
     "output_type": "display_data"
    }
   ],
   "source": [
    "%memit df_train_labels = pd.read_csv(os.path.join(dataset_path, \"labels/train.txt\"), sep=\" \",\\\n",
    "                                     names=[\"image\", \"label\"], skipinitialspace=True)\n",
    "%memit df_valid_labels = pd.read_csv(os.path.join(dataset_path, \"labels/val.txt\"), sep=\" \",\\\n",
    "                                     names=[\"image\", \"label\"], skipinitialspace=True)\n",
    "%memit df_test_labels = pd.read_csv(os.path.join(dataset_path, \"labels/test.txt\"), sep=\" \",\\\n",
    "                                    names=[\"image\", \"label\"], skipinitialspace=True)\n",
    "\n",
    "# Reset column names because of strange whitespaces added to the column names after reading\n",
    "df_train_labels.columns = [\"image\", \"label\"]\n",
    "df_valid_labels.columns = [\"image\", \"label\"]\n",
    "df_test_labels.columns = [\"image\", \"label\"]\n",
    "\n",
    "# Display some info to verify the correctness of the data read\n",
    "display_info(df_train_labels)"
   ]
  },
  {
   "cell_type": "markdown",
   "metadata": {},
   "source": [
    "#### Random sample data preserving ratio between classes"
   ]
  },
  {
   "cell_type": "code",
   "execution_count": 14,
   "metadata": {},
   "outputs": [],
   "source": [
    "train_data_per_class = mini_train_set_dimension//n_classes\n",
    "valid_data_per_class = mini_valid_set_dimension//n_classes\n",
    "test_data_per_class = mini_test_set_dimension//n_classes\n",
    "\n",
    "df_sampled_train_labels = pd.DataFrame(columns = df_train_labels.columns)\n",
    "df_sampled_valid_labels = pd.DataFrame(columns = df_valid_labels.columns)\n",
    "df_sampled_test_labels = pd.DataFrame(columns = df_test_labels.columns)\n",
    "\n",
    "for i in range(n_classes):\n",
    "    df_sampled_train_labels = pd.concat([df_sampled_train_labels, \\\n",
    "                                         df_train_labels.loc[df_train_labels[\"label\"] == i].sample(n=train_data_per_class)])\n",
    "    df_sampled_valid_labels = pd.concat([df_sampled_valid_labels, \\\n",
    "                                         df_valid_labels.loc[df_valid_labels[\"label\"] == i].sample(n=valid_data_per_class)])\n",
    "    df_sampled_test_labels = pd.concat([df_sampled_test_labels, \\\n",
    "                                         df_test_labels.loc[df_test_labels[\"label\"] == i].sample(n=test_data_per_class)])\n",
    "\n",
    "df_sampled_train_labels = df_sampled_train_labels.sample(frac=1).reset_index(drop=True)\n",
    "df_sampled_valid_labels = df_sampled_valid_labels.sample(frac=1).reset_index(drop=True)\n",
    "df_sampled_test_labels = df_sampled_test_labels.sample(frac=1).reset_index(drop=True)"
   ]
  },
  {
   "cell_type": "markdown",
   "metadata": {},
   "source": [
    "## Data verification and analysis"
   ]
  },
  {
   "cell_type": "markdown",
   "metadata": {},
   "source": [
    "#### Display generated dataframes summaries to verify their correctness"
   ]
  },
  {
   "cell_type": "code",
   "execution_count": 15,
   "metadata": {
    "scrolled": true
   },
   "outputs": [
    {
     "name": "stdout",
     "output_type": "stream",
     "text": [
      "Info\n",
      "<class 'pandas.core.frame.DataFrame'>\n",
      "RangeIndex: 1600 entries, 0 to 1599\n",
      "Data columns (total 2 columns):\n",
      " #   Column  Non-Null Count  Dtype \n",
      "---  ------  --------------  ----- \n",
      " 0   image   1600 non-null   object\n",
      " 1   label   1600 non-null   object\n",
      "dtypes: object(2)\n",
      "memory usage: 25.1+ KB\n",
      "(1600, 2)\n",
      "Head\n"
     ]
    },
    {
     "data": {
      "text/html": [
       "<div>\n",
       "<style scoped>\n",
       "    .dataframe tbody tr th:only-of-type {\n",
       "        vertical-align: middle;\n",
       "    }\n",
       "\n",
       "    .dataframe tbody tr th {\n",
       "        vertical-align: top;\n",
       "    }\n",
       "\n",
       "    .dataframe thead th {\n",
       "        text-align: right;\n",
       "    }\n",
       "</style>\n",
       "<table border=\"1\" class=\"dataframe\">\n",
       "  <thead>\n",
       "    <tr style=\"text-align: right;\">\n",
       "      <th></th>\n",
       "      <th>image</th>\n",
       "      <th>label</th>\n",
       "    </tr>\n",
       "  </thead>\n",
       "  <tbody>\n",
       "    <tr>\n",
       "      <th>0</th>\n",
       "      <td>imagesk/k/m/g/kmg10d00/515240240+-0240.tif</td>\n",
       "      <td>1</td>\n",
       "    </tr>\n",
       "    <tr>\n",
       "      <th>1</th>\n",
       "      <td>imagesb/b/r/e/bre12e00/2028707859.tif</td>\n",
       "      <td>11</td>\n",
       "    </tr>\n",
       "    <tr>\n",
       "      <th>2</th>\n",
       "      <td>imagesc/c/r/d/crd2aa00/10082581_10082587.tif</td>\n",
       "      <td>6</td>\n",
       "    </tr>\n",
       "    <tr>\n",
       "      <th>3</th>\n",
       "      <td>imagesn/n/y/i/nyi80c00/2041472201.tif</td>\n",
       "      <td>2</td>\n",
       "    </tr>\n",
       "    <tr>\n",
       "      <th>4</th>\n",
       "      <td>imagesq/q/x/l/qxl11d00/522821893+-1897.tif</td>\n",
       "      <td>3</td>\n",
       "    </tr>\n",
       "  </tbody>\n",
       "</table>\n",
       "</div>"
      ],
      "text/plain": [
       "                                          image label\n",
       "0    imagesk/k/m/g/kmg10d00/515240240+-0240.tif     1\n",
       "1         imagesb/b/r/e/bre12e00/2028707859.tif    11\n",
       "2  imagesc/c/r/d/crd2aa00/10082581_10082587.tif     6\n",
       "3         imagesn/n/y/i/nyi80c00/2041472201.tif     2\n",
       "4    imagesq/q/x/l/qxl11d00/522821893+-1897.tif     3"
      ]
     },
     "metadata": {},
     "output_type": "display_data"
    },
    {
     "name": "stdout",
     "output_type": "stream",
     "text": [
      "Sample\n"
     ]
    },
    {
     "data": {
      "text/html": [
       "<div>\n",
       "<style scoped>\n",
       "    .dataframe tbody tr th:only-of-type {\n",
       "        vertical-align: middle;\n",
       "    }\n",
       "\n",
       "    .dataframe tbody tr th {\n",
       "        vertical-align: top;\n",
       "    }\n",
       "\n",
       "    .dataframe thead th {\n",
       "        text-align: right;\n",
       "    }\n",
       "</style>\n",
       "<table border=\"1\" class=\"dataframe\">\n",
       "  <thead>\n",
       "    <tr style=\"text-align: right;\">\n",
       "      <th></th>\n",
       "      <th>image</th>\n",
       "      <th>label</th>\n",
       "    </tr>\n",
       "  </thead>\n",
       "  <tbody>\n",
       "    <tr>\n",
       "      <th>335</th>\n",
       "      <td>imagesv/v/v/q/vvq36c00/2072175703.tif</td>\n",
       "      <td>4</td>\n",
       "    </tr>\n",
       "    <tr>\n",
       "      <th>1584</th>\n",
       "      <td>imagesk/k/a/t/kat47e00/2030471844.tif</td>\n",
       "      <td>1</td>\n",
       "    </tr>\n",
       "    <tr>\n",
       "      <th>546</th>\n",
       "      <td>imagesv/v/r/c/vrc91d00/881672.tif</td>\n",
       "      <td>0</td>\n",
       "    </tr>\n",
       "    <tr>\n",
       "      <th>1580</th>\n",
       "      <td>imageso/o/m/p/omp48c00/2083778701.tif</td>\n",
       "      <td>9</td>\n",
       "    </tr>\n",
       "    <tr>\n",
       "      <th>1204</th>\n",
       "      <td>imagesy/y/r/u/yru22e00/2501042059.tif</td>\n",
       "      <td>9</td>\n",
       "    </tr>\n",
       "  </tbody>\n",
       "</table>\n",
       "</div>"
      ],
      "text/plain": [
       "                                      image label\n",
       "335   imagesv/v/v/q/vvq36c00/2072175703.tif     4\n",
       "1584  imagesk/k/a/t/kat47e00/2030471844.tif     1\n",
       "546       imagesv/v/r/c/vrc91d00/881672.tif     0\n",
       "1580  imageso/o/m/p/omp48c00/2083778701.tif     9\n",
       "1204  imagesy/y/r/u/yru22e00/2501042059.tif     9"
      ]
     },
     "metadata": {},
     "output_type": "display_data"
    },
    {
     "name": "stdout",
     "output_type": "stream",
     "text": [
      "Tail\n"
     ]
    },
    {
     "data": {
      "text/html": [
       "<div>\n",
       "<style scoped>\n",
       "    .dataframe tbody tr th:only-of-type {\n",
       "        vertical-align: middle;\n",
       "    }\n",
       "\n",
       "    .dataframe tbody tr th {\n",
       "        vertical-align: top;\n",
       "    }\n",
       "\n",
       "    .dataframe thead th {\n",
       "        text-align: right;\n",
       "    }\n",
       "</style>\n",
       "<table border=\"1\" class=\"dataframe\">\n",
       "  <thead>\n",
       "    <tr style=\"text-align: right;\">\n",
       "      <th></th>\n",
       "      <th>image</th>\n",
       "      <th>label</th>\n",
       "    </tr>\n",
       "  </thead>\n",
       "  <tbody>\n",
       "    <tr>\n",
       "      <th>1595</th>\n",
       "      <td>imagesd/d/t/k/dtk57e00/2030910473_2030910475.tif</td>\n",
       "      <td>12</td>\n",
       "    </tr>\n",
       "    <tr>\n",
       "      <th>1596</th>\n",
       "      <td>imagesj/j/w/v/jwv98d00/50412722-2723.tif</td>\n",
       "      <td>14</td>\n",
       "    </tr>\n",
       "    <tr>\n",
       "      <th>1597</th>\n",
       "      <td>imagesa/a/w/z/awz61a00/2057409812.tif</td>\n",
       "      <td>7</td>\n",
       "    </tr>\n",
       "    <tr>\n",
       "      <th>1598</th>\n",
       "      <td>imagesx/x/d/k/xdk93a00/526664130+-4135.tif</td>\n",
       "      <td>13</td>\n",
       "    </tr>\n",
       "    <tr>\n",
       "      <th>1599</th>\n",
       "      <td>imagesn/n/r/d/nrd55f00/0060084691.tif</td>\n",
       "      <td>11</td>\n",
       "    </tr>\n",
       "  </tbody>\n",
       "</table>\n",
       "</div>"
      ],
      "text/plain": [
       "                                                 image label\n",
       "1595  imagesd/d/t/k/dtk57e00/2030910473_2030910475.tif    12\n",
       "1596          imagesj/j/w/v/jwv98d00/50412722-2723.tif    14\n",
       "1597             imagesa/a/w/z/awz61a00/2057409812.tif     7\n",
       "1598        imagesx/x/d/k/xdk93a00/526664130+-4135.tif    13\n",
       "1599             imagesn/n/r/d/nrd55f00/0060084691.tif    11"
      ]
     },
     "metadata": {},
     "output_type": "display_data"
    }
   ],
   "source": [
    "display_info(df_sampled_train_labels)"
   ]
  },
  {
   "cell_type": "code",
   "execution_count": 16,
   "metadata": {
    "scrolled": true
   },
   "outputs": [
    {
     "name": "stdout",
     "output_type": "stream",
     "text": [
      "Info\n",
      "<class 'pandas.core.frame.DataFrame'>\n",
      "RangeIndex: 192 entries, 0 to 191\n",
      "Data columns (total 2 columns):\n",
      " #   Column  Non-Null Count  Dtype \n",
      "---  ------  --------------  ----- \n",
      " 0   image   192 non-null    object\n",
      " 1   label   192 non-null    object\n",
      "dtypes: object(2)\n",
      "memory usage: 3.1+ KB\n",
      "(192, 2)\n",
      "Head\n"
     ]
    },
    {
     "data": {
      "text/html": [
       "<div>\n",
       "<style scoped>\n",
       "    .dataframe tbody tr th:only-of-type {\n",
       "        vertical-align: middle;\n",
       "    }\n",
       "\n",
       "    .dataframe tbody tr th {\n",
       "        vertical-align: top;\n",
       "    }\n",
       "\n",
       "    .dataframe thead th {\n",
       "        text-align: right;\n",
       "    }\n",
       "</style>\n",
       "<table border=\"1\" class=\"dataframe\">\n",
       "  <thead>\n",
       "    <tr style=\"text-align: right;\">\n",
       "      <th></th>\n",
       "      <th>image</th>\n",
       "      <th>label</th>\n",
       "    </tr>\n",
       "  </thead>\n",
       "  <tbody>\n",
       "    <tr>\n",
       "      <th>0</th>\n",
       "      <td>imagesc/c/n/j/cnj03a00/518477227+-7228.tif</td>\n",
       "      <td>11</td>\n",
       "    </tr>\n",
       "    <tr>\n",
       "      <th>1</th>\n",
       "      <td>imagesc/c/n/f/cnf70f00/0011986732.tif</td>\n",
       "      <td>12</td>\n",
       "    </tr>\n",
       "    <tr>\n",
       "      <th>2</th>\n",
       "      <td>imagesb/b/i/e/bie70e00/85866687_85866794.tif</td>\n",
       "      <td>6</td>\n",
       "    </tr>\n",
       "    <tr>\n",
       "      <th>3</th>\n",
       "      <td>imagesp/p/r/o/pro26d00/50634495-4495.tif</td>\n",
       "      <td>6</td>\n",
       "    </tr>\n",
       "    <tr>\n",
       "      <th>4</th>\n",
       "      <td>imagesw/w/m/w/wmw15e00/2026497815.tif</td>\n",
       "      <td>0</td>\n",
       "    </tr>\n",
       "  </tbody>\n",
       "</table>\n",
       "</div>"
      ],
      "text/plain": [
       "                                          image label\n",
       "0    imagesc/c/n/j/cnj03a00/518477227+-7228.tif    11\n",
       "1         imagesc/c/n/f/cnf70f00/0011986732.tif    12\n",
       "2  imagesb/b/i/e/bie70e00/85866687_85866794.tif     6\n",
       "3      imagesp/p/r/o/pro26d00/50634495-4495.tif     6\n",
       "4         imagesw/w/m/w/wmw15e00/2026497815.tif     0"
      ]
     },
     "metadata": {},
     "output_type": "display_data"
    },
    {
     "name": "stdout",
     "output_type": "stream",
     "text": [
      "Sample\n"
     ]
    },
    {
     "data": {
      "text/html": [
       "<div>\n",
       "<style scoped>\n",
       "    .dataframe tbody tr th:only-of-type {\n",
       "        vertical-align: middle;\n",
       "    }\n",
       "\n",
       "    .dataframe tbody tr th {\n",
       "        vertical-align: top;\n",
       "    }\n",
       "\n",
       "    .dataframe thead th {\n",
       "        text-align: right;\n",
       "    }\n",
       "</style>\n",
       "<table border=\"1\" class=\"dataframe\">\n",
       "  <thead>\n",
       "    <tr style=\"text-align: right;\">\n",
       "      <th></th>\n",
       "      <th>image</th>\n",
       "      <th>label</th>\n",
       "    </tr>\n",
       "  </thead>\n",
       "  <tbody>\n",
       "    <tr>\n",
       "      <th>81</th>\n",
       "      <td>imagesr/r/l/o/rlo81a00/1000370022_1000370025.tif</td>\n",
       "      <td>13</td>\n",
       "    </tr>\n",
       "    <tr>\n",
       "      <th>184</th>\n",
       "      <td>imagesw/w/j/k/wjk90e00/92339545_92339550.tif</td>\n",
       "      <td>6</td>\n",
       "    </tr>\n",
       "    <tr>\n",
       "      <th>71</th>\n",
       "      <td>imagesm/m/b/w/mbw69e00/2028939965.tif</td>\n",
       "      <td>8</td>\n",
       "    </tr>\n",
       "    <tr>\n",
       "      <th>104</th>\n",
       "      <td>imagesv/v/g/a/vga94d00/505949779.tif</td>\n",
       "      <td>3</td>\n",
       "    </tr>\n",
       "    <tr>\n",
       "      <th>72</th>\n",
       "      <td>imagesc/c/l/p/clp07e00/2057923056_2057923066.tif</td>\n",
       "      <td>6</td>\n",
       "    </tr>\n",
       "  </tbody>\n",
       "</table>\n",
       "</div>"
      ],
      "text/plain": [
       "                                                image label\n",
       "81   imagesr/r/l/o/rlo81a00/1000370022_1000370025.tif    13\n",
       "184      imagesw/w/j/k/wjk90e00/92339545_92339550.tif     6\n",
       "71              imagesm/m/b/w/mbw69e00/2028939965.tif     8\n",
       "104              imagesv/v/g/a/vga94d00/505949779.tif     3\n",
       "72   imagesc/c/l/p/clp07e00/2057923056_2057923066.tif     6"
      ]
     },
     "metadata": {},
     "output_type": "display_data"
    },
    {
     "name": "stdout",
     "output_type": "stream",
     "text": [
      "Tail\n"
     ]
    },
    {
     "data": {
      "text/html": [
       "<div>\n",
       "<style scoped>\n",
       "    .dataframe tbody tr th:only-of-type {\n",
       "        vertical-align: middle;\n",
       "    }\n",
       "\n",
       "    .dataframe tbody tr th {\n",
       "        vertical-align: top;\n",
       "    }\n",
       "\n",
       "    .dataframe thead th {\n",
       "        text-align: right;\n",
       "    }\n",
       "</style>\n",
       "<table border=\"1\" class=\"dataframe\">\n",
       "  <thead>\n",
       "    <tr style=\"text-align: right;\">\n",
       "      <th></th>\n",
       "      <th>image</th>\n",
       "      <th>label</th>\n",
       "    </tr>\n",
       "  </thead>\n",
       "  <tbody>\n",
       "    <tr>\n",
       "      <th>187</th>\n",
       "      <td>imagesd/d/v/u/dvu36e00/2023269110.tif</td>\n",
       "      <td>9</td>\n",
       "    </tr>\n",
       "    <tr>\n",
       "      <th>188</th>\n",
       "      <td>imagest/t/i/y/tiy20e00/92313949.tif</td>\n",
       "      <td>12</td>\n",
       "    </tr>\n",
       "    <tr>\n",
       "      <th>189</th>\n",
       "      <td>imagesj/j/q/l/jql70d00/522905345+-5347.tif</td>\n",
       "      <td>4</td>\n",
       "    </tr>\n",
       "    <tr>\n",
       "      <th>190</th>\n",
       "      <td>imagesc/c/t/h/cth70e00/92758115.tif</td>\n",
       "      <td>10</td>\n",
       "    </tr>\n",
       "    <tr>\n",
       "      <th>191</th>\n",
       "      <td>imagesl/l/j/s/ljs65d00/504480257.tif</td>\n",
       "      <td>0</td>\n",
       "    </tr>\n",
       "  </tbody>\n",
       "</table>\n",
       "</div>"
      ],
      "text/plain": [
       "                                          image label\n",
       "187       imagesd/d/v/u/dvu36e00/2023269110.tif     9\n",
       "188         imagest/t/i/y/tiy20e00/92313949.tif    12\n",
       "189  imagesj/j/q/l/jql70d00/522905345+-5347.tif     4\n",
       "190         imagesc/c/t/h/cth70e00/92758115.tif    10\n",
       "191        imagesl/l/j/s/ljs65d00/504480257.tif     0"
      ]
     },
     "metadata": {},
     "output_type": "display_data"
    }
   ],
   "source": [
    "display_info(df_sampled_valid_labels)"
   ]
  },
  {
   "cell_type": "code",
   "execution_count": 17,
   "metadata": {
    "scrolled": true
   },
   "outputs": [
    {
     "name": "stdout",
     "output_type": "stream",
     "text": [
      "Info\n",
      "<class 'pandas.core.frame.DataFrame'>\n",
      "RangeIndex: 192 entries, 0 to 191\n",
      "Data columns (total 2 columns):\n",
      " #   Column  Non-Null Count  Dtype \n",
      "---  ------  --------------  ----- \n",
      " 0   image   192 non-null    object\n",
      " 1   label   192 non-null    object\n",
      "dtypes: object(2)\n",
      "memory usage: 3.1+ KB\n",
      "(192, 2)\n",
      "Head\n"
     ]
    },
    {
     "data": {
      "text/html": [
       "<div>\n",
       "<style scoped>\n",
       "    .dataframe tbody tr th:only-of-type {\n",
       "        vertical-align: middle;\n",
       "    }\n",
       "\n",
       "    .dataframe tbody tr th {\n",
       "        vertical-align: top;\n",
       "    }\n",
       "\n",
       "    .dataframe thead th {\n",
       "        text-align: right;\n",
       "    }\n",
       "</style>\n",
       "<table border=\"1\" class=\"dataframe\">\n",
       "  <thead>\n",
       "    <tr style=\"text-align: right;\">\n",
       "      <th></th>\n",
       "      <th>image</th>\n",
       "      <th>label</th>\n",
       "    </tr>\n",
       "  </thead>\n",
       "  <tbody>\n",
       "    <tr>\n",
       "      <th>0</th>\n",
       "      <td>imagesy/y/w/d/ywd60e00/93765191_93765193.tif</td>\n",
       "      <td>12</td>\n",
       "    </tr>\n",
       "    <tr>\n",
       "      <th>1</th>\n",
       "      <td>imagesv/v/z/d/vzd10d00/50370011-0012.tif</td>\n",
       "      <td>14</td>\n",
       "    </tr>\n",
       "    <tr>\n",
       "      <th>2</th>\n",
       "      <td>imagesj/j/o/s/jos96c00/CTRCONTRACTS005921-5.tif</td>\n",
       "      <td>11</td>\n",
       "    </tr>\n",
       "    <tr>\n",
       "      <th>3</th>\n",
       "      <td>imagesf/f/q/o/fqo92e00/2045620515_2045620516.tif</td>\n",
       "      <td>13</td>\n",
       "    </tr>\n",
       "    <tr>\n",
       "      <th>4</th>\n",
       "      <td>imagesp/p/w/o/pwo72c00/2078347987.tif</td>\n",
       "      <td>2</td>\n",
       "    </tr>\n",
       "  </tbody>\n",
       "</table>\n",
       "</div>"
      ],
      "text/plain": [
       "                                              image label\n",
       "0      imagesy/y/w/d/ywd60e00/93765191_93765193.tif    12\n",
       "1          imagesv/v/z/d/vzd10d00/50370011-0012.tif    14\n",
       "2   imagesj/j/o/s/jos96c00/CTRCONTRACTS005921-5.tif    11\n",
       "3  imagesf/f/q/o/fqo92e00/2045620515_2045620516.tif    13\n",
       "4             imagesp/p/w/o/pwo72c00/2078347987.tif     2"
      ]
     },
     "metadata": {},
     "output_type": "display_data"
    },
    {
     "name": "stdout",
     "output_type": "stream",
     "text": [
      "Sample\n"
     ]
    },
    {
     "data": {
      "text/html": [
       "<div>\n",
       "<style scoped>\n",
       "    .dataframe tbody tr th:only-of-type {\n",
       "        vertical-align: middle;\n",
       "    }\n",
       "\n",
       "    .dataframe tbody tr th {\n",
       "        vertical-align: top;\n",
       "    }\n",
       "\n",
       "    .dataframe thead th {\n",
       "        text-align: right;\n",
       "    }\n",
       "</style>\n",
       "<table border=\"1\" class=\"dataframe\">\n",
       "  <thead>\n",
       "    <tr style=\"text-align: right;\">\n",
       "      <th></th>\n",
       "      <th>image</th>\n",
       "      <th>label</th>\n",
       "    </tr>\n",
       "  </thead>\n",
       "  <tbody>\n",
       "    <tr>\n",
       "      <th>79</th>\n",
       "      <td>imagesq/q/o/k/qok22c00/2069729380.tif</td>\n",
       "      <td>7</td>\n",
       "    </tr>\n",
       "    <tr>\n",
       "      <th>182</th>\n",
       "      <td>imagesv/v/n/s/vns76e00/2043371020.tif</td>\n",
       "      <td>4</td>\n",
       "    </tr>\n",
       "    <tr>\n",
       "      <th>77</th>\n",
       "      <td>imagesj/j/w/l/jwl61a00/2051531022_2051531030.tif</td>\n",
       "      <td>7</td>\n",
       "    </tr>\n",
       "    <tr>\n",
       "      <th>130</th>\n",
       "      <td>imagesx/x/z/x/xzx21d00/515944137+-4142.tif</td>\n",
       "      <td>3</td>\n",
       "    </tr>\n",
       "    <tr>\n",
       "      <th>166</th>\n",
       "      <td>imagesv/v/m/a/vma56d00/50265921-5921.tif</td>\n",
       "      <td>0</td>\n",
       "    </tr>\n",
       "  </tbody>\n",
       "</table>\n",
       "</div>"
      ],
      "text/plain": [
       "                                                image label\n",
       "79              imagesq/q/o/k/qok22c00/2069729380.tif     7\n",
       "182             imagesv/v/n/s/vns76e00/2043371020.tif     4\n",
       "77   imagesj/j/w/l/jwl61a00/2051531022_2051531030.tif     7\n",
       "130        imagesx/x/z/x/xzx21d00/515944137+-4142.tif     3\n",
       "166          imagesv/v/m/a/vma56d00/50265921-5921.tif     0"
      ]
     },
     "metadata": {},
     "output_type": "display_data"
    },
    {
     "name": "stdout",
     "output_type": "stream",
     "text": [
      "Tail\n"
     ]
    },
    {
     "data": {
      "text/html": [
       "<div>\n",
       "<style scoped>\n",
       "    .dataframe tbody tr th:only-of-type {\n",
       "        vertical-align: middle;\n",
       "    }\n",
       "\n",
       "    .dataframe tbody tr th {\n",
       "        vertical-align: top;\n",
       "    }\n",
       "\n",
       "    .dataframe thead th {\n",
       "        text-align: right;\n",
       "    }\n",
       "</style>\n",
       "<table border=\"1\" class=\"dataframe\">\n",
       "  <thead>\n",
       "    <tr style=\"text-align: right;\">\n",
       "      <th></th>\n",
       "      <th>image</th>\n",
       "      <th>label</th>\n",
       "    </tr>\n",
       "  </thead>\n",
       "  <tbody>\n",
       "    <tr>\n",
       "      <th>187</th>\n",
       "      <td>imagese/e/x/t/ext98d00/50406766-6767.tif</td>\n",
       "      <td>14</td>\n",
       "    </tr>\n",
       "    <tr>\n",
       "      <th>188</th>\n",
       "      <td>imagese/e/b/u/ebu26e00/2053462247.tif</td>\n",
       "      <td>8</td>\n",
       "    </tr>\n",
       "    <tr>\n",
       "      <th>189</th>\n",
       "      <td>imagesx/x/r/u/xru26d00/50679313-9313.tif</td>\n",
       "      <td>6</td>\n",
       "    </tr>\n",
       "    <tr>\n",
       "      <th>190</th>\n",
       "      <td>imagesv/v/y/w/vyw69e00/2028982028.tif</td>\n",
       "      <td>8</td>\n",
       "    </tr>\n",
       "    <tr>\n",
       "      <th>191</th>\n",
       "      <td>imagesb/b/i/a/bia41a00/0071043880.tif</td>\n",
       "      <td>13</td>\n",
       "    </tr>\n",
       "  </tbody>\n",
       "</table>\n",
       "</div>"
      ],
      "text/plain": [
       "                                        image label\n",
       "187  imagese/e/x/t/ext98d00/50406766-6767.tif    14\n",
       "188     imagese/e/b/u/ebu26e00/2053462247.tif     8\n",
       "189  imagesx/x/r/u/xru26d00/50679313-9313.tif     6\n",
       "190     imagesv/v/y/w/vyw69e00/2028982028.tif     8\n",
       "191     imagesb/b/i/a/bia41a00/0071043880.tif    13"
      ]
     },
     "metadata": {},
     "output_type": "display_data"
    }
   ],
   "source": [
    "display_info(df_sampled_test_labels)"
   ]
  },
  {
   "cell_type": "markdown",
   "metadata": {},
   "source": [
    "### Calculate some statistics concerning images shape"
   ]
  },
  {
   "cell_type": "code",
   "execution_count": 18,
   "metadata": {},
   "outputs": [],
   "source": [
    "def calc_dataset_shape_statistics(df_dataset):\n",
    "    array_data = np.zeros((len(df_dataset.index), 3), dtype=np.int32)\n",
    "    row_index = 0\n",
    "    for row in tqdm(df_dataset.itertuples()):\n",
    "        image = cv2.imread(os.path.join(images_folder_path, row.image), cv2.IMREAD_GRAYSCALE)\n",
    "        array_data[row_index] = [image.shape[0], image.shape[1], image.shape[0]*image.shape[1]]\n",
    "        row_index += 1\n",
    "   \n",
    "    df_shapes = pd.DataFrame(data=array_data, columns=['Height', 'Width', 'Area'])\n",
    "    print(df_shapes.describe())"
   ]
  },
  {
   "cell_type": "markdown",
   "metadata": {},
   "source": [
    "#### Training set"
   ]
  },
  {
   "cell_type": "code",
   "execution_count": 19,
   "metadata": {},
   "outputs": [
    {
     "name": "stderr",
     "output_type": "stream",
     "text": [
      "1600it [02:46,  9.63it/s]"
     ]
    },
    {
     "name": "stdout",
     "output_type": "stream",
     "text": [
      "       Height        Width          Area\n",
      "count  1600.0  1600.000000  1.600000e+03\n",
      "mean   1000.0   767.636250  7.676362e+05\n",
      "std       0.0    49.844275  4.984427e+04\n",
      "min    1000.0   611.000000  6.110000e+05\n",
      "25%    1000.0   754.000000  7.540000e+05\n",
      "50%    1000.0   761.500000  7.615000e+05\n",
      "75%    1000.0   777.000000  7.770000e+05\n",
      "max    1000.0  2405.000000  2.405000e+06\n"
     ]
    },
    {
     "name": "stderr",
     "output_type": "stream",
     "text": [
      "\n"
     ]
    }
   ],
   "source": [
    "calc_dataset_shape_statistics(df_sampled_train_labels)"
   ]
  },
  {
   "cell_type": "markdown",
   "metadata": {},
   "source": [
    "#### Validation set"
   ]
  },
  {
   "cell_type": "code",
   "execution_count": 20,
   "metadata": {},
   "outputs": [
    {
     "name": "stderr",
     "output_type": "stream",
     "text": [
      "192it [00:18, 10.42it/s]"
     ]
    },
    {
     "name": "stdout",
     "output_type": "stream",
     "text": [
      "       Height       Width           Area\n",
      "count   192.0  192.000000     192.000000\n",
      "mean   1000.0  765.911458  765911.458333\n",
      "std       0.0   20.952639   20952.638539\n",
      "min    1000.0  611.000000  611000.000000\n",
      "25%    1000.0  754.000000  754000.000000\n",
      "50%    1000.0  758.000000  758000.000000\n",
      "75%    1000.0  777.000000  777000.000000\n",
      "max    1000.0  874.000000  874000.000000\n"
     ]
    },
    {
     "name": "stderr",
     "output_type": "stream",
     "text": [
      "\n"
     ]
    }
   ],
   "source": [
    "calc_dataset_shape_statistics(df_sampled_valid_labels)"
   ]
  },
  {
   "cell_type": "markdown",
   "metadata": {},
   "source": [
    "#### Test set"
   ]
  },
  {
   "cell_type": "code",
   "execution_count": 21,
   "metadata": {},
   "outputs": [
    {
     "name": "stderr",
     "output_type": "stream",
     "text": [
      "192it [00:17, 10.89it/s]"
     ]
    },
    {
     "name": "stdout",
     "output_type": "stream",
     "text": [
      "       Height       Width           Area\n",
      "count   192.0  192.000000     192.000000\n",
      "mean   1000.0  765.817708  765817.708333\n",
      "std       0.0   26.732984   26732.984488\n",
      "min    1000.0  615.000000  615000.000000\n",
      "25%    1000.0  754.000000  754000.000000\n",
      "50%    1000.0  762.000000  762000.000000\n",
      "75%    1000.0  777.000000  777000.000000\n",
      "max    1000.0  870.000000  870000.000000\n"
     ]
    },
    {
     "name": "stderr",
     "output_type": "stream",
     "text": [
      "\n"
     ]
    }
   ],
   "source": [
    "calc_dataset_shape_statistics(df_sampled_test_labels)"
   ]
  },
  {
   "cell_type": "markdown",
   "metadata": {},
   "source": [
    "## Preprocessing and mini-dataset generation"
   ]
  },
  {
   "cell_type": "markdown",
   "metadata": {},
   "source": [
    "### Functions"
   ]
  },
  {
   "cell_type": "markdown",
   "metadata": {},
   "source": [
    "**get_target_shape_from_dataset**: Calculates the dimension to resize all mini-dataset images at. This dimension have the width of the wider image in the specified the dataset and the height of the taller image. A black border will be added to smaller images."
   ]
  },
  {
   "cell_type": "code",
   "execution_count": 22,
   "metadata": {},
   "outputs": [],
   "source": [
    "def get_target_shape_from_dataset(df_dataset):\n",
    "    image = cv2.imread(os.path.join(images_folder_path, df_dataset.iloc[0].image), cv2.IMREAD_GRAYSCALE)\n",
    "    target_shape = image.shape\n",
    "\n",
    "    for row in tqdm(df_dataset.itertuples()):\n",
    "        image = cv2.imread(os.path.join(images_folder_path, row.image), cv2.IMREAD_GRAYSCALE)\n",
    "        if image.shape[0] > target_shape[0]:\n",
    "            target_shape = (image.shape[0], target_shape[1])\n",
    "        if image.shape[1] > target_shape[1]:\n",
    "            target_shape = (target_shape[0], image.shape[1])\n",
    "            \n",
    "    return target_shape"
   ]
  },
  {
   "cell_type": "markdown",
   "metadata": {},
   "source": [
    "**reshape_image**: Resizes the specified images to the target shape, adding a black border to the image. We observed that all images have the same height, so a rescale is not necessary. Adding a black border instead of a white one could be a hint to the CNN to focus on the center of the image."
   ]
  },
  {
   "cell_type": "code",
   "execution_count": 23,
   "metadata": {},
   "outputs": [],
   "source": [
    "def reshape_image(image, target_shape):\n",
    "    reshaped = np.zeros((target_shape[0], target_shape[1]), dtype=int)\n",
    "    row_start = (target_shape[0] - image.shape[0])//2\n",
    "    col_start = (target_shape[1] - image.shape[1])//2\n",
    "    reshaped[row_start:row_start + image.shape[0], col_start:col_start + image.shape[1]] = image\n",
    "    return reshaped"
   ]
  },
  {
   "cell_type": "markdown",
   "metadata": {},
   "source": [
    "**normalize_image**: Normalizes all pixel values of the specified image."
   ]
  },
  {
   "cell_type": "code",
   "execution_count": 24,
   "metadata": {},
   "outputs": [],
   "source": [
    "def normalize_image(image):\n",
    "    image_array = np.asarray(image, dtype=np.float32)\n",
    "    return image_array / 255"
   ]
  },
  {
   "cell_type": "markdown",
   "metadata": {},
   "source": [
    "**generate_minidataset**: Creates in the specified hdf5 file a dataset with name _dataset_name_ ,  preprocesses the data in the dataframe _df_ and fills the dataset with them"
   ]
  },
  {
   "cell_type": "code",
   "execution_count": 25,
   "metadata": {},
   "outputs": [],
   "source": [
    "def generate_minidataset(hdf_file, df, dataset_name):\n",
    "    n_debug_images = 5\n",
    "    # Number of image composing the batch to be written into the dataset at the same time (details below)\n",
    "    batch_dimension = 64\n",
    "    n_imgs = len(df.index)\n",
    "\n",
    "    print(\"Generating dataset \" + dataset_name + \" - \" + str(n_imgs) + \" images\")\n",
    "    \n",
    "    dataset_imgs = hdf_file.create_dataset(dataset_name, (n_imgs, target_shape[0], target_shape[1]),\\\n",
    "                                      dtype=\"float32\", compression=\"gzip\")\n",
    "    dataset_labels = hdf_file.create_dataset(dataset_name + \"_labels\", (n_imgs, n_classes),\\\n",
    "                                      dtype=\"float32\", compression=\"gzip\")\n",
    "    \n",
    "    # Convert labels column of the dataframe to one-hot encoding to be used by keras\n",
    "    df[\"label\"] = to_categorical(df[\"label\"], num_classes=n_classes)\n",
    "    \n",
    "    # Arrays to store batch data\n",
    "    batch_array_imgs = np.zeros((batch_dimension, target_shape[0], target_shape[1]), dtype=np.float32)\n",
    "    batch_array_labels = np.zeros((batch_dimension, n_classes))\n",
    "    \n",
    "    batch_index = 0\n",
    "    batch_number = 0\n",
    "    for row in tqdm(df.itertuples()):\n",
    "        image = cv2.imread(os.path.join(images_folder_path, row.image), cv2.IMREAD_GRAYSCALE)\n",
    "        reshaped = reshape_image(image, target_shape)\n",
    "        normalized = normalize_image(reshaped)\n",
    "        \n",
    "        # Put image and label into batch arrays\n",
    "        batch_array_imgs[batch_index] = normalized\n",
    "        batch_array_labels[batch_index] = row.label\n",
    "\n",
    "        # Save some reshaped images to manually check them\n",
    "        if n_debug_images > 0:\n",
    "            image_name = os.path.basename(row.image)\n",
    "            cv2.imwrite(os.path.join(debug_folder_reshaped_imgs, dataset_name + \"-\" + image_name), reshaped)\n",
    "            n_debug_images -= 1\n",
    "        \n",
    "        # Save data into database in batches to speedup the writing process and save RAM memory at the same time\n",
    "        if batch_index == batch_dimension - 1:\n",
    "            start_index = batch_number*batch_dimension\n",
    "            end_index = start_index + batch_dimension\n",
    "            dataset_imgs[start_index:end_index,:,:] = batch_array_imgs\n",
    "            dataset_labels[start_index:end_index,:] = batch_array_labels\n",
    "            \n",
    "            batch_index = 0\n",
    "            batch_number += 1\n",
    "            \n",
    "        batch_index += 1\n",
    "    \n",
    "    # Write remaining data inside the batches into the dataset\n",
    "    if batch_index != 0:\n",
    "        start_index = batch_number*batch_dimension\n",
    "        end_index = start_index + batch_dimension\n",
    "        dataset_imgs[start_index:end_index,:,:] = batch_array_imgs[:batch_index,:,:]\n",
    "        dataset_labels[start_index:end_index,:] = batch_array_labels[:batch_index,:]"
   ]
  },
  {
   "cell_type": "markdown",
   "metadata": {},
   "source": [
    "#### Calculate the dimension to resize all mini-dataset images at"
   ]
  },
  {
   "cell_type": "code",
   "execution_count": 29,
   "metadata": {
    "scrolled": false
   },
   "outputs": [
    {
     "name": "stderr",
     "output_type": "stream",
     "text": [
      "4it [00:00, 39.02it/s]"
     ]
    },
    {
     "name": "stdout",
     "output_type": "stream",
     "text": [
      "Iterating through training set\n"
     ]
    },
    {
     "name": "stderr",
     "output_type": "stream",
     "text": [
      "1600it [01:08, 23.37it/s]\n",
      "4it [00:00, 35.37it/s]"
     ]
    },
    {
     "name": "stdout",
     "output_type": "stream",
     "text": [
      "Iterating through validation set\n"
     ]
    },
    {
     "name": "stderr",
     "output_type": "stream",
     "text": [
      "192it [00:08, 23.41it/s]\n",
      "5it [00:00, 41.35it/s]"
     ]
    },
    {
     "name": "stdout",
     "output_type": "stream",
     "text": [
      "Iterating through test set\n"
     ]
    },
    {
     "name": "stderr",
     "output_type": "stream",
     "text": [
      "192it [00:08, 23.98it/s]"
     ]
    },
    {
     "name": "stdout",
     "output_type": "stream",
     "text": [
      "Target shape: (1000, 2405)\n"
     ]
    },
    {
     "name": "stderr",
     "output_type": "stream",
     "text": [
      "\n"
     ]
    }
   ],
   "source": [
    "print(\"Iterating through training set\")\n",
    "target_shape_train = get_target_shape_from_dataset(df_sampled_train_labels)\n",
    "print(\"Iterating through validation set\")\n",
    "target_shape_valid = get_target_shape_from_dataset(df_sampled_valid_labels)\n",
    "print(\"Iterating through test set\")\n",
    "target_shape_test = get_target_shape_from_dataset(df_sampled_test_labels)\n",
    "\n",
    "# The target image shape is the smaller among all datasets\n",
    "target_shape = (np.max([target_shape_train[0], target_shape_valid[0], target_shape_test[0]]),\\\n",
    "                np.max([target_shape_train[1], target_shape_valid[1], target_shape_test[1]]))\n",
    "\n",
    "print(\"Target shape: \" + str(target_shape))"
   ]
  },
  {
   "cell_type": "markdown",
   "metadata": {},
   "source": [
    "#### Generates a HDF5 file containing the mini-dataset. For each set (train, validation, test) a different dataset is created inside the file"
   ]
  },
  {
   "cell_type": "code",
   "execution_count": 30,
   "metadata": {
    "scrolled": true
   },
   "outputs": [
    {
     "name": "stderr",
     "output_type": "stream",
     "text": [
      "2it [00:00, 16.01it/s]"
     ]
    },
    {
     "name": "stdout",
     "output_type": "stream",
     "text": [
      "Generating dataset train - 1600 images\n"
     ]
    },
    {
     "name": "stderr",
     "output_type": "stream",
     "text": [
      "15it [00:00, 26.52it/s]\n",
      "2it [00:00, 19.68it/s]"
     ]
    },
    {
     "name": "stdout",
     "output_type": "stream",
     "text": [
      "*** KeyboardInterrupt exception caught in code being profiled.Generating dataset valid - 192 images\n"
     ]
    },
    {
     "name": "stderr",
     "output_type": "stream",
     "text": [
      "126it [00:09, 12.61it/s]\n"
     ]
    },
    {
     "ename": "KeyboardInterrupt",
     "evalue": "",
     "output_type": "error",
     "traceback": [
      "\u001b[0;31m---------------------------------------------------------------------------\u001b[0m",
      "\u001b[0;31mKeyboardInterrupt\u001b[0m                         Traceback (most recent call last)",
      "\u001b[0;32m<ipython-input-30-8bf24f5117d0>\u001b[0m in \u001b[0;36m<module>\u001b[0;34m\u001b[0m\n\u001b[1;32m      4\u001b[0m     \u001b[0;31m# each dataframe\u001b[0m\u001b[0;34m\u001b[0m\u001b[0;34m\u001b[0m\u001b[0;34m\u001b[0m\u001b[0m\n\u001b[1;32m      5\u001b[0m     \u001b[0mget_ipython\u001b[0m\u001b[0;34m(\u001b[0m\u001b[0;34m)\u001b[0m\u001b[0;34m.\u001b[0m\u001b[0mrun_line_magic\u001b[0m\u001b[0;34m(\u001b[0m\u001b[0;34m'lprun'\u001b[0m\u001b[0;34m,\u001b[0m \u001b[0;34m'-f generate_minidataset generate_minidataset(hdf_file, df_sampled_train_labels.copy(), \"train\")'\u001b[0m\u001b[0;34m)\u001b[0m\u001b[0;34m\u001b[0m\u001b[0;34m\u001b[0m\u001b[0m\n\u001b[0;32m----> 6\u001b[0;31m     \u001b[0mgenerate_minidataset\u001b[0m\u001b[0;34m(\u001b[0m\u001b[0mhdf_file\u001b[0m\u001b[0;34m,\u001b[0m \u001b[0mdf_sampled_valid_labels\u001b[0m\u001b[0;34m.\u001b[0m\u001b[0mcopy\u001b[0m\u001b[0;34m(\u001b[0m\u001b[0;34m)\u001b[0m\u001b[0;34m,\u001b[0m \u001b[0;34m\"valid\"\u001b[0m\u001b[0;34m)\u001b[0m\u001b[0;34m\u001b[0m\u001b[0;34m\u001b[0m\u001b[0m\n\u001b[0m\u001b[1;32m      7\u001b[0m     \u001b[0mgenerate_minidataset\u001b[0m\u001b[0;34m(\u001b[0m\u001b[0mhdf_file\u001b[0m\u001b[0;34m,\u001b[0m \u001b[0mdf_sampled_test_labels\u001b[0m\u001b[0;34m.\u001b[0m\u001b[0mcopy\u001b[0m\u001b[0;34m(\u001b[0m\u001b[0;34m)\u001b[0m\u001b[0;34m,\u001b[0m \u001b[0;34m\"test\"\u001b[0m\u001b[0;34m)\u001b[0m\u001b[0;34m\u001b[0m\u001b[0;34m\u001b[0m\u001b[0m\n",
      "\u001b[0;32m<ipython-input-25-e7eef97320dc>\u001b[0m in \u001b[0;36mgenerate_minidataset\u001b[0;34m(hdf_file, df, dataset_name)\u001b[0m\n\u001b[1;32m     40\u001b[0m             \u001b[0mstart_index\u001b[0m \u001b[0;34m=\u001b[0m \u001b[0mbatch_number\u001b[0m\u001b[0;34m*\u001b[0m\u001b[0mbatch_dimension\u001b[0m\u001b[0;34m\u001b[0m\u001b[0;34m\u001b[0m\u001b[0m\n\u001b[1;32m     41\u001b[0m             \u001b[0mend_index\u001b[0m \u001b[0;34m=\u001b[0m \u001b[0mstart_index\u001b[0m \u001b[0;34m+\u001b[0m \u001b[0mbatch_dimension\u001b[0m\u001b[0;34m\u001b[0m\u001b[0;34m\u001b[0m\u001b[0m\n\u001b[0;32m---> 42\u001b[0;31m             \u001b[0mdataset_imgs\u001b[0m\u001b[0;34m[\u001b[0m\u001b[0mstart_index\u001b[0m\u001b[0;34m:\u001b[0m\u001b[0mend_index\u001b[0m\u001b[0;34m,\u001b[0m\u001b[0;34m:\u001b[0m\u001b[0;34m,\u001b[0m\u001b[0;34m:\u001b[0m\u001b[0;34m]\u001b[0m \u001b[0;34m=\u001b[0m \u001b[0mbatch_array_imgs\u001b[0m\u001b[0;34m\u001b[0m\u001b[0;34m\u001b[0m\u001b[0m\n\u001b[0m\u001b[1;32m     43\u001b[0m             \u001b[0mdataset_labels\u001b[0m\u001b[0;34m[\u001b[0m\u001b[0mstart_index\u001b[0m\u001b[0;34m:\u001b[0m\u001b[0mend_index\u001b[0m\u001b[0;34m,\u001b[0m\u001b[0;34m:\u001b[0m\u001b[0;34m]\u001b[0m \u001b[0;34m=\u001b[0m \u001b[0mbatch_array_labels\u001b[0m\u001b[0;34m\u001b[0m\u001b[0;34m\u001b[0m\u001b[0m\n\u001b[1;32m     44\u001b[0m \u001b[0;34m\u001b[0m\u001b[0m\n",
      "\u001b[0;32mh5py/_objects.pyx\u001b[0m in \u001b[0;36mh5py._objects.with_phil.wrapper\u001b[0;34m()\u001b[0m\n",
      "\u001b[0;32mh5py/_objects.pyx\u001b[0m in \u001b[0;36mh5py._objects.with_phil.wrapper\u001b[0;34m()\u001b[0m\n",
      "\u001b[0;32m~/anaconda3/envs/neural_nets/lib/python3.7/site-packages/h5py/_hl/dataset.py\u001b[0m in \u001b[0;36m__setitem__\u001b[0;34m(self, args, val)\u001b[0m\n\u001b[1;32m    630\u001b[0m         \u001b[0mmspace\u001b[0m \u001b[0;34m=\u001b[0m \u001b[0mh5s\u001b[0m\u001b[0;34m.\u001b[0m\u001b[0mcreate_simple\u001b[0m\u001b[0;34m(\u001b[0m\u001b[0mmshape_pad\u001b[0m\u001b[0;34m,\u001b[0m \u001b[0;34m(\u001b[0m\u001b[0mh5s\u001b[0m\u001b[0;34m.\u001b[0m\u001b[0mUNLIMITED\u001b[0m\u001b[0;34m,\u001b[0m\u001b[0;34m)\u001b[0m\u001b[0;34m*\u001b[0m\u001b[0mlen\u001b[0m\u001b[0;34m(\u001b[0m\u001b[0mmshape_pad\u001b[0m\u001b[0;34m)\u001b[0m\u001b[0;34m)\u001b[0m\u001b[0;34m\u001b[0m\u001b[0;34m\u001b[0m\u001b[0m\n\u001b[1;32m    631\u001b[0m         \u001b[0;32mfor\u001b[0m \u001b[0mfspace\u001b[0m \u001b[0;32min\u001b[0m \u001b[0mselection\u001b[0m\u001b[0;34m.\u001b[0m\u001b[0mbroadcast\u001b[0m\u001b[0;34m(\u001b[0m\u001b[0mmshape\u001b[0m\u001b[0;34m)\u001b[0m\u001b[0;34m:\u001b[0m\u001b[0;34m\u001b[0m\u001b[0;34m\u001b[0m\u001b[0m\n\u001b[0;32m--> 632\u001b[0;31m             \u001b[0mself\u001b[0m\u001b[0;34m.\u001b[0m\u001b[0mid\u001b[0m\u001b[0;34m.\u001b[0m\u001b[0mwrite\u001b[0m\u001b[0;34m(\u001b[0m\u001b[0mmspace\u001b[0m\u001b[0;34m,\u001b[0m \u001b[0mfspace\u001b[0m\u001b[0;34m,\u001b[0m \u001b[0mval\u001b[0m\u001b[0;34m,\u001b[0m \u001b[0mmtype\u001b[0m\u001b[0;34m,\u001b[0m \u001b[0mdxpl\u001b[0m\u001b[0;34m=\u001b[0m\u001b[0mself\u001b[0m\u001b[0;34m.\u001b[0m\u001b[0m_dxpl\u001b[0m\u001b[0;34m)\u001b[0m\u001b[0;34m\u001b[0m\u001b[0;34m\u001b[0m\u001b[0m\n\u001b[0m\u001b[1;32m    633\u001b[0m \u001b[0;34m\u001b[0m\u001b[0m\n\u001b[1;32m    634\u001b[0m     \u001b[0;32mdef\u001b[0m \u001b[0mread_direct\u001b[0m\u001b[0;34m(\u001b[0m\u001b[0mself\u001b[0m\u001b[0;34m,\u001b[0m \u001b[0mdest\u001b[0m\u001b[0;34m,\u001b[0m \u001b[0msource_sel\u001b[0m\u001b[0;34m=\u001b[0m\u001b[0;32mNone\u001b[0m\u001b[0;34m,\u001b[0m \u001b[0mdest_sel\u001b[0m\u001b[0;34m=\u001b[0m\u001b[0;32mNone\u001b[0m\u001b[0;34m)\u001b[0m\u001b[0;34m:\u001b[0m\u001b[0;34m\u001b[0m\u001b[0;34m\u001b[0m\u001b[0m\n",
      "\u001b[0;31mKeyboardInterrupt\u001b[0m: "
     ]
    }
   ],
   "source": [
    "with h5py.File(os.path.join(output_folder, 'data.h5'), 'w') as hdf_file:\n",
    "    # Instead of passing a copy of each dataframe we could directly pass the dataframe to save memory and time\n",
    "    # generate_minidataset modify te dataframe so in the development phase i need to retain a clean state of\n",
    "    # each dataframe\n",
    "    %lprun -f generate_minidataset generate_minidataset(hdf_file, df_sampled_train_labels.copy(), \"train\")\n",
    "    generate_minidataset(hdf_file, df_sampled_valid_labels.copy(), \"valid\")\n",
    "    generate_minidataset(hdf_file, df_sampled_test_labels.copy(), \"test\")"
   ]
  },
  {
   "cell_type": "markdown",
   "metadata": {},
   "source": [
    "#### Read some data from the generated HFD5 file and reconvert them to images to verify the correctness of the datasets"
   ]
  },
  {
   "cell_type": "code",
   "execution_count": null,
   "metadata": {},
   "outputs": [],
   "source": [
    "n_debug_images = 5\n",
    "\n",
    "with h5py.File(os.path.join(output_folder, 'data.h5'), 'r') as hdf_file:\n",
    "    ds_train = hdf_file[\"train\"]\n",
    "    for i in range(n_debug_images):\n",
    "        normalized_image = ds_train[i]\n",
    "        print(\"Image \" + str(i) + \" - shape: \" + str(normalized_image.shape))\n",
    "        # Bring back pixel values to the [0,255] range\n",
    "        image = np.asarray(normalized_image * 255, dtype=np.int32)\n",
    "        cv2.imwrite(os.path.join(debug_folder_dataset_imgs, \"img-\" + str(i) + \".tif\"), image)"
   ]
  },
  {
   "cell_type": "code",
   "execution_count": null,
   "metadata": {},
   "outputs": [],
   "source": [
    "lprun?"
   ]
  }
 ],
 "metadata": {
  "kernelspec": {
   "display_name": "Python 3",
   "language": "python",
   "name": "python3"
  },
  "language_info": {
   "codemirror_mode": {
    "name": "ipython",
    "version": 3
   },
   "file_extension": ".py",
   "mimetype": "text/x-python",
   "name": "python",
   "nbconvert_exporter": "python",
   "pygments_lexer": "ipython3",
   "version": "3.7.7"
  }
 },
 "nbformat": 4,
 "nbformat_minor": 4
}
